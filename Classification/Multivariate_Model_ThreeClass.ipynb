{
 "cells": [
  {
   "cell_type": "code",
   "execution_count": null,
   "metadata": {},
   "outputs": [
    {
     "name": "stderr",
     "output_type": "stream",
     "text": [
      "Using TensorFlow backend.\n"
     ]
    }
   ],
   "source": [
    "import numpy as np\n",
    "import pandas as pd\n",
    "from pandas import crosstab\n",
    "# import statsmodels.api as sm\n",
    "import scipy.stats as stats\n",
    "from sklearn.preprocessing import StandardScaler, MinMaxScaler\n",
    "from sklearn.metrics import roc_curve, roc_auc_score, auc, classification_report, confusion_matrix, accuracy_score, f1_score, recall_score, precision_score, precision_recall_curve\n",
    "from sklearn.model_selection import RandomizedSearchCV, GridSearchCV, cross_val_score, KFold, StratifiedKFold, cross_validate, train_test_split\n",
    "from sklearn.multiclass import OneVsRestClassifier, OneVsOneClassifier, OutputCodeClassifier\n",
    "from sklearn.linear_model import LogisticRegression\n",
    "from sklearn.ensemble import RandomForestClassifier\n",
    "from sklearn.svm import SVC\n",
    "from sklearn.naive_bayes import GaussianNB\n",
    "from xgboost.sklearn import XGBClassifier\n",
    "import xgboost as xgb\n",
    "from collections import Counter\n",
    "from imblearn.over_sampling import SMOTE\n",
    "\n",
    "pd.set_option('display.max_columns', 60)\n",
    "pd.set_option('display.max_rows', 70)"
   ]
  },
  {
   "cell_type": "code",
   "execution_count": 2,
   "metadata": {},
   "outputs": [],
   "source": [
    "df = pd.read_csv(r'C:\\Users\\1130j\\Desktop\\Yale\\Data\\all_recent_tweets_text_score_8_parsed_noDup.csv')"
   ]
  },
  {
   "cell_type": "code",
   "execution_count": 3,
   "metadata": {},
   "outputs": [],
   "source": [
    "df = df.loc[df['classname'] != 'awareness']\n",
    "df.loc[df['classname']=='None', 'class'] = 0\n",
    "df.loc[df['classname']=='pain', 'class'] = 1\n",
    "df.loc[df['classname'].isin(['pleasure', 'addiction']), 'class'] = 2"
   ]
  },
  {
   "cell_type": "markdown",
   "metadata": {},
   "source": [
    "### Group Pleasure and Addiction together"
   ]
  },
  {
   "cell_type": "code",
   "execution_count": 4,
   "metadata": {},
   "outputs": [
    {
     "data": {
      "text/html": [
       "<div>\n",
       "<style scoped>\n",
       "    .dataframe tbody tr th:only-of-type {\n",
       "        vertical-align: middle;\n",
       "    }\n",
       "\n",
       "    .dataframe tbody tr th {\n",
       "        vertical-align: top;\n",
       "    }\n",
       "\n",
       "    .dataframe thead th {\n",
       "        text-align: right;\n",
       "    }\n",
       "</style>\n",
       "<table border=\"1\" class=\"dataframe\">\n",
       "  <thead>\n",
       "    <tr style=\"text-align: right;\">\n",
       "      <th>classname</th>\n",
       "      <th>None</th>\n",
       "      <th>addiction</th>\n",
       "      <th>pain</th>\n",
       "      <th>pleasure</th>\n",
       "    </tr>\n",
       "    <tr>\n",
       "      <th>class</th>\n",
       "      <th></th>\n",
       "      <th></th>\n",
       "      <th></th>\n",
       "      <th></th>\n",
       "    </tr>\n",
       "  </thead>\n",
       "  <tbody>\n",
       "    <tr>\n",
       "      <th>0</th>\n",
       "      <td>166</td>\n",
       "      <td>0</td>\n",
       "      <td>0</td>\n",
       "      <td>0</td>\n",
       "    </tr>\n",
       "    <tr>\n",
       "      <th>1</th>\n",
       "      <td>0</td>\n",
       "      <td>0</td>\n",
       "      <td>229</td>\n",
       "      <td>0</td>\n",
       "    </tr>\n",
       "    <tr>\n",
       "      <th>2</th>\n",
       "      <td>0</td>\n",
       "      <td>197</td>\n",
       "      <td>0</td>\n",
       "      <td>572</td>\n",
       "    </tr>\n",
       "  </tbody>\n",
       "</table>\n",
       "</div>"
      ],
      "text/plain": [
       "classname  None  addiction  pain  pleasure\n",
       "class                                     \n",
       "0           166          0     0         0\n",
       "1             0          0   229         0\n",
       "2             0        197     0       572"
      ]
     },
     "execution_count": 4,
     "metadata": {},
     "output_type": "execute_result"
    }
   ],
   "source": [
    "crosstab(df['class'], df['classname'])"
   ]
  },
  {
   "cell_type": "markdown",
   "metadata": {},
   "source": [
    "### Train Test Split"
   ]
  },
  {
   "cell_type": "code",
   "execution_count": 65,
   "metadata": {},
   "outputs": [],
   "source": [
    "train, test = train_test_split(df,test_size=0.3,random_state=0,stratify=df['class'])"
   ]
  },
  {
   "cell_type": "code",
   "execution_count": 66,
   "metadata": {},
   "outputs": [],
   "source": [
    "num_features = train.columns.difference(['class', 'classname', 'user_id', 'screen_name'])\n",
    "# num_features"
   ]
  },
  {
   "cell_type": "code",
   "execution_count": 67,
   "metadata": {},
   "outputs": [],
   "source": [
    "# scaler = StandardScaler()\n",
    "# train[num_features] = scaler.fit_transform(train[num_features])\n",
    "# test[num_features] = scaler.fit_transform(test[num_features])"
   ]
  },
  {
   "cell_type": "code",
   "execution_count": 68,
   "metadata": {},
   "outputs": [
    {
     "data": {
      "text/html": [
       "<div>\n",
       "<style scoped>\n",
       "    .dataframe tbody tr th:only-of-type {\n",
       "        vertical-align: middle;\n",
       "    }\n",
       "\n",
       "    .dataframe tbody tr th {\n",
       "        vertical-align: top;\n",
       "    }\n",
       "\n",
       "    .dataframe thead th {\n",
       "        text-align: right;\n",
       "    }\n",
       "</style>\n",
       "<table border=\"1\" class=\"dataframe\">\n",
       "  <thead>\n",
       "    <tr style=\"text-align: right;\">\n",
       "      <th></th>\n",
       "      <th>active</th>\n",
       "      <th>adjustment</th>\n",
       "      <th>adventurous</th>\n",
       "      <th>aggressive</th>\n",
       "      <th>agreeableness</th>\n",
       "      <th>ambitious</th>\n",
       "      <th>anxious</th>\n",
       "      <th>artistic</th>\n",
       "      <th>assertive</th>\n",
       "      <th>body_focus</th>\n",
       "      <th>cautious</th>\n",
       "      <th>cheerful</th>\n",
       "      <th>cold</th>\n",
       "      <th>conscientiousness</th>\n",
       "      <th>cooperative</th>\n",
       "      <th>depression</th>\n",
       "      <th>disciplined</th>\n",
       "      <th>dutiful</th>\n",
       "      <th>emotionally_aware</th>\n",
       "      <th>empathetic</th>\n",
       "      <th>energetic</th>\n",
       "      <th>extraversion</th>\n",
       "      <th>family_oriented</th>\n",
       "      <th>food_focus</th>\n",
       "      <th>friend_focus</th>\n",
       "      <th>friendly</th>\n",
       "      <th>generous</th>\n",
       "      <th>genuine</th>\n",
       "      <th>happiness</th>\n",
       "      <th>health_oriented</th>\n",
       "      <th>humble</th>\n",
       "      <th>imaginative</th>\n",
       "      <th>impulsive</th>\n",
       "      <th>independent</th>\n",
       "      <th>insecure</th>\n",
       "      <th>intellectual</th>\n",
       "      <th>leisure_oriented</th>\n",
       "      <th>liberal</th>\n",
       "      <th>melancholy</th>\n",
       "      <th>money_oriented</th>\n",
       "      <th>netspeak_focus</th>\n",
       "      <th>neuroticism</th>\n",
       "      <th>openness</th>\n",
       "      <th>organized</th>\n",
       "      <th>persuasive</th>\n",
       "      <th>power_driven</th>\n",
       "      <th>religion_oriented</th>\n",
       "      <th>reward_bias</th>\n",
       "      <th>self_assured</th>\n",
       "      <th>self_conscious</th>\n",
       "      <th>sexual_focus</th>\n",
       "      <th>sociable</th>\n",
       "      <th>social_skills</th>\n",
       "      <th>stressed</th>\n",
       "      <th>thinking_style</th>\n",
       "      <th>trusting</th>\n",
       "      <th>type_a</th>\n",
       "      <th>work_oriented</th>\n",
       "      <th>workhorse</th>\n",
       "    </tr>\n",
       "    <tr>\n",
       "      <th>class</th>\n",
       "      <th></th>\n",
       "      <th></th>\n",
       "      <th></th>\n",
       "      <th></th>\n",
       "      <th></th>\n",
       "      <th></th>\n",
       "      <th></th>\n",
       "      <th></th>\n",
       "      <th></th>\n",
       "      <th></th>\n",
       "      <th></th>\n",
       "      <th></th>\n",
       "      <th></th>\n",
       "      <th></th>\n",
       "      <th></th>\n",
       "      <th></th>\n",
       "      <th></th>\n",
       "      <th></th>\n",
       "      <th></th>\n",
       "      <th></th>\n",
       "      <th></th>\n",
       "      <th></th>\n",
       "      <th></th>\n",
       "      <th></th>\n",
       "      <th></th>\n",
       "      <th></th>\n",
       "      <th></th>\n",
       "      <th></th>\n",
       "      <th></th>\n",
       "      <th></th>\n",
       "      <th></th>\n",
       "      <th></th>\n",
       "      <th></th>\n",
       "      <th></th>\n",
       "      <th></th>\n",
       "      <th></th>\n",
       "      <th></th>\n",
       "      <th></th>\n",
       "      <th></th>\n",
       "      <th></th>\n",
       "      <th></th>\n",
       "      <th></th>\n",
       "      <th></th>\n",
       "      <th></th>\n",
       "      <th></th>\n",
       "      <th></th>\n",
       "      <th></th>\n",
       "      <th></th>\n",
       "      <th></th>\n",
       "      <th></th>\n",
       "      <th></th>\n",
       "      <th></th>\n",
       "      <th></th>\n",
       "      <th></th>\n",
       "      <th></th>\n",
       "      <th></th>\n",
       "      <th></th>\n",
       "      <th></th>\n",
       "      <th></th>\n",
       "    </tr>\n",
       "  </thead>\n",
       "  <tbody>\n",
       "    <tr>\n",
       "      <th>0</th>\n",
       "      <td>60.833320</td>\n",
       "      <td>6.498026</td>\n",
       "      <td>48.327608</td>\n",
       "      <td>56.242587</td>\n",
       "      <td>38.953222</td>\n",
       "      <td>51.073313</td>\n",
       "      <td>39.634743</td>\n",
       "      <td>44.992141</td>\n",
       "      <td>67.032800</td>\n",
       "      <td>42.750569</td>\n",
       "      <td>51.037259</td>\n",
       "      <td>43.770584</td>\n",
       "      <td>49.054788</td>\n",
       "      <td>51.997241</td>\n",
       "      <td>46.330993</td>\n",
       "      <td>82.019595</td>\n",
       "      <td>50.523656</td>\n",
       "      <td>51.627161</td>\n",
       "      <td>44.011413</td>\n",
       "      <td>43.549857</td>\n",
       "      <td>43.498594</td>\n",
       "      <td>53.000525</td>\n",
       "      <td>43.605299</td>\n",
       "      <td>43.243399</td>\n",
       "      <td>38.386965</td>\n",
       "      <td>38.646356</td>\n",
       "      <td>35.106537</td>\n",
       "      <td>48.762154</td>\n",
       "      <td>43.626146</td>\n",
       "      <td>40.737194</td>\n",
       "      <td>49.220178</td>\n",
       "      <td>39.956073</td>\n",
       "      <td>46.421767</td>\n",
       "      <td>60.114689</td>\n",
       "      <td>50.501746</td>\n",
       "      <td>62.606287</td>\n",
       "      <td>52.175939</td>\n",
       "      <td>43.288438</td>\n",
       "      <td>46.997139</td>\n",
       "      <td>54.260934</td>\n",
       "      <td>39.194855</td>\n",
       "      <td>47.480454</td>\n",
       "      <td>39.626117</td>\n",
       "      <td>50.482973</td>\n",
       "      <td>49.942719</td>\n",
       "      <td>55.913904</td>\n",
       "      <td>40.723838</td>\n",
       "      <td>47.054024</td>\n",
       "      <td>47.603678</td>\n",
       "      <td>40.420700</td>\n",
       "      <td>41.763522</td>\n",
       "      <td>41.287237</td>\n",
       "      <td>49.371440</td>\n",
       "      <td>49.894738</td>\n",
       "      <td>58.662853</td>\n",
       "      <td>43.219800</td>\n",
       "      <td>50.858576</td>\n",
       "      <td>54.417645</td>\n",
       "      <td>54.617230</td>\n",
       "    </tr>\n",
       "    <tr>\n",
       "      <th>1</th>\n",
       "      <td>53.697916</td>\n",
       "      <td>1.127901</td>\n",
       "      <td>38.282811</td>\n",
       "      <td>62.694849</td>\n",
       "      <td>36.972301</td>\n",
       "      <td>43.445246</td>\n",
       "      <td>39.417960</td>\n",
       "      <td>48.853396</td>\n",
       "      <td>70.330670</td>\n",
       "      <td>48.443002</td>\n",
       "      <td>62.588307</td>\n",
       "      <td>37.010522</td>\n",
       "      <td>60.426588</td>\n",
       "      <td>46.439228</td>\n",
       "      <td>44.660933</td>\n",
       "      <td>95.108609</td>\n",
       "      <td>46.908080</td>\n",
       "      <td>46.208051</td>\n",
       "      <td>50.722088</td>\n",
       "      <td>49.073934</td>\n",
       "      <td>38.838960</td>\n",
       "      <td>45.673089</td>\n",
       "      <td>48.180407</td>\n",
       "      <td>44.413125</td>\n",
       "      <td>38.112971</td>\n",
       "      <td>36.658225</td>\n",
       "      <td>37.918921</td>\n",
       "      <td>39.292041</td>\n",
       "      <td>34.973963</td>\n",
       "      <td>58.418405</td>\n",
       "      <td>53.268013</td>\n",
       "      <td>43.008039</td>\n",
       "      <td>47.468157</td>\n",
       "      <td>60.815753</td>\n",
       "      <td>60.630918</td>\n",
       "      <td>69.941501</td>\n",
       "      <td>34.467362</td>\n",
       "      <td>52.106015</td>\n",
       "      <td>57.965490</td>\n",
       "      <td>57.321898</td>\n",
       "      <td>27.564148</td>\n",
       "      <td>55.881004</td>\n",
       "      <td>44.650060</td>\n",
       "      <td>43.767790</td>\n",
       "      <td>35.230983</td>\n",
       "      <td>41.262853</td>\n",
       "      <td>38.599674</td>\n",
       "      <td>39.731306</td>\n",
       "      <td>50.178404</td>\n",
       "      <td>52.178351</td>\n",
       "      <td>48.373279</td>\n",
       "      <td>39.912062</td>\n",
       "      <td>42.444563</td>\n",
       "      <td>59.148834</td>\n",
       "      <td>49.423273</td>\n",
       "      <td>37.786994</td>\n",
       "      <td>54.010070</td>\n",
       "      <td>51.399985</td>\n",
       "      <td>46.537636</td>\n",
       "    </tr>\n",
       "    <tr>\n",
       "      <th>2</th>\n",
       "      <td>49.980886</td>\n",
       "      <td>1.822193</td>\n",
       "      <td>47.523295</td>\n",
       "      <td>71.237069</td>\n",
       "      <td>45.772476</td>\n",
       "      <td>42.503677</td>\n",
       "      <td>29.642229</td>\n",
       "      <td>44.741775</td>\n",
       "      <td>65.858204</td>\n",
       "      <td>67.975793</td>\n",
       "      <td>51.603146</td>\n",
       "      <td>34.421307</td>\n",
       "      <td>64.647241</td>\n",
       "      <td>30.631845</td>\n",
       "      <td>28.307760</td>\n",
       "      <td>92.924267</td>\n",
       "      <td>37.702341</td>\n",
       "      <td>31.632224</td>\n",
       "      <td>58.187581</td>\n",
       "      <td>54.950810</td>\n",
       "      <td>50.568276</td>\n",
       "      <td>42.016371</td>\n",
       "      <td>47.364321</td>\n",
       "      <td>51.846087</td>\n",
       "      <td>41.318373</td>\n",
       "      <td>25.241766</td>\n",
       "      <td>47.951027</td>\n",
       "      <td>52.792715</td>\n",
       "      <td>33.484266</td>\n",
       "      <td>49.724183</td>\n",
       "      <td>42.385072</td>\n",
       "      <td>47.728203</td>\n",
       "      <td>57.802610</td>\n",
       "      <td>57.386985</td>\n",
       "      <td>60.867564</td>\n",
       "      <td>63.261063</td>\n",
       "      <td>37.783905</td>\n",
       "      <td>59.313328</td>\n",
       "      <td>60.040113</td>\n",
       "      <td>51.541709</td>\n",
       "      <td>55.208100</td>\n",
       "      <td>56.829325</td>\n",
       "      <td>53.238457</td>\n",
       "      <td>32.052699</td>\n",
       "      <td>27.367778</td>\n",
       "      <td>38.343248</td>\n",
       "      <td>43.816979</td>\n",
       "      <td>48.633360</td>\n",
       "      <td>52.295815</td>\n",
       "      <td>42.977202</td>\n",
       "      <td>63.554982</td>\n",
       "      <td>34.522497</td>\n",
       "      <td>29.499466</td>\n",
       "      <td>55.865912</td>\n",
       "      <td>47.787977</td>\n",
       "      <td>41.552806</td>\n",
       "      <td>62.557664</td>\n",
       "      <td>36.510964</td>\n",
       "      <td>31.829844</td>\n",
       "    </tr>\n",
       "  </tbody>\n",
       "</table>\n",
       "</div>"
      ],
      "text/plain": [
       "          active  adjustment  adventurous  aggressive  agreeableness  \\\n",
       "class                                                                  \n",
       "0      60.833320    6.498026    48.327608   56.242587      38.953222   \n",
       "1      53.697916    1.127901    38.282811   62.694849      36.972301   \n",
       "2      49.980886    1.822193    47.523295   71.237069      45.772476   \n",
       "\n",
       "       ambitious    anxious   artistic  assertive  body_focus   cautious  \\\n",
       "class                                                                      \n",
       "0      51.073313  39.634743  44.992141  67.032800   42.750569  51.037259   \n",
       "1      43.445246  39.417960  48.853396  70.330670   48.443002  62.588307   \n",
       "2      42.503677  29.642229  44.741775  65.858204   67.975793  51.603146   \n",
       "\n",
       "        cheerful       cold  conscientiousness  cooperative  depression  \\\n",
       "class                                                                     \n",
       "0      43.770584  49.054788          51.997241    46.330993   82.019595   \n",
       "1      37.010522  60.426588          46.439228    44.660933   95.108609   \n",
       "2      34.421307  64.647241          30.631845    28.307760   92.924267   \n",
       "\n",
       "       disciplined    dutiful  emotionally_aware  empathetic  energetic  \\\n",
       "class                                                                     \n",
       "0        50.523656  51.627161          44.011413   43.549857  43.498594   \n",
       "1        46.908080  46.208051          50.722088   49.073934  38.838960   \n",
       "2        37.702341  31.632224          58.187581   54.950810  50.568276   \n",
       "\n",
       "       extraversion  family_oriented  food_focus  friend_focus   friendly  \\\n",
       "class                                                                       \n",
       "0         53.000525        43.605299   43.243399     38.386965  38.646356   \n",
       "1         45.673089        48.180407   44.413125     38.112971  36.658225   \n",
       "2         42.016371        47.364321   51.846087     41.318373  25.241766   \n",
       "\n",
       "        generous    genuine  happiness  health_oriented     humble  \\\n",
       "class                                                                \n",
       "0      35.106537  48.762154  43.626146        40.737194  49.220178   \n",
       "1      37.918921  39.292041  34.973963        58.418405  53.268013   \n",
       "2      47.951027  52.792715  33.484266        49.724183  42.385072   \n",
       "\n",
       "       imaginative  impulsive  independent   insecure  intellectual  \\\n",
       "class                                                                 \n",
       "0        39.956073  46.421767    60.114689  50.501746     62.606287   \n",
       "1        43.008039  47.468157    60.815753  60.630918     69.941501   \n",
       "2        47.728203  57.802610    57.386985  60.867564     63.261063   \n",
       "\n",
       "       leisure_oriented    liberal  melancholy  money_oriented  \\\n",
       "class                                                            \n",
       "0             52.175939  43.288438   46.997139       54.260934   \n",
       "1             34.467362  52.106015   57.965490       57.321898   \n",
       "2             37.783905  59.313328   60.040113       51.541709   \n",
       "\n",
       "       netspeak_focus  neuroticism   openness  organized  persuasive  \\\n",
       "class                                                                  \n",
       "0           39.194855    47.480454  39.626117  50.482973   49.942719   \n",
       "1           27.564148    55.881004  44.650060  43.767790   35.230983   \n",
       "2           55.208100    56.829325  53.238457  32.052699   27.367778   \n",
       "\n",
       "       power_driven  religion_oriented  reward_bias  self_assured  \\\n",
       "class                                                               \n",
       "0         55.913904          40.723838    47.054024     47.603678   \n",
       "1         41.262853          38.599674    39.731306     50.178404   \n",
       "2         38.343248          43.816979    48.633360     52.295815   \n",
       "\n",
       "       self_conscious  sexual_focus   sociable  social_skills   stressed  \\\n",
       "class                                                                      \n",
       "0           40.420700     41.763522  41.287237      49.371440  49.894738   \n",
       "1           52.178351     48.373279  39.912062      42.444563  59.148834   \n",
       "2           42.977202     63.554982  34.522497      29.499466  55.865912   \n",
       "\n",
       "       thinking_style   trusting     type_a  work_oriented  workhorse  \n",
       "class                                                                  \n",
       "0           58.662853  43.219800  50.858576      54.417645  54.617230  \n",
       "1           49.423273  37.786994  54.010070      51.399985  46.537636  \n",
       "2           47.787977  41.552806  62.557664      36.510964  31.829844  "
      ]
     },
     "execution_count": 68,
     "metadata": {},
     "output_type": "execute_result"
    }
   ],
   "source": [
    "train[train.columns.difference(['user_id'])].groupby('class').mean()"
   ]
  },
  {
   "cell_type": "code",
   "execution_count": 69,
   "metadata": {},
   "outputs": [],
   "source": [
    "X_train = train[train.columns.difference(['screen_name', 'user_id', 'classname', 'class'])]\n",
    "y_train = train['class']\n",
    "X_test = test[test.columns.difference(['screen_name', 'user_id', 'classname', 'class'])]\n",
    "y_test = test['class']"
   ]
  },
  {
   "cell_type": "markdown",
   "metadata": {},
   "source": [
    "### Baseline Model"
   ]
  },
  {
   "cell_type": "code",
   "execution_count": 70,
   "metadata": {},
   "outputs": [],
   "source": [
    "lr = LogisticRegression(solver='newton-cg', random_state=0)\n",
    "svc = SVC(random_state=0)\n",
    "rf = RandomForestClassifier(random_state=0)\n",
    "xgb = XGBClassifier(objective='multi:softmax', num_class=4, random_state=0)\n",
    "nb = GaussianNB()\n",
    "\n",
    "onevsone_lr = OneVsOneClassifier(lr).fit(X_train, y_train)\n",
    "onevsone_svc = OneVsOneClassifier(svc).fit(X_train, y_train)\n",
    "onevsone_rf = OneVsOneClassifier(rf).fit(X_train, y_train)\n",
    "# onevsone_xgb = OneVsOneClassifier(xgb).fit(X_train, y_train)\n",
    "onevsone_nb = OneVsOneClassifier(nb).fit(X_train, y_train)\n",
    "\n",
    "onevsrest_lr = OneVsRestClassifier(lr).fit(X_train, y_train)\n",
    "onevsrest_svc = OneVsRestClassifier(svc).fit(X_train, y_train)\n",
    "onevsrest_rf = OneVsRestClassifier(rf).fit(X_train, y_train)\n",
    "onevsrest_nb = OneVsRestClassifier(nb).fit(X_train, y_train)\n",
    "\n",
    "# onevsone_lr = OneVsOneClassifier(lr).fit(X_train, y_train)\n",
    "# onevsone_svc = OneVsOneClassifier(svc).fit(X_train, y_train)\n",
    "# onevsone_rf = OneVsOneClassifier(rf).fit(X_train, y_train)\n",
    "# # onevsone_xgb = OneVsOneClassifier(xgb).fit(X_train, y_train)\n",
    "\n",
    "# onevsrest_lr = OneVsRestClassifier(lr).fit(X_train, y_train)\n",
    "# onevsrest_svc = OneVsOneClassifier(svc).fit(X_train, y_train)\n",
    "# onevsrest_rf = OneVsOneClassifier(rf).fit(X_train, y_train)\n",
    "# onevsrest_xgb = OneVsOneClassifier(xgb).fit(X_train, y_train)"
   ]
  },
  {
   "cell_type": "code",
   "execution_count": 73,
   "metadata": {},
   "outputs": [
    {
     "name": "stdout",
     "output_type": "stream",
     "text": [
      "ovo_lr: Cross validation f1 micro is 0.6695121951219513.\n",
      "ovo_lr: Test f1 micro is 0.6514285714285715\n",
      "ovo_svc: Cross validation f1 micro is 0.6891147244805781.\n",
      "ovo_svc: Test f1 micro is 0.6857142857142857\n",
      "ovo_rf: Cross validation f1 micro is 0.6793134598012646.\n",
      "ovo_rf: Test f1 micro is 0.6657142857142857\n",
      "ovo_nb: Cross validation f1 micro is 0.610328214393255.\n",
      "ovo_nb: Test f1 micro is 0.6114285714285714\n",
      "ovr_lr: Cross validation f1 micro is 0.6767991568804577.\n",
      "ovr_lr: Test f1 micro is 0.6542857142857142\n",
      "ovr_svc: Cross validation f1 micro is 0.6805630834086118.\n",
      "ovr_svc: Test f1 micro is 0.6857142857142857\n",
      "ovr_rf: Cross validation f1 micro is 0.6768744354110207.\n",
      "ovr_rf: Test f1 micro is 0.6771428571428572\n",
      "ovr_nb: Cross validation f1 micro is 0.6238482384823849.\n",
      "ovr_nb: Test f1 micro is 0.6085714285714285\n",
      "xgb: Cross validation f1 micro is 0.6682174043962663.\n",
      "xgb: Test f1 micro is 0.6885714285714286\n"
     ]
    }
   ],
   "source": [
    "for mod, modname in zip([onevsone_lr, onevsone_svc, onevsone_rf, onevsone_nb, onevsrest_lr, onevsrest_svc, onevsrest_rf,\n",
    "                         onevsrest_nb, xgb],\n",
    "                        ['ovo_lr', 'ovo_svc', 'ovo_rf', 'ovo_nb', 'ovr_lr', 'ovr_svc', 'ovr_rf', 'ovr_nb', 'xgb']):\n",
    "    \n",
    "    score = cross_val_score(mod, X_train, y_train, cv=10, scoring='f1_micro')\n",
    "    print('{}: Cross validation f1 micro is {}.'.format(modname, score.mean()))\n",
    "    \n",
    "    modfit = mod.fit(X_train, y_train)\n",
    "    test_pred = modfit.predict(X_test)\n",
    "    print('{}: Test f1 micro is {}'.format(modname, f1_score(y_test, test_pred, average='micro')))"
   ]
  },
  {
   "cell_type": "code",
   "execution_count": 77,
   "metadata": {},
   "outputs": [
    {
     "name": "stdout",
     "output_type": "stream",
     "text": [
      "              precision    recall  f1-score   support\n",
      "\n",
      "           0       0.56      0.20      0.29        50\n",
      "           1       0.45      0.22      0.29        69\n",
      "           2       0.72      0.93      0.81       231\n",
      "\n",
      "    accuracy                           0.69       350\n",
      "   macro avg       0.58      0.45      0.47       350\n",
      "weighted avg       0.64      0.69      0.64       350\n",
      "\n",
      "micro avg                              0.69\n"
     ]
    }
   ],
   "source": [
    "mod = onevsrest_svc\n",
    "modfit = mod.fit(X_train, y_train)\n",
    "test_pred = modfit.predict(X_test)\n",
    "print(classification_report(y_test, test_pred))\n",
    "print('micro avg                              {}'.format(round(f1_score(y_test, test_pred, average='micro'),2)))"
   ]
  },
  {
   "cell_type": "markdown",
   "metadata": {},
   "source": [
    "### BIC 6"
   ]
  },
  {
   "cell_type": "code",
   "execution_count": 78,
   "metadata": {},
   "outputs": [],
   "source": [
    "BIC_features = ['netspeak_focus', 'money_oriented', 'workhorse', 'active', 'power_driven', 'health_oriented']\n",
    "\n",
    "X_train = train[BIC_features]\n",
    "X_test = test[BIC_features]"
   ]
  },
  {
   "cell_type": "code",
   "execution_count": 79,
   "metadata": {},
   "outputs": [
    {
     "name": "stdout",
     "output_type": "stream",
     "text": [
      "ovo_lr: Cross validation f1 micro is 0.6707166516109606.\n",
      "ovo_lr: Test f1 micro is 0.6714285714285714\n",
      "ovo_svc: Cross validation f1 micro is 0.682987052092743.\n",
      "ovo_svc: Test f1 micro is 0.6685714285714286\n",
      "ovo_rf: Cross validation f1 micro is 0.6694218608852756.\n",
      "ovo_rf: Test f1 micro is 0.6457142857142857\n",
      "ovo_nb: Cross validation f1 micro is 0.6483739837398373.\n",
      "ovo_nb: Test f1 micro is 0.6228571428571429\n",
      "ovr_lr: Cross validation f1 micro is 0.6805630834086118.\n",
      "ovr_lr: Test f1 micro is 0.6714285714285714\n",
      "ovr_svc: Cross validation f1 micro is 0.6866606443842217.\n",
      "ovr_svc: Test f1 micro is 0.66\n",
      "ovr_rf: Cross validation f1 micro is 0.6682023486901535.\n",
      "ovr_rf: Test f1 micro is 0.6514285714285715\n",
      "ovr_nb: Cross validation f1 micro is 0.6532670882264378.\n",
      "ovr_nb: Test f1 micro is 0.62\n",
      "xgb: Cross validation f1 micro is 0.6719662752183078.\n",
      "xgb: Test f1 micro is 0.6571428571428571\n"
     ]
    }
   ],
   "source": [
    "for mod, modname in zip([onevsone_lr, onevsone_svc, onevsone_rf, onevsone_nb, onevsrest_lr, onevsrest_svc, onevsrest_rf,\n",
    "                         onevsrest_nb, xgb],\n",
    "                        ['ovo_lr', 'ovo_svc', 'ovo_rf', 'ovo_nb', 'ovr_lr', 'ovr_svc', 'ovr_rf', 'ovr_nb', 'xgb']):\n",
    "    \n",
    "    score = cross_val_score(mod, X_train, y_train, cv=10, scoring='f1_micro')\n",
    "    print('{}: Cross validation f1 micro is {}.'.format(modname, score.mean()))\n",
    "    \n",
    "    modfit = mod.fit(X_train, y_train)\n",
    "    test_pred = modfit.predict(X_test)\n",
    "    print('{}: Test f1 micro is {}'.format(modname, f1_score(y_test, test_pred, average='micro')))"
   ]
  },
  {
   "cell_type": "code",
   "execution_count": 82,
   "metadata": {
    "scrolled": true
   },
   "outputs": [
    {
     "name": "stdout",
     "output_type": "stream",
     "text": [
      "              precision    recall  f1-score   support\n",
      "\n",
      "           0       0.38      0.18      0.24        50\n",
      "           1       0.43      0.19      0.26        69\n",
      "           2       0.72      0.92      0.81       231\n",
      "\n",
      "    accuracy                           0.67       350\n",
      "   macro avg       0.51      0.43      0.44       350\n",
      "weighted avg       0.61      0.67      0.62       350\n",
      "\n",
      "micro avg                              0.67\n"
     ]
    }
   ],
   "source": [
    "mod = onevsone_lr\n",
    "modfit = mod.fit(X_train, y_train)\n",
    "test_pred = modfit.predict(X_test)\n",
    "print(classification_report(y_test, test_pred))\n",
    "print('micro avg                              {}'.format(round(f1_score(y_test, test_pred, average='micro'),2)))"
   ]
  },
  {
   "cell_type": "markdown",
   "metadata": {},
   "source": [
    "### BIC 10"
   ]
  },
  {
   "cell_type": "code",
   "execution_count": 83,
   "metadata": {},
   "outputs": [],
   "source": [
    "BIC_features = ['netspeak_focus', 'money_oriented', 'workhorse', 'active', 'power_driven',\n",
    "                'health_oriented', 'adjustment', 'reward_bias', 'cheerful', 'leisure_oriented']\n",
    "\n",
    "X_train = train[BIC_features]\n",
    "X_test = test[BIC_features]"
   ]
  },
  {
   "cell_type": "code",
   "execution_count": 84,
   "metadata": {},
   "outputs": [],
   "source": [
    "# import math\n",
    "# print('odds ratio    {}'.format(math.exp()) )\n",
    "# print('odds ratio    {}'.format(math.exp())  )\n",
    "# print('odds ratio    {}'.format(math.exp()) )\n",
    "# print('odds ratio    {}'.format(math.exp()) )\n",
    "# print('odds ratio    {}'.format(math.exp())  )"
   ]
  },
  {
   "cell_type": "code",
   "execution_count": 85,
   "metadata": {},
   "outputs": [
    {
     "name": "stdout",
     "output_type": "stream",
     "text": [
      "ovo_lr: Cross validation f1 micro is 0.6791779584462512.\n",
      "ovo_lr: Test f1 micro is 0.6657142857142857\n",
      "ovo_svc: Cross validation f1 micro is 0.6916139716952726.\n",
      "ovo_svc: Test f1 micro is 0.6714285714285714\n",
      "ovo_rf: Cross validation f1 micro is 0.6829569406805179.\n",
      "ovo_rf: Test f1 micro is 0.66\n",
      "ovo_nb: Cross validation f1 micro is 0.571017765733213.\n",
      "ovo_nb: Test f1 micro is 0.5171428571428571\n",
      "ovr_lr: Cross validation f1 micro is 0.680397470641373.\n",
      "ovr_lr: Test f1 micro is 0.66\n",
      "ovr_svc: Cross validation f1 micro is 0.6977416440831075.\n",
      "ovr_svc: Test f1 micro is 0.6742857142857143\n",
      "ovr_rf: Cross validation f1 micro is 0.6902890695573622.\n",
      "ovr_rf: Test f1 micro is 0.6571428571428571\n",
      "ovr_nb: Cross validation f1 micro is 0.6312556458897922.\n",
      "ovr_nb: Test f1 micro is 0.5914285714285714\n",
      "xgb: Cross validation f1 micro is 0.6792682926829269.\n",
      "xgb: Test f1 micro is 0.64\n"
     ]
    }
   ],
   "source": [
    "for mod, modname in zip([onevsone_lr, onevsone_svc, onevsone_rf, onevsone_nb, onevsrest_lr, onevsrest_svc, onevsrest_rf,\n",
    "                         onevsrest_nb, xgb],\n",
    "                        ['ovo_lr', 'ovo_svc', 'ovo_rf', 'ovo_nb', 'ovr_lr', 'ovr_svc', 'ovr_rf', 'ovr_nb', 'xgb']):\n",
    "    \n",
    "    score = cross_val_score(mod, X_train, y_train, cv=10, scoring='f1_micro')\n",
    "    print('{}: Cross validation f1 micro is {}.'.format(modname, score.mean()))\n",
    "    \n",
    "    modfit = mod.fit(X_train, y_train)\n",
    "    test_pred = modfit.predict(X_test)\n",
    "    print('{}: Test f1 micro is {}'.format(modname, f1_score(y_test, test_pred, average='micro')))"
   ]
  },
  {
   "cell_type": "code",
   "execution_count": 88,
   "metadata": {},
   "outputs": [
    {
     "name": "stdout",
     "output_type": "stream",
     "text": [
      "              precision    recall  f1-score   support\n",
      "\n",
      "           0       0.60      0.12      0.20        50\n",
      "           1       0.42      0.16      0.23        69\n",
      "           2       0.69      0.94      0.80       231\n",
      "\n",
      "    accuracy                           0.67       350\n",
      "   macro avg       0.57      0.41      0.41       350\n",
      "weighted avg       0.63      0.67      0.60       350\n",
      "\n",
      "micro avg                              0.67\n"
     ]
    }
   ],
   "source": [
    "mod = onevsone_svc\n",
    "modfit = mod.fit(X_train, y_train)\n",
    "test_pred = modfit.predict(X_test)\n",
    "print(classification_report(y_test, test_pred))\n",
    "print('micro avg                              {}'.format(round(f1_score(y_test, test_pred, average='micro'),2)))"
   ]
  },
  {
   "cell_type": "markdown",
   "metadata": {},
   "source": [
    "### BIC 15"
   ]
  },
  {
   "cell_type": "code",
   "execution_count": 89,
   "metadata": {},
   "outputs": [],
   "source": [
    "BIC_features = ['netspeak_focus', 'money_oriented', 'workhorse', 'active', 'power_driven',\n",
    "                'health_oriented', 'adjustment', 'reward_bias', 'cheerful', 'leisure_oriented',\n",
    "                'thinking_style', 'aggressive', 'organized', 'self_assured', 'religion_oriented']\n",
    "\n",
    "X_train = train[BIC_features]\n",
    "X_test = test[BIC_features]"
   ]
  },
  {
   "cell_type": "code",
   "execution_count": 90,
   "metadata": {},
   "outputs": [
    {
     "name": "stdout",
     "output_type": "stream",
     "text": [
      "ovo_lr: Cross validation f1 micro is 0.682836495031617.\n",
      "ovo_lr: Test f1 micro is 0.6685714285714286\n",
      "ovo_svc: Cross validation f1 micro is 0.6940228846732912.\n",
      "ovo_svc: Test f1 micro is 0.6828571428571428\n",
      "ovo_rf: Cross validation f1 micro is 0.6878801565793435.\n",
      "ovo_rf: Test f1 micro is 0.6828571428571428\n",
      "ovo_nb: Cross validation f1 micro is 0.587037037037037.\n",
      "ovo_nb: Test f1 micro is 0.5828571428571429\n",
      "ovr_lr: Cross validation f1 micro is 0.6865552544414333.\n",
      "ovr_lr: Test f1 micro is 0.6742857142857143\n",
      "ovr_svc: Cross validation f1 micro is 0.6903191809695874.\n",
      "ovr_svc: Test f1 micro is 0.6828571428571428\n",
      "ovr_rf: Cross validation f1 micro is 0.6829569406805179.\n",
      "ovr_rf: Test f1 micro is 0.6657142857142857\n",
      "ovr_nb: Cross validation f1 micro is 0.6324299909665763.\n",
      "ovr_nb: Test f1 micro is 0.6057142857142858\n",
      "xgb: Cross validation f1 micro is 0.6559620596205963.\n",
      "xgb: Test f1 micro is 0.6514285714285715\n"
     ]
    }
   ],
   "source": [
    "for mod, modname in zip([onevsone_lr, onevsone_svc, onevsone_rf, onevsone_nb, onevsrest_lr, onevsrest_svc, onevsrest_rf,\n",
    "                         onevsrest_nb, xgb],\n",
    "                        ['ovo_lr', 'ovo_svc', 'ovo_rf', 'ovo_nb', 'ovr_lr', 'ovr_svc', 'ovr_rf', 'ovr_nb', 'xgb']):\n",
    "    \n",
    "    score = cross_val_score(mod, X_train, y_train, cv=10, scoring='f1_micro')\n",
    "    print('{}: Cross validation f1 micro is {}.'.format(modname, score.mean()))\n",
    "    \n",
    "    modfit = mod.fit(X_train, y_train)\n",
    "    test_pred = modfit.predict(X_test)\n",
    "    print('{}: Test f1 micro is {}'.format(modname, f1_score(y_test, test_pred, average='micro')))"
   ]
  },
  {
   "cell_type": "code",
   "execution_count": 94,
   "metadata": {},
   "outputs": [
    {
     "name": "stdout",
     "output_type": "stream",
     "text": [
      "              precision    recall  f1-score   support\n",
      "\n",
      "           0       0.73      0.16      0.26        50\n",
      "           1       0.44      0.22      0.29        69\n",
      "           2       0.71      0.94      0.81       231\n",
      "\n",
      "    accuracy                           0.68       350\n",
      "   macro avg       0.63      0.44      0.45       350\n",
      "weighted avg       0.66      0.68      0.63       350\n",
      "\n",
      "micro avg                              0.68\n"
     ]
    }
   ],
   "source": [
    "mod = onevsone_svc\n",
    "modfit = mod.fit(X_train, y_train)\n",
    "test_pred = modfit.predict(X_test)\n",
    "print(classification_report(y_test, test_pred))\n",
    "print('micro avg                              {}'.format(round(f1_score(y_test, test_pred, average='micro'),2)))"
   ]
  },
  {
   "cell_type": "markdown",
   "metadata": {},
   "source": [
    "### BIC 20"
   ]
  },
  {
   "cell_type": "code",
   "execution_count": 141,
   "metadata": {},
   "outputs": [],
   "source": [
    "BIC_features = ['netspeak_focus', 'money_oriented', 'workhorse', 'active', 'power_driven',\n",
    "                'health_oriented', 'adjustment', 'reward_bias', 'cheerful', 'leisure_oriented',\n",
    "                'thinking_style', 'aggressive', 'organized', 'self_assured', 'religion_oriented',\n",
    "                'cautious', 'impulsive', 'disciplined', 'type_a', 'liberal']\n",
    "\n",
    "X_train = train[BIC_features]\n",
    "X_test = test[BIC_features]"
   ]
  },
  {
   "cell_type": "code",
   "execution_count": 96,
   "metadata": {},
   "outputs": [
    {
     "name": "stdout",
     "output_type": "stream",
     "text": [
      "ovo_lr: Cross validation f1 micro is 0.6890243902439025.\n",
      "ovo_lr: Test f1 micro is 0.6857142857142857\n",
      "ovo_svc: Cross validation f1 micro is 0.6841764528756398.\n",
      "ovo_svc: Test f1 micro is 0.6771428571428572\n",
      "ovo_rf: Cross validation f1 micro is 0.6792833483890394.\n",
      "ovo_rf: Test f1 micro is 0.66\n",
      "ovo_nb: Cross validation f1 micro is 0.6054049984944294.\n",
      "ovo_nb: Test f1 micro is 0.6\n",
      "ovr_lr: Cross validation f1 micro is 0.6915236374585968.\n",
      "ovr_lr: Test f1 micro is 0.6942857142857143\n",
      "ovr_svc: Cross validation f1 micro is 0.681737428485396.\n",
      "ovr_svc: Test f1 micro is 0.6885714285714286\n",
      "ovr_rf: Cross validation f1 micro is 0.6792532369768141.\n",
      "ovr_rf: Test f1 micro is 0.68\n",
      "ovr_nb: Cross validation f1 micro is 0.6349292381812707.\n",
      "ovr_nb: Test f1 micro is 0.6257142857142857\n",
      "xgb: Cross validation f1 micro is 0.6719060523938571.\n",
      "xgb: Test f1 micro is 0.66\n"
     ]
    }
   ],
   "source": [
    "for mod, modname in zip([onevsone_lr, onevsone_svc, onevsone_rf, onevsone_nb, onevsrest_lr, onevsrest_svc, onevsrest_rf,\n",
    "                         onevsrest_nb, xgb],\n",
    "                        ['ovo_lr', 'ovo_svc', 'ovo_rf', 'ovo_nb', 'ovr_lr', 'ovr_svc', 'ovr_rf', 'ovr_nb', 'xgb']):\n",
    "    \n",
    "    score = cross_val_score(mod, X_train, y_train, cv=10, scoring='f1_micro')\n",
    "    print('{}: Cross validation f1 micro is {}.'.format(modname, score.mean()))\n",
    "    \n",
    "    modfit = mod.fit(X_train, y_train)\n",
    "    test_pred = modfit.predict(X_test)\n",
    "    print('{}: Test f1 micro is {}'.format(modname, f1_score(y_test, test_pred, average='micro')))"
   ]
  },
  {
   "cell_type": "code",
   "execution_count": 97,
   "metadata": {},
   "outputs": [
    {
     "name": "stdout",
     "output_type": "stream",
     "text": [
      "              precision    recall  f1-score   support\n",
      "\n",
      "           0       0.56      0.18      0.27        50\n",
      "           1       0.50      0.28      0.36        69\n",
      "           2       0.73      0.93      0.82       231\n",
      "\n",
      "    accuracy                           0.69       350\n",
      "   macro avg       0.60      0.46      0.48       350\n",
      "weighted avg       0.66      0.69      0.65       350\n",
      "\n",
      "micro avg                              0.69\n"
     ]
    }
   ],
   "source": [
    "mod = onevsrest_lr\n",
    "modfit = mod.fit(X_train, y_train)\n",
    "test_pred = modfit.predict(X_test)\n",
    "print(classification_report(y_test, test_pred))\n",
    "print('micro avg                              {}'.format(round(f1_score(y_test, test_pred, average='micro'),2)))"
   ]
  },
  {
   "cell_type": "markdown",
   "metadata": {},
   "source": [
    "### BIC 25"
   ]
  },
  {
   "cell_type": "code",
   "execution_count": 151,
   "metadata": {},
   "outputs": [],
   "source": [
    "BIC_features = ['netspeak_focus', 'money_oriented', 'workhorse', 'active', 'power_driven',\n",
    "                'health_oriented', 'adjustment', 'reward_bias', 'cheerful', 'leisure_oriented',\n",
    "                'thinking_style', 'aggressive', 'organized', 'self_assured', 'religion_oriented',\n",
    "                'cautious', 'impulsive', 'disciplined', 'type_a', 'liberal',\n",
    "                'melancholy', 'neuroticism', 'sexual_focus', 'food_focus', 'cold']\n",
    "\n",
    "X_train = train[BIC_features]\n",
    "X_test = test[BIC_features]"
   ]
  },
  {
   "cell_type": "code",
   "execution_count": 99,
   "metadata": {},
   "outputs": [
    {
     "name": "stdout",
     "output_type": "stream",
     "text": [
      "ovo_lr: Cross validation f1 micro is 0.687789822342668.\n",
      "ovo_lr: Test f1 micro is 0.6885714285714286\n",
      "ovo_svc: Cross validation f1 micro is 0.6891147244805781.\n",
      "ovo_svc: Test f1 micro is 0.68\n",
      "ovo_rf: Cross validation f1 micro is 0.673170731707317.\n",
      "ovo_rf: Test f1 micro is 0.68\n",
      "ovo_nb: Cross validation f1 micro is 0.622583559168925.\n",
      "ovo_nb: Test f1 micro is 0.6114285714285714\n",
      "ovr_lr: Cross validation f1 micro is 0.6890243902439023.\n",
      "ovr_lr: Test f1 micro is 0.6885714285714286\n",
      "ovr_svc: Cross validation f1 micro is 0.6755796446853357.\n",
      "ovr_svc: Test f1 micro is 0.6857142857142857\n",
      "ovr_rf: Cross validation f1 micro is 0.6817675398976212.\n",
      "ovr_rf: Test f1 micro is 0.6657142857142857\n",
      "ovr_nb: Cross validation f1 micro is 0.6349292381812707.\n",
      "ovr_nb: Test f1 micro is 0.6285714285714286\n",
      "xgb: Cross validation f1 micro is 0.6583860283047275.\n",
      "xgb: Test f1 micro is 0.6628571428571428\n"
     ]
    }
   ],
   "source": [
    "for mod, modname in zip([onevsone_lr, onevsone_svc, onevsone_rf, onevsone_nb, onevsrest_lr, onevsrest_svc, onevsrest_rf,\n",
    "                         onevsrest_nb, xgb],\n",
    "                        ['ovo_lr', 'ovo_svc', 'ovo_rf', 'ovo_nb', 'ovr_lr', 'ovr_svc', 'ovr_rf', 'ovr_nb', 'xgb']):\n",
    "    \n",
    "    score = cross_val_score(mod, X_train, y_train, cv=10, scoring='f1_micro')\n",
    "    print('{}: Cross validation f1 micro is {}.'.format(modname, score.mean()))\n",
    "    \n",
    "    modfit = mod.fit(X_train, y_train)\n",
    "    test_pred = modfit.predict(X_test)\n",
    "    print('{}: Test f1 micro is {}'.format(modname, f1_score(y_test, test_pred, average='micro')))"
   ]
  },
  {
   "cell_type": "code",
   "execution_count": 103,
   "metadata": {},
   "outputs": [
    {
     "name": "stdout",
     "output_type": "stream",
     "text": [
      "              precision    recall  f1-score   support\n",
      "\n",
      "           0       0.60      0.24      0.34        50\n",
      "           1       0.44      0.26      0.33        69\n",
      "           2       0.73      0.91      0.81       231\n",
      "\n",
      "    accuracy                           0.69       350\n",
      "   macro avg       0.59      0.47      0.49       350\n",
      "weighted avg       0.65      0.69      0.65       350\n",
      "\n",
      "micro avg                              0.69\n"
     ]
    }
   ],
   "source": [
    "mod = onevsone_lr\n",
    "modfit = mod.fit(X_train, y_train)\n",
    "test_pred = modfit.predict(X_test)\n",
    "print(classification_report(y_test, test_pred))\n",
    "print('micro avg                              {}'.format(round(f1_score(y_test, test_pred, average='micro'),2)))"
   ]
  },
  {
   "cell_type": "markdown",
   "metadata": {},
   "source": [
    "### BIC 30"
   ]
  },
  {
   "cell_type": "code",
   "execution_count": 153,
   "metadata": {},
   "outputs": [],
   "source": [
    "BIC_features = ['netspeak_focus', 'money_oriented', 'workhorse', 'active', 'power_driven',\n",
    "                'health_oriented', 'adjustment', 'reward_bias', 'cheerful', 'leisure_oriented',\n",
    "                'thinking_style', 'aggressive', 'organized', 'self_assured', 'religion_oriented',\n",
    "                'cautious', 'impulsive', 'disciplined', 'type_a', 'liberal',\n",
    "                'melancholy', 'neuroticism', 'sexual_focus', 'food_focus', 'cold',\n",
    "                'friend_focus', 'agreeableness', 'generous', 'genuine', 'self_conscious']\n",
    "\n",
    "X_train = train[BIC_features]\n",
    "X_test = test[BIC_features]"
   ]
  },
  {
   "cell_type": "code",
   "execution_count": 105,
   "metadata": {},
   "outputs": [
    {
     "name": "stdout",
     "output_type": "stream",
     "text": [
      "ovo_lr: Cross validation f1 micro is 0.6803824149352604.\n",
      "ovo_lr: Test f1 micro is 0.6828571428571428\n",
      "ovo_svc: Cross validation f1 micro is 0.6866907557964469.\n",
      "ovo_svc: Test f1 micro is 0.6771428571428572\n",
      "ovo_rf: Cross validation f1 micro is 0.6829569406805178.\n",
      "ovo_rf: Test f1 micro is 0.6857142857142857\n",
      "ovo_nb: Cross validation f1 micro is 0.6090484793736827.\n",
      "ovo_nb: Test f1 micro is 0.6257142857142857\n",
      "ovr_lr: Cross validation f1 micro is 0.6841312857573019.\n",
      "ovr_lr: Test f1 micro is 0.6885714285714286\n",
      "ovr_svc: Cross validation f1 micro is 0.6854411321890997.\n",
      "ovr_svc: Test f1 micro is 0.68\n",
      "ovr_rf: Cross validation f1 micro is 0.6731105088828666.\n",
      "ovr_rf: Test f1 micro is 0.6771428571428572\n",
      "ovr_nb: Cross validation f1 micro is 0.642186088527552.\n",
      "ovr_nb: Test f1 micro is 0.6257142857142857\n",
      "xgb: Cross validation f1 micro is 0.6670280036133694.\n",
      "xgb: Test f1 micro is 0.6542857142857142\n"
     ]
    }
   ],
   "source": [
    "for mod, modname in zip([onevsone_lr, onevsone_svc, onevsone_rf, onevsone_nb, onevsrest_lr, onevsrest_svc, onevsrest_rf,\n",
    "                         onevsrest_nb, xgb],\n",
    "                        ['ovo_lr', 'ovo_svc', 'ovo_rf', 'ovo_nb', 'ovr_lr', 'ovr_svc', 'ovr_rf', 'ovr_nb', 'xgb']):\n",
    "    \n",
    "    score = cross_val_score(mod, X_train, y_train, cv=10, scoring='f1_micro')\n",
    "    print('{}: Cross validation f1 micro is {}.'.format(modname, score.mean()))\n",
    "    \n",
    "    modfit = mod.fit(X_train, y_train)\n",
    "    test_pred = modfit.predict(X_test)\n",
    "    print('{}: Test f1 micro is {}'.format(modname, f1_score(y_test, test_pred, average='micro')))"
   ]
  },
  {
   "cell_type": "code",
   "execution_count": 106,
   "metadata": {},
   "outputs": [
    {
     "name": "stdout",
     "output_type": "stream",
     "text": [
      "              precision    recall  f1-score   support\n",
      "\n",
      "           0       0.65      0.26      0.37        50\n",
      "           1       0.45      0.30      0.36        69\n",
      "           2       0.73      0.90      0.81       231\n",
      "\n",
      "    accuracy                           0.69       350\n",
      "   macro avg       0.61      0.49      0.51       350\n",
      "weighted avg       0.66      0.69      0.66       350\n",
      "\n",
      "micro avg                              0.69\n"
     ]
    }
   ],
   "source": [
    "mod = onevsrest_lr\n",
    "modfit = mod.fit(X_train, y_train)\n",
    "test_pred = modfit.predict(X_test)\n",
    "print(classification_report(y_test, test_pred))\n",
    "print('micro avg                              {}'.format(round(f1_score(y_test, test_pred, average='micro'),2)))"
   ]
  },
  {
   "cell_type": "markdown",
   "metadata": {},
   "source": [
    "### BIC 35"
   ]
  },
  {
   "cell_type": "code",
   "execution_count": 107,
   "metadata": {},
   "outputs": [],
   "source": [
    "BIC_features = ['netspeak_focus', 'money_oriented', 'workhorse', 'active', 'power_driven',\n",
    "                'health_oriented', 'adjustment', 'reward_bias', 'cheerful', 'leisure_oriented',\n",
    "                'thinking_style', 'aggressive', 'organized', 'self_assured', 'religion_oriented',\n",
    "                'cautious', 'impulsive', 'disciplined', 'type_a', 'liberal',\n",
    "                'melancholy', 'neuroticism', 'sexual_focus', 'food_focus', 'cold',\n",
    "                'friend_focus', 'agreeableness', 'generous', 'genuine', 'self_conscious',\n",
    "                'emotionally_aware', 'artistic', 'ambitious', 'adventurous', 'anxious']\n",
    "\n",
    "X_train = train[BIC_features]\n",
    "X_test = test[BIC_features]"
   ]
  },
  {
   "cell_type": "code",
   "execution_count": 108,
   "metadata": {},
   "outputs": [
    {
     "name": "stdout",
     "output_type": "stream",
     "text": [
      "ovo_lr: Cross validation f1 micro is 0.6841011743450769.\n",
      "ovo_lr: Test f1 micro is 0.6771428571428572\n",
      "ovo_svc: Cross validation f1 micro is 0.687940379403794.\n",
      "ovo_svc: Test f1 micro is 0.68\n",
      "ovo_rf: Cross validation f1 micro is 0.684206564287865.\n",
      "ovo_rf: Test f1 micro is 0.6714285714285714\n",
      "ovo_nb: Cross validation f1 micro is 0.6017163504968382.\n",
      "ovo_nb: Test f1 micro is 0.6085714285714285\n",
      "ovr_lr: Cross validation f1 micro is 0.6816470942487202.\n",
      "ovr_lr: Test f1 micro is 0.6742857142857143\n",
      "ovr_svc: Cross validation f1 micro is 0.6817524841915086.\n",
      "ovr_svc: Test f1 micro is 0.6885714285714286\n",
      "ovr_rf: Cross validation f1 micro is 0.6755947003914482.\n",
      "ovr_rf: Test f1 micro is 0.6771428571428572\n",
      "ovr_nb: Cross validation f1 micro is 0.6299457994579947.\n",
      "ovr_nb: Test f1 micro is 0.62\n",
      "xgb: Cross validation f1 micro is 0.6670129479072567.\n",
      "xgb: Test f1 micro is 0.6657142857142857\n"
     ]
    }
   ],
   "source": [
    "for mod, modname in zip([onevsone_lr, onevsone_svc, onevsone_rf, onevsone_nb, onevsrest_lr, onevsrest_svc, onevsrest_rf,\n",
    "                         onevsrest_nb, xgb],\n",
    "                        ['ovo_lr', 'ovo_svc', 'ovo_rf', 'ovo_nb', 'ovr_lr', 'ovr_svc', 'ovr_rf', 'ovr_nb', 'xgb']):\n",
    "    \n",
    "    score = cross_val_score(mod, X_train, y_train, cv=10, scoring='f1_micro')\n",
    "    print('{}: Cross validation f1 micro is {}.'.format(modname, score.mean()))\n",
    "    \n",
    "    modfit = mod.fit(X_train, y_train)\n",
    "    test_pred = modfit.predict(X_test)\n",
    "    print('{}: Test f1 micro is {}'.format(modname, f1_score(y_test, test_pred, average='micro')))"
   ]
  },
  {
   "cell_type": "code",
   "execution_count": 109,
   "metadata": {},
   "outputs": [
    {
     "name": "stdout",
     "output_type": "stream",
     "text": [
      "              precision    recall  f1-score   support\n",
      "\n",
      "           0       0.64      0.18      0.28        50\n",
      "           1       0.44      0.23      0.30        69\n",
      "           2       0.72      0.94      0.81       231\n",
      "\n",
      "    accuracy                           0.69       350\n",
      "   macro avg       0.60      0.45      0.47       350\n",
      "weighted avg       0.65      0.69      0.64       350\n",
      "\n",
      "micro avg                              0.69\n"
     ]
    }
   ],
   "source": [
    "mod = onevsrest_svc\n",
    "modfit = mod.fit(X_train, y_train)\n",
    "test_pred = modfit.predict(X_test)\n",
    "print(classification_report(y_test, test_pred))\n",
    "print('micro avg                              {}'.format(round(f1_score(y_test, test_pred, average='micro'),2)))"
   ]
  },
  {
   "cell_type": "markdown",
   "metadata": {},
   "source": [
    "### BIC 40"
   ]
  },
  {
   "cell_type": "code",
   "execution_count": 110,
   "metadata": {},
   "outputs": [],
   "source": [
    "BIC_features = ['netspeak_focus', 'money_oriented', 'workhorse', 'active', 'power_driven',\n",
    "                'health_oriented', 'adjustment', 'reward_bias', 'cheerful', 'leisure_oriented',\n",
    "                'thinking_style', 'aggressive', 'organized', 'self_assured', 'religion_oriented',\n",
    "                'cautious', 'impulsive', 'disciplined', 'type_a', 'liberal',\n",
    "                'melancholy', 'neuroticism', 'sexual_focus', 'food_focus', 'cold',\n",
    "                'friend_focus', 'agreeableness', 'generous', 'genuine', 'self_conscious',\n",
    "                'emotionally_aware', 'artistic', 'ambitious', 'adventurous', 'anxious',\n",
    "                'stressed', 'work_oriented', 'depression', 'family_oriented', 'insecure']\n",
    "\n",
    "X_train = train[BIC_features]\n",
    "X_test = test[BIC_features]"
   ]
  },
  {
   "cell_type": "code",
   "execution_count": 111,
   "metadata": {},
   "outputs": [
    {
     "name": "stdout",
     "output_type": "stream",
     "text": [
      "ovo_lr: Cross validation f1 micro is 0.6829117735621801.\n",
      "ovo_lr: Test f1 micro is 0.6828571428571428\n",
      "ovo_svc: Cross validation f1 micro is 0.6866757000903341.\n",
      "ovo_svc: Test f1 micro is 0.6771428571428572\n",
      "ovo_rf: Cross validation f1 micro is 0.6682926829268292.\n",
      "ovo_rf: Test f1 micro is 0.6714285714285714\n",
      "ovo_nb: Cross validation f1 micro is 0.578319783197832.\n",
      "ovo_nb: Test f1 micro is 0.62\n",
      "ovr_lr: Cross validation f1 micro is 0.6804426377597108.\n",
      "ovr_lr: Test f1 micro is 0.6628571428571428\n",
      "ovr_svc: Cross validation f1 micro is 0.6817675398976212.\n",
      "ovr_svc: Test f1 micro is 0.6885714285714286\n",
      "ovr_rf: Cross validation f1 micro is 0.679298404095152.\n",
      "ovr_rf: Test f1 micro is 0.6657142857142857\n",
      "ovr_nb: Cross validation f1 micro is 0.6311803673592292.\n",
      "ovr_nb: Test f1 micro is 0.6228571428571429\n",
      "xgb: Cross validation f1 micro is 0.6767991568804577.\n",
      "xgb: Test f1 micro is 0.6628571428571428\n"
     ]
    }
   ],
   "source": [
    "for mod, modname in zip([onevsone_lr, onevsone_svc, onevsone_rf, onevsone_nb, onevsrest_lr, onevsrest_svc, onevsrest_rf,\n",
    "                         onevsrest_nb, xgb],\n",
    "                        ['ovo_lr', 'ovo_svc', 'ovo_rf', 'ovo_nb', 'ovr_lr', 'ovr_svc', 'ovr_rf', 'ovr_nb', 'xgb']):\n",
    "    \n",
    "    score = cross_val_score(mod, X_train, y_train, cv=10, scoring='f1_micro')\n",
    "    print('{}: Cross validation f1 micro is {}.'.format(modname, score.mean()))\n",
    "    \n",
    "    modfit = mod.fit(X_train, y_train)\n",
    "    test_pred = modfit.predict(X_test)\n",
    "    print('{}: Test f1 micro is {}'.format(modname, f1_score(y_test, test_pred, average='micro')))"
   ]
  },
  {
   "cell_type": "code",
   "execution_count": 112,
   "metadata": {},
   "outputs": [
    {
     "name": "stdout",
     "output_type": "stream",
     "text": [
      "              precision    recall  f1-score   support\n",
      "\n",
      "           0       0.64      0.18      0.28        50\n",
      "           1       0.46      0.23      0.31        69\n",
      "           2       0.72      0.94      0.81       231\n",
      "\n",
      "    accuracy                           0.69       350\n",
      "   macro avg       0.61      0.45      0.47       350\n",
      "weighted avg       0.66      0.69      0.64       350\n",
      "\n",
      "micro avg                              0.69\n",
      "macro avg                              0.47\n"
     ]
    }
   ],
   "source": [
    "mod = onevsrest_svc\n",
    "modfit = mod.fit(X_train, y_train)\n",
    "test_pred = modfit.predict(X_test)\n",
    "print(classification_report(y_test, test_pred))\n",
    "print('micro avg                              {}'.format(round(f1_score(y_test, test_pred, average='micro'),2)))\n",
    "print('macro avg                              {}'.format(round(f1_score(y_test, test_pred, average='macro'),2)))"
   ]
  },
  {
   "cell_type": "markdown",
   "metadata": {},
   "source": [
    "### BIC 45"
   ]
  },
  {
   "cell_type": "code",
   "execution_count": 113,
   "metadata": {},
   "outputs": [],
   "source": [
    "BIC_features = ['netspeak_focus', 'money_oriented', 'workhorse', 'active', 'power_driven',\n",
    "                'health_oriented', 'adjustment', 'reward_bias', 'cheerful', 'leisure_oriented',\n",
    "                'thinking_style', 'aggressive', 'organized', 'self_assured', 'religion_oriented',\n",
    "                'cautious', 'impulsive', 'disciplined', 'type_a', 'liberal',\n",
    "                'melancholy', 'neuroticism', 'sexual_focus', 'food_focus', 'cold',\n",
    "                'friend_focus', 'agreeableness', 'generous', 'genuine', 'self_conscious',\n",
    "                'emotionally_aware', 'artistic', 'ambitious', 'adventurous', 'anxious',\n",
    "                'stressed', 'work_oriented', 'depression', 'family_oriented', 'insecure',\n",
    "                'happiness', 'conscientiousness', 'dutiful', 'persuasive', 'cooperative']\n",
    "\n",
    "X_train = train[BIC_features]\n",
    "X_test = test[BIC_features]"
   ]
  },
  {
   "cell_type": "code",
   "execution_count": 114,
   "metadata": {},
   "outputs": [
    {
     "name": "stdout",
     "output_type": "stream",
     "text": [
      "ovo_lr: Cross validation f1 micro is 0.6780186690755796.\n",
      "ovo_lr: Test f1 micro is 0.6771428571428572\n",
      "ovo_svc: Cross validation f1 micro is 0.6866907557964469.\n",
      "ovo_svc: Test f1 micro is 0.6857142857142857\n",
      "ovo_rf: Cross validation f1 micro is 0.6830021077988557.\n",
      "ovo_rf: Test f1 micro is 0.6714285714285714\n",
      "ovo_nb: Cross validation f1 micro is 0.6090785907859079.\n",
      "ovo_nb: Test f1 micro is 0.6285714285714286\n",
      "ovr_lr: Cross validation f1 micro is 0.6718157181571816.\n",
      "ovr_lr: Test f1 micro is 0.6714285714285714\n",
      "ovr_svc: Cross validation f1 micro is 0.6719060523938574.\n",
      "ovr_svc: Test f1 micro is 0.6885714285714286\n",
      "ovr_rf: Cross validation f1 micro is 0.6707166516109605.\n",
      "ovr_rf: Test f1 micro is 0.6685714285714286\n",
      "ovr_nb: Cross validation f1 micro is 0.6238331827762723.\n",
      "ovr_nb: Test f1 micro is 0.6228571428571429\n",
      "xgb: Cross validation f1 micro is 0.6707015959048478.\n",
      "xgb: Test f1 micro is 0.68\n"
     ]
    }
   ],
   "source": [
    "for mod, modname in zip([onevsone_lr, onevsone_svc, onevsone_rf, onevsone_nb, onevsrest_lr, onevsrest_svc, onevsrest_rf,\n",
    "                         onevsrest_nb, xgb],\n",
    "                        ['ovo_lr', 'ovo_svc', 'ovo_rf', 'ovo_nb', 'ovr_lr', 'ovr_svc', 'ovr_rf', 'ovr_nb', 'xgb']):\n",
    "    \n",
    "    score = cross_val_score(mod, X_train, y_train, cv=10, scoring='f1_micro')\n",
    "    print('{}: Cross validation f1 micro is {}.'.format(modname, score.mean()))\n",
    "    \n",
    "    modfit = mod.fit(X_train, y_train)\n",
    "    test_pred = modfit.predict(X_test)\n",
    "    print('{}: Test f1 micro is {}'.format(modname, f1_score(y_test, test_pred, average='micro')))"
   ]
  },
  {
   "cell_type": "code",
   "execution_count": 116,
   "metadata": {},
   "outputs": [
    {
     "name": "stdout",
     "output_type": "stream",
     "text": [
      "              precision    recall  f1-score   support\n",
      "\n",
      "           0       0.67      0.16      0.26        50\n",
      "           1       0.47      0.25      0.32        69\n",
      "           2       0.72      0.94      0.81       231\n",
      "\n",
      "    accuracy                           0.69       350\n",
      "   macro avg       0.62      0.45      0.46       350\n",
      "weighted avg       0.66      0.69      0.64       350\n",
      "\n",
      "micro avg                              0.69\n"
     ]
    }
   ],
   "source": [
    "mod = onevsrest_svc\n",
    "modfit = mod.fit(X_train, y_train)\n",
    "test_pred = modfit.predict(X_test)\n",
    "print(classification_report(y_test, test_pred))\n",
    "print('micro avg                              {}'.format(round(f1_score(y_test, test_pred, average='micro'),2)))"
   ]
  },
  {
   "cell_type": "markdown",
   "metadata": {},
   "source": [
    "### BIC 50"
   ]
  },
  {
   "cell_type": "code",
   "execution_count": 117,
   "metadata": {},
   "outputs": [],
   "source": [
    "BIC_features = ['netspeak_focus', 'money_oriented', 'workhorse', 'active', 'power_driven',\n",
    "                'health_oriented', 'adjustment', 'reward_bias', 'cheerful', 'leisure_oriented',\n",
    "                'thinking_style', 'aggressive', 'organized', 'self_assured', 'religion_oriented',\n",
    "                'cautious', 'impulsive', 'disciplined', 'type_a', 'liberal',\n",
    "                'melancholy', 'neuroticism', 'sexual_focus', 'food_focus', 'cold',\n",
    "                'friend_focus', 'agreeableness', 'generous', 'genuine', 'self_conscious',\n",
    "                'emotionally_aware', 'artistic', 'ambitious', 'adventurous', 'anxious',\n",
    "                'stressed', 'work_oriented', 'depression', 'family_oriented', 'insecure',\n",
    "                'happiness', 'conscientiousness', 'dutiful', 'persuasive', 'cooperative',\n",
    "                'intellectual', 'humble', 'assertive', 'body_focus', 'friendly']\n",
    "\n",
    "X_train = train[BIC_features]\n",
    "X_test = test[BIC_features]"
   ]
  },
  {
   "cell_type": "code",
   "execution_count": 118,
   "metadata": {},
   "outputs": [
    {
     "name": "stdout",
     "output_type": "stream",
     "text": [
      "ovo_lr: Cross validation f1 micro is 0.6792833483890395.\n",
      "ovo_lr: Test f1 micro is 0.66\n",
      "ovo_svc: Cross validation f1 micro is 0.6891297801866907.\n",
      "ovo_svc: Test f1 micro is 0.6857142857142857\n",
      "ovo_rf: Cross validation f1 micro is 0.6830021077988557.\n",
      "ovo_rf: Test f1 micro is 0.6714285714285714\n",
      "ovo_nb: Cross validation f1 micro is 0.6078891900030111.\n",
      "ovo_nb: Test f1 micro is 0.62\n",
      "ovr_lr: Cross validation f1 micro is 0.6829268292682927.\n",
      "ovr_lr: Test f1 micro is 0.6571428571428571\n",
      "ovr_svc: Cross validation f1 micro is 0.6756398675097863.\n",
      "ovr_svc: Test f1 micro is 0.68\n",
      "ovr_rf: Cross validation f1 micro is 0.6719813309244203.\n",
      "ovr_rf: Test f1 micro is 0.6742857142857143\n",
      "ovr_nb: Cross validation f1 micro is 0.6189099668774466.\n",
      "ovr_nb: Test f1 micro is 0.62\n",
      "xgb: Cross validation f1 micro is 0.6730954531767539.\n",
      "xgb: Test f1 micro is 0.6742857142857143\n"
     ]
    }
   ],
   "source": [
    "for mod, modname in zip([onevsone_lr, onevsone_svc, onevsone_rf, onevsone_nb, onevsrest_lr, onevsrest_svc, onevsrest_rf,\n",
    "                         onevsrest_nb, xgb],\n",
    "                        ['ovo_lr', 'ovo_svc', 'ovo_rf', 'ovo_nb', 'ovr_lr', 'ovr_svc', 'ovr_rf', 'ovr_nb', 'xgb']):\n",
    "    \n",
    "    score = cross_val_score(mod, X_train, y_train, cv=10, scoring='f1_micro')\n",
    "    print('{}: Cross validation f1 micro is {}.'.format(modname, score.mean()))\n",
    "    \n",
    "    modfit = mod.fit(X_train, y_train)\n",
    "    test_pred = modfit.predict(X_test)\n",
    "    print('{}: Test f1 micro is {}'.format(modname, f1_score(y_test, test_pred, average='micro')))"
   ]
  },
  {
   "cell_type": "code",
   "execution_count": 119,
   "metadata": {},
   "outputs": [
    {
     "name": "stdout",
     "output_type": "stream",
     "text": [
      "              precision    recall  f1-score   support\n",
      "\n",
      "           0       0.86      0.12      0.21        50\n",
      "           1       0.47      0.23      0.31        69\n",
      "           2       0.71      0.94      0.81       231\n",
      "\n",
      "    accuracy                           0.69       350\n",
      "   macro avg       0.68      0.43      0.44       350\n",
      "weighted avg       0.68      0.69      0.62       350\n",
      "\n",
      "micro avg                              0.69\n"
     ]
    }
   ],
   "source": [
    "mod = onevsone_svc\n",
    "modfit = mod.fit(X_train, y_train)\n",
    "test_pred = modfit.predict(X_test)\n",
    "print(classification_report(y_test, test_pred))\n",
    "print('micro avg                              {}'.format(round(f1_score(y_test, test_pred, average='micro'),2)))"
   ]
  },
  {
   "cell_type": "code",
   "execution_count": null,
   "metadata": {},
   "outputs": [],
   "source": []
  },
  {
   "cell_type": "markdown",
   "metadata": {},
   "source": [
    "### Model with Backward Feaure Selection using all 29 AIC features"
   ]
  },
  {
   "cell_type": "code",
   "execution_count": 120,
   "metadata": {},
   "outputs": [],
   "source": [
    "AIC_features = ['netspeak_focus', 'liberal', 'self_assured', 'organized', 'type_a',\n",
    "                'cheerful', 'disciplined', 'neuroticism', 'aggressive', 'adjustment',\n",
    "                'religion_oriented', 'food_focus', 'generous', 'sexual_focus', 'thinking_style',\n",
    "                'agreeableness', 'money_oriented', 'melancholy', 'workhorse', 'reward_bias',\n",
    "                'self_conscious', 'leisure_oriented', 'impulsive', 'cautious', 'active',\n",
    "                'power_driven', 'genuine', 'cold', 'health_oriented']\n",
    "\n",
    "X_train = train[AIC_features]\n",
    "X_test = test[AIC_features]"
   ]
  },
  {
   "cell_type": "code",
   "execution_count": 121,
   "metadata": {},
   "outputs": [
    {
     "name": "stdout",
     "output_type": "stream",
     "text": [
      "ovo_lr: Cross validation f1 micro is 0.684056007226739.\n",
      "ovo_lr: Test f1 micro is 0.68\n",
      "ovo_svc: Cross validation f1 micro is 0.6854561878952123.\n",
      "ovo_svc: Test f1 micro is 0.6857142857142857\n",
      "ovo_rf: Cross validation f1 micro is 0.6829719963866305.\n",
      "ovo_rf: Test f1 micro is 0.6828571428571428\n",
      "ovo_nb: Cross validation f1 micro is 0.602905751279735.\n",
      "ovo_nb: Test f1 micro is 0.6228571428571429\n",
      "ovr_lr: Cross validation f1 micro is 0.6865853658536585.\n",
      "ovr_lr: Test f1 micro is 0.68\n",
      "ovr_svc: Cross validation f1 micro is 0.6817675398976212.\n",
      "ovr_svc: Test f1 micro is 0.6857142857142857\n",
      "ovr_rf: Cross validation f1 micro is 0.6767991568804576.\n",
      "ovr_rf: Test f1 micro is 0.6714285714285714\n",
      "ovr_nb: Cross validation f1 micro is 0.6446552243300211.\n",
      "ovr_nb: Test f1 micro is 0.6257142857142857\n",
      "xgb: Cross validation f1 micro is 0.669482083709726.\n",
      "xgb: Test f1 micro is 0.6542857142857142\n"
     ]
    }
   ],
   "source": [
    "for mod, modname in zip([onevsone_lr, onevsone_svc, onevsone_rf, onevsone_nb, onevsrest_lr, onevsrest_svc, onevsrest_rf,\n",
    "                         onevsrest_nb, xgb],\n",
    "                        ['ovo_lr', 'ovo_svc', 'ovo_rf', 'ovo_nb', 'ovr_lr', 'ovr_svc', 'ovr_rf', 'ovr_nb', 'xgb']):\n",
    "    \n",
    "    score = cross_val_score(mod, X_train, y_train, cv=10, scoring='f1_micro')\n",
    "    print('{}: Cross validation f1 micro is {}.'.format(modname, score.mean()))\n",
    "    \n",
    "    modfit = mod.fit(X_train, y_train)\n",
    "    test_pred = modfit.predict(X_test)\n",
    "    print('{}: Test f1 micro is {}'.format(modname, f1_score(y_test, test_pred, average='micro')))"
   ]
  },
  {
   "cell_type": "code",
   "execution_count": 123,
   "metadata": {},
   "outputs": [
    {
     "name": "stdout",
     "output_type": "stream",
     "text": [
      "              precision    recall  f1-score   support\n",
      "\n",
      "           0       0.86      0.12      0.21        50\n",
      "           1       0.45      0.22      0.29        69\n",
      "           2       0.71      0.95      0.81       231\n",
      "\n",
      "    accuracy                           0.69       350\n",
      "   macro avg       0.67      0.43      0.44       350\n",
      "weighted avg       0.68      0.69      0.62       350\n",
      "\n",
      "micro avg                              0.69\n"
     ]
    }
   ],
   "source": [
    "mod = onevsone_svc\n",
    "modfit = mod.fit(X_train, y_train)\n",
    "test_pred = modfit.predict(X_test)\n",
    "print(classification_report(y_test, test_pred))\n",
    "print('micro avg                              {}'.format(round(f1_score(y_test, test_pred, average='micro'),2)))"
   ]
  },
  {
   "cell_type": "markdown",
   "metadata": {},
   "source": [
    "### AIC 30"
   ]
  },
  {
   "cell_type": "code",
   "execution_count": 124,
   "metadata": {},
   "outputs": [],
   "source": [
    "AIC_features = ['netspeak_focus', 'liberal', 'self_assured', 'organized', 'type_a',\n",
    "                'cheerful', 'disciplined', 'neuroticism', 'aggressive', 'adjustment',\n",
    "                'religion_oriented', 'food_focus', 'generous', 'sexual_focus', 'thinking_style',\n",
    "                'agreeableness', 'money_oriented', 'melancholy', 'workhorse', 'reward_bias',\n",
    "                'self_conscious', 'leisure_oriented', 'impulsive', 'cautious', 'active',\n",
    "                'power_driven', 'genuine', 'cold', 'health_oriented', 'friend_focus']\n",
    "\n",
    "X_train = train[AIC_features]\n",
    "X_test = test[AIC_features]"
   ]
  },
  {
   "cell_type": "code",
   "execution_count": 125,
   "metadata": {},
   "outputs": [
    {
     "name": "stdout",
     "output_type": "stream",
     "text": [
      "ovo_lr: Cross validation f1 micro is 0.6803824149352604.\n",
      "ovo_lr: Test f1 micro is 0.6828571428571428\n",
      "ovo_svc: Cross validation f1 micro is 0.6866907557964469.\n",
      "ovo_svc: Test f1 micro is 0.6771428571428572\n",
      "ovo_rf: Cross validation f1 micro is 0.6768142125865702.\n",
      "ovo_rf: Test f1 micro is 0.68\n",
      "ovo_nb: Cross validation f1 micro is 0.6090484793736827.\n",
      "ovo_nb: Test f1 micro is 0.6257142857142857\n",
      "ovr_lr: Cross validation f1 micro is 0.6841312857573019.\n",
      "ovr_lr: Test f1 micro is 0.6885714285714286\n",
      "ovr_svc: Cross validation f1 micro is 0.6854411321890997.\n",
      "ovr_svc: Test f1 micro is 0.68\n",
      "ovr_rf: Cross validation f1 micro is 0.6780487804878048.\n",
      "ovr_rf: Test f1 micro is 0.6685714285714286\n",
      "ovr_nb: Cross validation f1 micro is 0.642186088527552.\n",
      "ovr_nb: Test f1 micro is 0.6257142857142857\n",
      "xgb: Cross validation f1 micro is 0.6682625715146041.\n",
      "xgb: Test f1 micro is 0.6542857142857142\n"
     ]
    }
   ],
   "source": [
    "for mod, modname in zip([onevsone_lr, onevsone_svc, onevsone_rf, onevsone_nb, onevsrest_lr, onevsrest_svc, onevsrest_rf,\n",
    "                         onevsrest_nb, xgb],\n",
    "                        ['ovo_lr', 'ovo_svc', 'ovo_rf', 'ovo_nb', 'ovr_lr', 'ovr_svc', 'ovr_rf', 'ovr_nb', 'xgb']):\n",
    "    \n",
    "    score = cross_val_score(mod, X_train, y_train, cv=10, scoring='f1_micro')\n",
    "    print('{}: Cross validation f1 micro is {}.'.format(modname, score.mean()))\n",
    "    \n",
    "    modfit = mod.fit(X_train, y_train)\n",
    "    test_pred = modfit.predict(X_test)\n",
    "    print('{}: Test f1 micro is {}'.format(modname, f1_score(y_test, test_pred, average='micro')))"
   ]
  },
  {
   "cell_type": "code",
   "execution_count": 126,
   "metadata": {},
   "outputs": [
    {
     "name": "stdout",
     "output_type": "stream",
     "text": [
      "              precision    recall  f1-score   support\n",
      "\n",
      "           0       0.65      0.26      0.37        50\n",
      "           1       0.45      0.30      0.36        69\n",
      "           2       0.73      0.90      0.81       231\n",
      "\n",
      "    accuracy                           0.69       350\n",
      "   macro avg       0.61      0.49      0.51       350\n",
      "weighted avg       0.66      0.69      0.66       350\n",
      "\n",
      "micro avg                              0.69\n"
     ]
    }
   ],
   "source": [
    "mod = onevsrest_lr\n",
    "modfit = mod.fit(X_train, y_train)\n",
    "test_pred = modfit.predict(X_test)\n",
    "print(classification_report(y_test, test_pred))\n",
    "print('micro avg                              {}'.format(round(f1_score(y_test, test_pred, average='micro'),2)))"
   ]
  },
  {
   "cell_type": "markdown",
   "metadata": {},
   "source": [
    "### AIC 35"
   ]
  },
  {
   "cell_type": "code",
   "execution_count": 127,
   "metadata": {},
   "outputs": [],
   "source": [
    "AIC_features = ['netspeak_focus', 'liberal', 'self_assured', 'organized', 'type_a',\n",
    "                'cheerful', 'disciplined', 'neuroticism', 'aggressive', 'adjustment',\n",
    "                'religion_oriented', 'food_focus', 'generous', 'sexual_focus', 'thinking_style',\n",
    "                'agreeableness', 'money_oriented', 'melancholy', 'workhorse', 'reward_bias',\n",
    "                'self_conscious', 'leisure_oriented', 'impulsive', 'cautious', 'active',\n",
    "                'power_driven', 'genuine', 'cold', 'health_oriented', 'friend_focus',\n",
    "                'emotionally_aware', 'artistic', 'ambitious', 'adventurous', 'anxious']\n",
    "\n",
    "X_train = train[AIC_features]\n",
    "X_test = test[AIC_features]"
   ]
  },
  {
   "cell_type": "code",
   "execution_count": 128,
   "metadata": {},
   "outputs": [
    {
     "name": "stdout",
     "output_type": "stream",
     "text": [
      "ovo_lr: Cross validation f1 micro is 0.6841011743450769.\n",
      "ovo_lr: Test f1 micro is 0.6771428571428572\n",
      "ovo_svc: Cross validation f1 micro is 0.687940379403794.\n",
      "ovo_svc: Test f1 micro is 0.68\n",
      "ovo_rf: Cross validation f1 micro is 0.6805329719963866.\n",
      "ovo_rf: Test f1 micro is 0.6885714285714286\n",
      "ovo_nb: Cross validation f1 micro is 0.6017163504968382.\n",
      "ovo_nb: Test f1 micro is 0.6085714285714285\n",
      "ovr_lr: Cross validation f1 micro is 0.6816470942487202.\n",
      "ovr_lr: Test f1 micro is 0.6742857142857143\n",
      "ovr_svc: Cross validation f1 micro is 0.6817524841915086.\n",
      "ovr_svc: Test f1 micro is 0.6885714285714286\n",
      "ovr_rf: Cross validation f1 micro is 0.6731556760012044.\n",
      "ovr_rf: Test f1 micro is 0.6742857142857143\n",
      "ovr_nb: Cross validation f1 micro is 0.6299457994579947.\n",
      "ovr_nb: Test f1 micro is 0.62\n",
      "xgb: Cross validation f1 micro is 0.6682174043962661.\n",
      "xgb: Test f1 micro is 0.6685714285714286\n"
     ]
    }
   ],
   "source": [
    "for mod, modname in zip([onevsone_lr, onevsone_svc, onevsone_rf, onevsone_nb, onevsrest_lr, onevsrest_svc, onevsrest_rf,\n",
    "                         onevsrest_nb, xgb],\n",
    "                        ['ovo_lr', 'ovo_svc', 'ovo_rf', 'ovo_nb', 'ovr_lr', 'ovr_svc', 'ovr_rf', 'ovr_nb', 'xgb']):\n",
    "    \n",
    "    score = cross_val_score(mod, X_train, y_train, cv=10, scoring='f1_micro')\n",
    "    print('{}: Cross validation f1 micro is {}.'.format(modname, score.mean()))\n",
    "    \n",
    "    modfit = mod.fit(X_train, y_train)\n",
    "    test_pred = modfit.predict(X_test)\n",
    "    print('{}: Test f1 micro is {}'.format(modname, f1_score(y_test, test_pred, average='micro')))"
   ]
  },
  {
   "cell_type": "code",
   "execution_count": 129,
   "metadata": {},
   "outputs": [
    {
     "name": "stdout",
     "output_type": "stream",
     "text": [
      "              precision    recall  f1-score   support\n",
      "\n",
      "           0       0.64      0.18      0.28        50\n",
      "           1       0.44      0.23      0.30        69\n",
      "           2       0.72      0.94      0.81       231\n",
      "\n",
      "    accuracy                           0.69       350\n",
      "   macro avg       0.60      0.45      0.47       350\n",
      "weighted avg       0.65      0.69      0.64       350\n",
      "\n",
      "micro avg                              0.69\n"
     ]
    }
   ],
   "source": [
    "mod = onevsrest_svc\n",
    "modfit = mod.fit(X_train, y_train)\n",
    "test_pred = modfit.predict(X_test)\n",
    "print(classification_report(y_test, test_pred))\n",
    "print('micro avg                              {}'.format(round(f1_score(y_test, test_pred, average='micro'),2)))"
   ]
  },
  {
   "cell_type": "markdown",
   "metadata": {},
   "source": [
    "### AIC 40"
   ]
  },
  {
   "cell_type": "code",
   "execution_count": 130,
   "metadata": {},
   "outputs": [],
   "source": [
    "AIC_features = ['netspeak_focus', 'liberal', 'self_assured', 'organized', 'type_a',\n",
    "                'cheerful', 'disciplined', 'neuroticism', 'aggressive', 'adjustment',\n",
    "                'religion_oriented', 'food_focus', 'generous', 'sexual_focus', 'thinking_style',\n",
    "                'agreeableness', 'money_oriented', 'melancholy', 'workhorse', 'reward_bias',\n",
    "                'self_conscious', 'leisure_oriented', 'impulsive', 'cautious', 'active',\n",
    "                'power_driven', 'genuine', 'cold', 'health_oriented', 'friend_focus',\n",
    "                'emotionally_aware', 'artistic', 'ambitious', 'adventurous', 'anxious',\n",
    "                'stressed', 'work_oriented', 'depression', 'family_oriented', 'insecure']\n",
    "\n",
    "X_train = train[AIC_features]\n",
    "X_test = test[AIC_features]"
   ]
  },
  {
   "cell_type": "code",
   "execution_count": 131,
   "metadata": {},
   "outputs": [
    {
     "name": "stdout",
     "output_type": "stream",
     "text": [
      "ovo_lr: Cross validation f1 micro is 0.6829117735621801.\n",
      "ovo_lr: Test f1 micro is 0.6828571428571428\n",
      "ovo_svc: Cross validation f1 micro is 0.6866757000903341.\n",
      "ovo_svc: Test f1 micro is 0.6771428571428572\n",
      "ovo_rf: Cross validation f1 micro is 0.6756097560975609.\n",
      "ovo_rf: Test f1 micro is 0.6771428571428572\n",
      "ovo_nb: Cross validation f1 micro is 0.578319783197832.\n",
      "ovo_nb: Test f1 micro is 0.62\n",
      "ovr_lr: Cross validation f1 micro is 0.6804426377597108.\n",
      "ovr_lr: Test f1 micro is 0.6628571428571428\n",
      "ovr_svc: Cross validation f1 micro is 0.6817675398976212.\n",
      "ovr_svc: Test f1 micro is 0.6885714285714286\n",
      "ovr_rf: Cross validation f1 micro is 0.6842517314062029.\n",
      "ovr_rf: Test f1 micro is 0.68\n",
      "ovr_nb: Cross validation f1 micro is 0.6311803673592292.\n",
      "ovr_nb: Test f1 micro is 0.6228571428571429\n",
      "xgb: Cross validation f1 micro is 0.6755947003914483.\n",
      "xgb: Test f1 micro is 0.6628571428571428\n"
     ]
    }
   ],
   "source": [
    "for mod, modname in zip([onevsone_lr, onevsone_svc, onevsone_rf, onevsone_nb, onevsrest_lr, onevsrest_svc, onevsrest_rf,\n",
    "                         onevsrest_nb, xgb],\n",
    "                        ['ovo_lr', 'ovo_svc', 'ovo_rf', 'ovo_nb', 'ovr_lr', 'ovr_svc', 'ovr_rf', 'ovr_nb', 'xgb']):\n",
    "    \n",
    "    score = cross_val_score(mod, X_train, y_train, cv=10, scoring='f1_micro')\n",
    "    print('{}: Cross validation f1 micro is {}.'.format(modname, score.mean()))\n",
    "    \n",
    "    modfit = mod.fit(X_train, y_train)\n",
    "    test_pred = modfit.predict(X_test)\n",
    "    print('{}: Test f1 micro is {}'.format(modname, f1_score(y_test, test_pred, average='micro')))"
   ]
  },
  {
   "cell_type": "code",
   "execution_count": 132,
   "metadata": {},
   "outputs": [
    {
     "name": "stdout",
     "output_type": "stream",
     "text": [
      "              precision    recall  f1-score   support\n",
      "\n",
      "           0       0.64      0.18      0.28        50\n",
      "           1       0.46      0.23      0.31        69\n",
      "           2       0.72      0.94      0.81       231\n",
      "\n",
      "    accuracy                           0.69       350\n",
      "   macro avg       0.61      0.45      0.47       350\n",
      "weighted avg       0.66      0.69      0.64       350\n",
      "\n",
      "micro avg                              0.69\n"
     ]
    }
   ],
   "source": [
    "mod = onevsrest_svc\n",
    "modfit = mod.fit(X_train, y_train)\n",
    "test_pred = modfit.predict(X_test)\n",
    "print(classification_report(y_test, test_pred))\n",
    "print('micro avg                              {}'.format(round(f1_score(y_test, test_pred, average='micro'),2)))"
   ]
  },
  {
   "cell_type": "markdown",
   "metadata": {},
   "source": [
    "### AIC 45"
   ]
  },
  {
   "cell_type": "code",
   "execution_count": 133,
   "metadata": {},
   "outputs": [],
   "source": [
    "AIC_features = ['netspeak_focus', 'liberal', 'self_assured', 'organized', 'type_a',\n",
    "                'cheerful', 'disciplined', 'neuroticism', 'aggressive', 'adjustment',\n",
    "                'religion_oriented', 'food_focus', 'generous', 'sexual_focus', 'thinking_style',\n",
    "                'agreeableness', 'money_oriented', 'melancholy', 'workhorse', 'reward_bias',\n",
    "                'self_conscious', 'leisure_oriented', 'impulsive', 'cautious', 'active',\n",
    "                'power_driven', 'genuine', 'cold', 'health_oriented', 'friend_focus',\n",
    "                'emotionally_aware', 'artistic', 'ambitious', 'adventurous', 'anxious',\n",
    "                'stressed', 'work_oriented', 'depression', 'family_oriented', 'insecure',\n",
    "                'happiness', 'conscientiousness', 'dutiful', 'persuasive', 'cooperative']\n",
    "\n",
    "X_train = train[AIC_features]\n",
    "X_test = test[AIC_features]"
   ]
  },
  {
   "cell_type": "code",
   "execution_count": 134,
   "metadata": {},
   "outputs": [
    {
     "name": "stdout",
     "output_type": "stream",
     "text": [
      "ovo_lr: Cross validation f1 micro is 0.6780186690755796.\n",
      "ovo_lr: Test f1 micro is 0.6771428571428572\n",
      "ovo_svc: Cross validation f1 micro is 0.6866907557964469.\n",
      "ovo_svc: Test f1 micro is 0.6857142857142857\n",
      "ovo_rf: Cross validation f1 micro is 0.6731857874134296.\n",
      "ovo_rf: Test f1 micro is 0.6771428571428572\n",
      "ovo_nb: Cross validation f1 micro is 0.6090785907859079.\n",
      "ovo_nb: Test f1 micro is 0.6285714285714286\n",
      "ovr_lr: Cross validation f1 micro is 0.6718157181571816.\n",
      "ovr_lr: Test f1 micro is 0.6714285714285714\n",
      "ovr_svc: Cross validation f1 micro is 0.6719060523938574.\n",
      "ovr_svc: Test f1 micro is 0.6885714285714286\n",
      "ovr_rf: Cross validation f1 micro is 0.6817976513098463.\n",
      "ovr_rf: Test f1 micro is 0.6828571428571428\n",
      "ovr_nb: Cross validation f1 micro is 0.6238331827762723.\n",
      "ovr_nb: Test f1 micro is 0.6228571428571429\n",
      "xgb: Cross validation f1 micro is 0.6669978922011441.\n",
      "xgb: Test f1 micro is 0.6828571428571428\n"
     ]
    }
   ],
   "source": [
    "for mod, modname in zip([onevsone_lr, onevsone_svc, onevsone_rf, onevsone_nb, onevsrest_lr, onevsrest_svc, onevsrest_rf,\n",
    "                         onevsrest_nb, xgb],\n",
    "                        ['ovo_lr', 'ovo_svc', 'ovo_rf', 'ovo_nb', 'ovr_lr', 'ovr_svc', 'ovr_rf', 'ovr_nb', 'xgb']):\n",
    "    \n",
    "    score = cross_val_score(mod, X_train, y_train, cv=10, scoring='f1_micro')\n",
    "    print('{}: Cross validation f1 micro is {}.'.format(modname, score.mean()))\n",
    "    \n",
    "    modfit = mod.fit(X_train, y_train)\n",
    "    test_pred = modfit.predict(X_test)\n",
    "    print('{}: Test f1 micro is {}'.format(modname, f1_score(y_test, test_pred, average='micro')))"
   ]
  },
  {
   "cell_type": "code",
   "execution_count": 137,
   "metadata": {},
   "outputs": [
    {
     "name": "stdout",
     "output_type": "stream",
     "text": [
      "              precision    recall  f1-score   support\n",
      "\n",
      "           0       0.67      0.16      0.26        50\n",
      "           1       0.47      0.25      0.32        69\n",
      "           2       0.72      0.94      0.81       231\n",
      "\n",
      "    accuracy                           0.69       350\n",
      "   macro avg       0.62      0.45      0.46       350\n",
      "weighted avg       0.66      0.69      0.64       350\n",
      "\n",
      "micro avg                              0.69\n"
     ]
    }
   ],
   "source": [
    "mod = onevsrest_svc\n",
    "modfit = mod.fit(X_train, y_train)\n",
    "test_pred = modfit.predict(X_test)\n",
    "print(classification_report(y_test, test_pred))\n",
    "print('micro avg                              {}'.format(round(f1_score(y_test, test_pred, average='micro'),2)))"
   ]
  },
  {
   "cell_type": "markdown",
   "metadata": {},
   "source": [
    "### AIC 50"
   ]
  },
  {
   "cell_type": "code",
   "execution_count": 138,
   "metadata": {},
   "outputs": [],
   "source": [
    "AIC_features = ['netspeak_focus', 'liberal', 'self_assured', 'organized', 'type_a',\n",
    "                'cheerful', 'disciplined', 'neuroticism', 'aggressive', 'adjustment',\n",
    "                'religion_oriented', 'food_focus', 'generous', 'sexual_focus', 'thinking_style',\n",
    "                'agreeableness', 'money_oriented', 'melancholy', 'workhorse', 'reward_bias',\n",
    "                'self_conscious', 'leisure_oriented', 'impulsive', 'cautious', 'active',\n",
    "                'power_driven', 'genuine', 'cold', 'health_oriented', 'friend_focus',\n",
    "                'emotionally_aware', 'artistic', 'ambitious', 'adventurous', 'anxious',\n",
    "                'stressed', 'work_oriented', 'depression', 'family_oriented', 'insecure',\n",
    "                'happiness', 'conscientiousness', 'dutiful', 'persuasive', 'cooperative',\n",
    "                'intellectual', 'humble', 'assertive', 'body_focus', 'friendly']\n",
    "\n",
    "X_train = train[AIC_features]\n",
    "X_test = test[AIC_features]"
   ]
  },
  {
   "cell_type": "code",
   "execution_count": 139,
   "metadata": {},
   "outputs": [
    {
     "name": "stdout",
     "output_type": "stream",
     "text": [
      "ovo_lr: Cross validation f1 micro is 0.6792833483890395.\n",
      "ovo_lr: Test f1 micro is 0.66\n",
      "ovo_svc: Cross validation f1 micro is 0.6891297801866907.\n",
      "ovo_svc: Test f1 micro is 0.6857142857142857\n",
      "ovo_rf: Cross validation f1 micro is 0.6694519722975008.\n",
      "ovo_rf: Test f1 micro is 0.6942857142857143\n",
      "ovo_nb: Cross validation f1 micro is 0.6078891900030111.\n",
      "ovo_nb: Test f1 micro is 0.62\n",
      "ovr_lr: Cross validation f1 micro is 0.6829268292682927.\n",
      "ovr_lr: Test f1 micro is 0.6571428571428571\n",
      "ovr_svc: Cross validation f1 micro is 0.6756398675097863.\n",
      "ovr_svc: Test f1 micro is 0.68\n",
      "ovr_rf: Cross validation f1 micro is 0.6854712436013248.\n",
      "ovr_rf: Test f1 micro is 0.6714285714285714\n",
      "ovr_nb: Cross validation f1 micro is 0.6189099668774466.\n",
      "ovr_nb: Test f1 micro is 0.62\n",
      "xgb: Cross validation f1 micro is 0.6743149653718759.\n",
      "xgb: Test f1 micro is 0.6742857142857143\n"
     ]
    }
   ],
   "source": [
    "for mod, modname in zip([onevsone_lr, onevsone_svc, onevsone_rf, onevsone_nb, onevsrest_lr, onevsrest_svc, onevsrest_rf,\n",
    "                         onevsrest_nb, xgb],\n",
    "                        ['ovo_lr', 'ovo_svc', 'ovo_rf', 'ovo_nb', 'ovr_lr', 'ovr_svc', 'ovr_rf', 'ovr_nb', 'xgb']):\n",
    "    \n",
    "    score = cross_val_score(mod, X_train, y_train, cv=10, scoring='f1_micro')\n",
    "    print('{}: Cross validation f1 micro is {}.'.format(modname, score.mean()))\n",
    "    \n",
    "    modfit = mod.fit(X_train, y_train)\n",
    "    test_pred = modfit.predict(X_test)\n",
    "    print('{}: Test f1 micro is {}'.format(modname, f1_score(y_test, test_pred, average='micro')))"
   ]
  },
  {
   "cell_type": "code",
   "execution_count": 140,
   "metadata": {},
   "outputs": [
    {
     "name": "stdout",
     "output_type": "stream",
     "text": [
      "              precision    recall  f1-score   support\n",
      "\n",
      "           0       0.53      0.20      0.29        50\n",
      "           1       0.49      0.29      0.36        69\n",
      "           2       0.73      0.92      0.82       231\n",
      "\n",
      "    accuracy                           0.69       350\n",
      "   macro avg       0.58      0.47      0.49       350\n",
      "weighted avg       0.66      0.69      0.65       350\n",
      "\n",
      "micro avg                              0.69\n"
     ]
    }
   ],
   "source": [
    "mod = onevsone_rf\n",
    "modfit = mod.fit(X_train, y_train)\n",
    "test_pred = modfit.predict(X_test)\n",
    "print(classification_report(y_test, test_pred))\n",
    "print('micro avg                              {}'.format(round(f1_score(y_test, test_pred, average='micro'),2)))"
   ]
  },
  {
   "cell_type": "code",
   "execution_count": null,
   "metadata": {},
   "outputs": [],
   "source": []
  },
  {
   "cell_type": "code",
   "execution_count": null,
   "metadata": {},
   "outputs": [],
   "source": []
  },
  {
   "cell_type": "markdown",
   "metadata": {},
   "source": [
    "### F Test at p <= 0.01 Cutoff"
   ]
  },
  {
   "cell_type": "code",
   "execution_count": 100,
   "metadata": {},
   "outputs": [],
   "source": [
    "features = ['netspeak_focus', 'cheerful', 'cooperative', 'aggressive', 'religion_oriented',\n",
    "            'depression', 'ambitious', 'self_conscious', 'active', 'power_driven',\n",
    "            'genuine', 'anxious', 'health_oriented', 'work_oriented']\n",
    "\n",
    "X_train = train[features]\n",
    "X_test = test[features]"
   ]
  },
  {
   "cell_type": "code",
   "execution_count": 101,
   "metadata": {},
   "outputs": [
    {
     "name": "stdout",
     "output_type": "stream",
     "text": [
      "ovo_lr: Cross validation accuracy is 0.6965310914186169.\n",
      "ovo_lr: Test accuracy is 0.7257142857142858\n",
      "ovo_svc: Cross validation accuracy is 0.702688782852382.\n",
      "ovo_svc: Test accuracy is 0.7085714285714285\n",
      "ovo_rf: Cross validation accuracy is 0.7063621904112701.\n",
      "ovo_rf: Test accuracy is 0.7085714285714285\n",
      "ovo_nb: Cross validation accuracy is 0.6031507990608195.\n",
      "ovo_nb: Test accuracy is 0.6257142857142857\n",
      "ovr_lr: Cross validation accuracy is 0.6953040975535862.\n",
      "ovr_lr: Test accuracy is 0.7314285714285714\n",
      "ovr_svc: Cross validation accuracy is 0.703885480572597.\n",
      "ovr_svc: Test accuracy is 0.7171428571428572\n",
      "ovr_rf: Cross validation accuracy is 0.711262591835189.\n",
      "ovr_rf: Test accuracy is 0.7057142857142857\n",
      "ovr_nb: Cross validation accuracy is 0.6068166325835037.\n",
      "ovr_nb: Test accuracy is 0.6428571428571429\n",
      "xgb: Cross validation accuracy is 0.7002347951223207.\n",
      "xgb: Test accuracy is 0.7085714285714285\n"
     ]
    }
   ],
   "source": [
    "for mod, modname in zip([onevsone_lr, onevsone_svc, onevsone_rf, onevsone_nb, onevsrest_lr, onevsrest_svc, onevsrest_rf,\n",
    "                         onevsrest_nb, xgb],\n",
    "                        ['ovo_lr', 'ovo_svc', 'ovo_rf', 'ovo_nb', 'ovr_lr', 'ovr_svc', 'ovr_rf', 'ovr_nb', 'xgb']):\n",
    "    \n",
    "    score = cross_val_score(mod, X_train, y_train, cv=10, scoring='f1_micro')\n",
    "    print('{}: Cross validation f1 micro is {}.'.format(modname, score.mean()))\n",
    "    \n",
    "    modfit = mod.fit(X_train, y_train)\n",
    "    test_pred = modfit.predict(X_test)\n",
    "    print('{}: Test f1 micro is {}'.format(modname, f1_score(y_test, test_pred, average='micro')))"
   ]
  },
  {
   "cell_type": "code",
   "execution_count": 102,
   "metadata": {},
   "outputs": [
    {
     "name": "stdout",
     "output_type": "stream",
     "text": [
      "              precision    recall  f1-score   support\n",
      "\n",
      "           1       0.78      0.95      0.85       231\n",
      "           3       0.58      0.36      0.45        69\n",
      "           4       0.48      0.24      0.32        50\n",
      "\n",
      "    accuracy                           0.73       350\n",
      "   macro avg       0.61      0.52      0.54       350\n",
      "weighted avg       0.70      0.73      0.70       350\n",
      "\n",
      "micro avg                              0.73\n"
     ]
    }
   ],
   "source": [
    "mod = onevsrest_lr\n",
    "modfit = mod.fit(X_train, y_train)\n",
    "test_pred = modfit.predict(X_test)\n",
    "print(classification_report(y_test, test_pred))\n",
    "print('micro avg                              {}'.format(round(f1_score(y_test, test_pred, average='micro'),2)))"
   ]
  },
  {
   "cell_type": "code",
   "execution_count": 103,
   "metadata": {},
   "outputs": [
    {
     "name": "stdout",
     "output_type": "stream",
     "text": [
      "              precision    recall  f1-score   support\n",
      "\n",
      "           1       0.76      0.92      0.83       538\n",
      "           3       0.58      0.44      0.50       160\n",
      "           4       0.49      0.18      0.26       116\n",
      "\n",
      "    accuracy                           0.72       814\n",
      "   macro avg       0.61      0.51      0.53       814\n",
      "weighted avg       0.68      0.72      0.68       814\n",
      "\n",
      "micro avg                              0.72\n"
     ]
    }
   ],
   "source": [
    "# training set performance\n",
    "train_pred = modfit.predict(X_train)\n",
    "print(classification_report(y_train, train_pred))\n",
    "print('micro avg                              {}'.format(round(f1_score(y_train, train_pred, average='micro'),2)))"
   ]
  },
  {
   "cell_type": "code",
   "execution_count": 89,
   "metadata": {},
   "outputs": [
    {
     "name": "stdout",
     "output_type": "stream",
     "text": [
      "The accuracy on the test set is 0.54 using one versus rest SVC.\n"
     ]
    }
   ],
   "source": [
    "print('The accuracy on the test set is 0.54 using one versus rest SVC.')"
   ]
  },
  {
   "cell_type": "markdown",
   "metadata": {},
   "source": [
    "### F Test at p <= 0.001 Cutoff"
   ]
  },
  {
   "cell_type": "code",
   "execution_count": 104,
   "metadata": {},
   "outputs": [],
   "source": [
    "features = ['netspeak_focus', 'active', 'power_driven', 'health_oriented']\n",
    "\n",
    "X_train = train[features]\n",
    "X_test = test[features]"
   ]
  },
  {
   "cell_type": "code",
   "execution_count": 105,
   "metadata": {},
   "outputs": [
    {
     "name": "stdout",
     "output_type": "stream",
     "text": [
      "ovo_lr: Cross validation accuracy is 0.6744679239566765.\n",
      "ovo_lr: Test accuracy is 0.6771428571428572\n",
      "ovo_svc: Cross validation accuracy is 0.6793607513443913.\n",
      "ovo_svc: Test accuracy is 0.6828571428571428\n",
      "ovo_rf: Cross validation accuracy is 0.6744452018480649.\n",
      "ovo_rf: Test accuracy is 0.6714285714285714\n",
      "ovo_nb: Cross validation accuracy is 0.6486328864651973.\n",
      "ovo_nb: Test accuracy is 0.68\n",
      "ovr_lr: Cross validation accuracy is 0.6769143376505339.\n",
      "ovr_lr: Test accuracy is 0.6714285714285714\n",
      "ovr_svc: Cross validation accuracy is 0.6904036961296675.\n",
      "ovr_svc: Test accuracy is 0.68\n",
      "ovr_rf: Cross validation accuracy is 0.6744527758842687.\n",
      "ovr_rf: Test accuracy is 0.66\n",
      "ovr_nb: Cross validation accuracy is 0.6523138680602893.\n",
      "ovr_nb: Test accuracy is 0.6771428571428572\n",
      "xgb: Cross validation accuracy is 0.6646141028554116.\n",
      "xgb: Test accuracy is 0.7028571428571428\n"
     ]
    }
   ],
   "source": [
    "for mod, modname in zip([onevsone_lr, onevsone_svc, onevsone_rf, onevsone_nb, onevsrest_lr, onevsrest_svc, onevsrest_rf,\n",
    "                         onevsrest_nb, xgb],\n",
    "                        ['ovo_lr', 'ovo_svc', 'ovo_rf', 'ovo_nb', 'ovr_lr', 'ovr_svc', 'ovr_rf', 'ovr_nb', 'xgb']):\n",
    "    \n",
    "    score = cross_val_score(mod, X_train, y_train, cv=10, scoring='f1_micro')\n",
    "    print('{}: Cross validation f1 micro is {}.'.format(modname, score.mean()))\n",
    "    \n",
    "    modfit = mod.fit(X_train, y_train)\n",
    "    test_pred = modfit.predict(X_test)\n",
    "    print('{}: Test f1 micro is {}'.format(modname, f1_score(y_test, test_pred, average='micro')))"
   ]
  },
  {
   "cell_type": "code",
   "execution_count": 106,
   "metadata": {
    "scrolled": true
   },
   "outputs": [
    {
     "name": "stdout",
     "output_type": "stream",
     "text": [
      "              precision    recall  f1-score   support\n",
      "\n",
      "           1       0.74      0.92      0.82       231\n",
      "           3       0.53      0.36      0.43        69\n",
      "           4       0.57      0.16      0.25        50\n",
      "\n",
      "    accuracy                           0.70       350\n",
      "   macro avg       0.61      0.48      0.50       350\n",
      "weighted avg       0.67      0.70      0.66       350\n",
      "\n",
      "micro avg                              0.7\n"
     ]
    }
   ],
   "source": [
    "mod = xgb\n",
    "modfit = mod.fit(X_train, y_train)\n",
    "test_pred = modfit.predict(X_test)\n",
    "print(classification_report(y_test, test_pred))\n",
    "print('micro avg                              {}'.format(round(f1_score(y_test, test_pred, average='micro'),2)))"
   ]
  },
  {
   "cell_type": "code",
   "execution_count": 93,
   "metadata": {},
   "outputs": [
    {
     "name": "stdout",
     "output_type": "stream",
     "text": [
      "The accuracy on the test set is 0.55 using one versus one logistic regression.\n"
     ]
    }
   ],
   "source": [
    "print('The accuracy on the test set is 0.55 using one versus one logistic regression.')"
   ]
  },
  {
   "cell_type": "code",
   "execution_count": null,
   "metadata": {},
   "outputs": [],
   "source": []
  },
  {
   "cell_type": "code",
   "execution_count": null,
   "metadata": {},
   "outputs": [],
   "source": []
  }
 ],
 "metadata": {
  "kernelspec": {
   "display_name": "Python 3",
   "language": "python",
   "name": "python3"
  },
  "language_info": {
   "codemirror_mode": {
    "name": "ipython",
    "version": 3
   },
   "file_extension": ".py",
   "mimetype": "text/x-python",
   "name": "python",
   "nbconvert_exporter": "python",
   "pygments_lexer": "ipython3",
   "version": "3.6.5"
  }
 },
 "nbformat": 4,
 "nbformat_minor": 2
}
