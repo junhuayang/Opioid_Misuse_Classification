{
 "cells": [
  {
   "cell_type": "code",
   "execution_count": 1,
   "metadata": {},
   "outputs": [
    {
     "name": "stderr",
     "output_type": "stream",
     "text": [
      "Using TensorFlow backend.\n"
     ]
    }
   ],
   "source": [
    "import numpy as np\n",
    "import math\n",
    "import pandas as pd\n",
    "from pandas import crosstab\n",
    "import statsmodels.api as sm\n",
    "import scipy.stats as stats\n",
    "from sklearn.preprocessing import StandardScaler, MinMaxScaler\n",
    "from sklearn.metrics import roc_curve, roc_auc_score, auc, classification_report, confusion_matrix, accuracy_score, f1_score, recall_score, precision_score, precision_recall_curve\n",
    "from sklearn.model_selection import RandomizedSearchCV, GridSearchCV, cross_val_score, KFold, StratifiedKFold, cross_validate, train_test_split\n",
    "from sklearn.multiclass import OneVsRestClassifier, OneVsOneClassifier, OutputCodeClassifier\n",
    "from sklearn.linear_model import LogisticRegression\n",
    "from sklearn.ensemble import RandomForestClassifier\n",
    "from sklearn.svm import SVC\n",
    "from sklearn.naive_bayes import GaussianNB\n",
    "from xgboost.sklearn import XGBClassifier\n",
    "import xgboost as xgb\n",
    "from collections import Counter\n",
    "from imblearn.over_sampling import SMOTE\n",
    "\n",
    "pd.set_option('display.max_columns', 60)\n",
    "pd.set_option('display.max_rows', 70)"
   ]
  },
  {
   "cell_type": "code",
   "execution_count": 2,
   "metadata": {},
   "outputs": [],
   "source": [
    "df = pd.read_csv(r'C:\\Users\\1130j\\Desktop\\Yale\\Data\\all_recent_tweets_text_score_8_parsed_noDup.csv')"
   ]
  },
  {
   "cell_type": "code",
   "execution_count": 3,
   "metadata": {},
   "outputs": [],
   "source": [
    "df = df.loc[df['classname'] != 'awareness']\n",
    "df.loc[df['classname']=='None', 'class'] = 0\n",
    "df.loc[df['classname']=='pain', 'class'] = 1\n",
    "df.loc[df['classname'].isin(['pleasure', 'addiction']), 'class'] = 2"
   ]
  },
  {
   "cell_type": "markdown",
   "metadata": {},
   "source": [
    "### Group Pleasure and Addiction together"
   ]
  },
  {
   "cell_type": "code",
   "execution_count": 4,
   "metadata": {},
   "outputs": [
    {
     "data": {
      "text/html": [
       "<div>\n",
       "<style scoped>\n",
       "    .dataframe tbody tr th:only-of-type {\n",
       "        vertical-align: middle;\n",
       "    }\n",
       "\n",
       "    .dataframe tbody tr th {\n",
       "        vertical-align: top;\n",
       "    }\n",
       "\n",
       "    .dataframe thead th {\n",
       "        text-align: right;\n",
       "    }\n",
       "</style>\n",
       "<table border=\"1\" class=\"dataframe\">\n",
       "  <thead>\n",
       "    <tr style=\"text-align: right;\">\n",
       "      <th>classname</th>\n",
       "      <th>None</th>\n",
       "      <th>addiction</th>\n",
       "      <th>pain</th>\n",
       "      <th>pleasure</th>\n",
       "    </tr>\n",
       "    <tr>\n",
       "      <th>class</th>\n",
       "      <th></th>\n",
       "      <th></th>\n",
       "      <th></th>\n",
       "      <th></th>\n",
       "    </tr>\n",
       "  </thead>\n",
       "  <tbody>\n",
       "    <tr>\n",
       "      <th>0</th>\n",
       "      <td>166</td>\n",
       "      <td>0</td>\n",
       "      <td>0</td>\n",
       "      <td>0</td>\n",
       "    </tr>\n",
       "    <tr>\n",
       "      <th>1</th>\n",
       "      <td>0</td>\n",
       "      <td>0</td>\n",
       "      <td>229</td>\n",
       "      <td>0</td>\n",
       "    </tr>\n",
       "    <tr>\n",
       "      <th>2</th>\n",
       "      <td>0</td>\n",
       "      <td>197</td>\n",
       "      <td>0</td>\n",
       "      <td>572</td>\n",
       "    </tr>\n",
       "  </tbody>\n",
       "</table>\n",
       "</div>"
      ],
      "text/plain": [
       "classname  None  addiction  pain  pleasure\n",
       "class                                     \n",
       "0           166          0     0         0\n",
       "1             0          0   229         0\n",
       "2             0        197     0       572"
      ]
     },
     "execution_count": 4,
     "metadata": {},
     "output_type": "execute_result"
    }
   ],
   "source": [
    "crosstab(df['class'], df['classname'])"
   ]
  },
  {
   "cell_type": "code",
   "execution_count": 14,
   "metadata": {},
   "outputs": [
    {
     "ename": "NameError",
     "evalue": "name 'corr' is not defined",
     "output_type": "error",
     "traceback": [
      "\u001b[1;31m---------------------------------------------------------------------------\u001b[0m",
      "\u001b[1;31mNameError\u001b[0m                                 Traceback (most recent call last)",
      "\u001b[1;32m<ipython-input-14-262cd315669e>\u001b[0m in \u001b[0;36m<module>\u001b[1;34m()\u001b[0m\n\u001b[1;32m----> 1\u001b[1;33m \u001b[0mcorr\u001b[0m\u001b[1;33m(\u001b[0m\u001b[0mdf\u001b[0m\u001b[1;33m[\u001b[0m\u001b[0mX\u001b[0m\u001b[1;33m]\u001b[0m\u001b[1;33m,\u001b[0m \u001b[0mdf\u001b[0m\u001b[1;33m[\u001b[0m\u001b[0mY\u001b[0m\u001b[1;33m]\u001b[0m\u001b[1;33m)\u001b[0m\u001b[1;33m\u001b[0m\u001b[0m\n\u001b[0m",
      "\u001b[1;31mNameError\u001b[0m: name 'corr' is not defined"
     ]
    }
   ],
   "source": [
    "corr(df[X], df[Y])"
   ]
  },
  {
   "cell_type": "markdown",
   "metadata": {},
   "source": [
    "### Define X and Y"
   ]
  },
  {
   "cell_type": "code",
   "execution_count": 5,
   "metadata": {},
   "outputs": [],
   "source": [
    "X = df[df.columns.difference(['screen_name', 'user_id', 'classname', 'class'])]\n",
    "y = df['class']"
   ]
  },
  {
   "cell_type": "markdown",
   "metadata": {},
   "source": [
    "### Oversampling"
   ]
  },
  {
   "cell_type": "code",
   "execution_count": 6,
   "metadata": {},
   "outputs": [
    {
     "name": "stdout",
     "output_type": "stream",
     "text": [
      "Original dataset shape Counter({2: 769, 1: 229, 0: 166})\n"
     ]
    }
   ],
   "source": [
    "print('Original dataset shape %s' % Counter(y))"
   ]
  },
  {
   "cell_type": "code",
   "execution_count": 7,
   "metadata": {},
   "outputs": [],
   "source": [
    "oversampling = SMOTE(random_state=0)\n",
    "X_res, y_res = oversampling.fit_resample(X, y)"
   ]
  },
  {
   "cell_type": "code",
   "execution_count": 8,
   "metadata": {},
   "outputs": [
    {
     "name": "stdout",
     "output_type": "stream",
     "text": [
      "Resampled dataset shape Counter({2: 769, 1: 769, 0: 769})\n"
     ]
    }
   ],
   "source": [
    "print('Resampled dataset shape %s' % Counter(y_res))"
   ]
  },
  {
   "cell_type": "markdown",
   "metadata": {},
   "source": [
    "### Train Test Split"
   ]
  },
  {
   "cell_type": "code",
   "execution_count": 9,
   "metadata": {},
   "outputs": [],
   "source": [
    "train, test = train_test_split(pd.concat([X_res, y_res], axis=1), test_size=0.3, random_state=0, stratify=y_res)"
   ]
  },
  {
   "cell_type": "code",
   "execution_count": 10,
   "metadata": {},
   "outputs": [],
   "source": [
    "X_train = train[train.columns.difference(['screen_name', 'user_id', 'classname', 'class'])]\n",
    "y_train = train['class']\n",
    "X_test = test[test.columns.difference(['screen_name', 'user_id', 'classname', 'class'])]\n",
    "y_test = test['class']"
   ]
  },
  {
   "cell_type": "code",
   "execution_count": 11,
   "metadata": {},
   "outputs": [
    {
     "data": {
      "text/plain": [
       "2    538\n",
       "1    538\n",
       "0    538\n",
       "Name: class, dtype: int64"
      ]
     },
     "execution_count": 11,
     "metadata": {},
     "output_type": "execute_result"
    }
   ],
   "source": [
    "y_train.value_counts()"
   ]
  },
  {
   "cell_type": "code",
   "execution_count": 12,
   "metadata": {},
   "outputs": [
    {
     "data": {
      "text/plain": [
       "2    231\n",
       "1    231\n",
       "0    231\n",
       "Name: class, dtype: int64"
      ]
     },
     "execution_count": 12,
     "metadata": {},
     "output_type": "execute_result"
    }
   ],
   "source": [
    "y_test.value_counts()"
   ]
  },
  {
   "cell_type": "markdown",
   "metadata": {},
   "source": [
    "### Baseline Model"
   ]
  },
  {
   "cell_type": "code",
   "execution_count": 13,
   "metadata": {},
   "outputs": [],
   "source": [
    "lr = LogisticRegression(solver='newton-cg', random_state=0)\n",
    "svc = SVC(random_state=0)\n",
    "rf = RandomForestClassifier(random_state=0)\n",
    "xgb = XGBClassifier(objective='multi:softmax', num_class=4, random_state=0)\n",
    "nb = GaussianNB()\n",
    "\n",
    "onevsone_lr = OneVsOneClassifier(lr).fit(X_train, y_train)\n",
    "onevsone_svc = OneVsOneClassifier(svc).fit(X_train, y_train)\n",
    "onevsone_rf = OneVsOneClassifier(rf).fit(X_train, y_train)\n",
    "# onevsone_xgb = OneVsOneClassifier(xgb).fit(X_train, y_train)\n",
    "onevsone_nb = OneVsOneClassifier(nb).fit(X_train, y_train)\n",
    "\n",
    "onevsrest_lr = OneVsRestClassifier(lr).fit(X_train, y_train)\n",
    "onevsrest_svc = OneVsRestClassifier(svc).fit(X_train, y_train)\n",
    "onevsrest_rf = OneVsRestClassifier(rf).fit(X_train, y_train)\n",
    "onevsrest_nb = OneVsRestClassifier(nb).fit(X_train, y_train)"
   ]
  },
  {
   "cell_type": "code",
   "execution_count": 22,
   "metadata": {},
   "outputs": [
    {
     "name": "stdout",
     "output_type": "stream",
     "text": [
      "ovo_lr: Cross validation f1 micro is 0.6270186335403726.\n",
      "ovo_lr: Test f1 micro is 0.6349206349206349\n",
      "ovo_svc: Cross validation f1 micro is 0.7973698336017175.\n",
      "ovo_svc: Test f1 micro is 0.7792207792207793\n",
      "ovo_rf: Cross validation f1 micro is 0.846330802852542.\n",
      "ovo_rf: Test f1 micro is 0.8225108225108225\n",
      "ovo_nb: Cross validation f1 micro is 0.5749789126600721.\n",
      "ovo_nb: Test f1 micro is 0.5440115440115441\n",
      "ovr_lr: Cross validation f1 micro is 0.6331838049229355.\n",
      "ovr_lr: Test f1 micro is 0.6219336219336219\n",
      "ovr_svc: Cross validation f1 micro is 0.786837665823173.\n",
      "ovr_svc: Test f1 micro is 0.7907647907647908\n",
      "ovr_rf: Cross validation f1 micro is 0.8605896787056206.\n",
      "ovr_rf: Test f1 micro is 0.8311688311688312\n",
      "ovr_nb: Cross validation f1 micro is 0.5594778007821486.\n",
      "ovr_nb: Test f1 micro is 0.5281385281385281\n",
      "xgb: Cross validation f1 micro is 0.7831569664902999.\n",
      "xgb: Test f1 micro is 0.759018759018759\n"
     ]
    }
   ],
   "source": [
    "for mod, modname in zip([onevsone_lr, onevsone_svc, onevsone_rf, onevsone_nb, onevsrest_lr, onevsrest_svc, onevsrest_rf,\n",
    "                         onevsrest_nb, xgb],\n",
    "                        ['ovo_lr', 'ovo_svc', 'ovo_rf', 'ovo_nb', 'ovr_lr', 'ovr_svc', 'ovr_rf', 'ovr_nb', 'xgb']):\n",
    "    \n",
    "    score = cross_val_score(mod, X_train, y_train, cv=10, scoring='f1_micro')\n",
    "    print('{}: Cross validation f1 micro is {}.'.format(modname, score.mean()))\n",
    "    \n",
    "    modfit = mod.fit(X_train, y_train)\n",
    "    test_pred = modfit.predict(X_test)\n",
    "    print('{}: Test f1 micro is {}'.format(modname, f1_score(y_test, test_pred, average='micro')))"
   ]
  },
  {
   "cell_type": "code",
   "execution_count": 26,
   "metadata": {},
   "outputs": [
    {
     "name": "stdout",
     "output_type": "stream",
     "text": [
      "              precision    recall  f1-score   support\n",
      "\n",
      "           0       0.87      0.87      0.87       231\n",
      "           1       0.83      0.85      0.84       231\n",
      "           2       0.78      0.77      0.77       231\n",
      "\n",
      "    accuracy                           0.83       693\n",
      "   macro avg       0.83      0.83      0.83       693\n",
      "weighted avg       0.83      0.83      0.83       693\n",
      "\n",
      "micro avg                              0.83\n"
     ]
    }
   ],
   "source": [
    "mod = onevsrest_rf\n",
    "modfit = mod.fit(X_train, y_train)\n",
    "test_pred = modfit.predict(X_test)\n",
    "print(classification_report(y_test, test_pred))\n",
    "print('micro avg                              {}'.format(round(f1_score(y_test, test_pred, average='micro'),2)))"
   ]
  },
  {
   "cell_type": "markdown",
   "metadata": {},
   "source": [
    "### BIC 6"
   ]
  },
  {
   "cell_type": "code",
   "execution_count": 27,
   "metadata": {},
   "outputs": [],
   "source": [
    "BIC_features = ['netspeak_focus', 'money_oriented', 'workhorse', 'active', 'power_driven', 'health_oriented']\n",
    "\n",
    "X_train = train[BIC_features]\n",
    "X_test = test[BIC_features]"
   ]
  },
  {
   "cell_type": "code",
   "execution_count": 28,
   "metadata": {},
   "outputs": [
    {
     "name": "stdout",
     "output_type": "stream",
     "text": [
      "ovo_lr: Cross validation f1 micro is 0.5619507706464228.\n",
      "ovo_lr: Test f1 micro is 0.5526695526695526\n",
      "ovo_svc: Cross validation f1 micro is 0.6455869948623573.\n",
      "ovo_svc: Test f1 micro is 0.6248196248196248\n",
      "ovo_rf: Cross validation f1 micro is 0.7317230273752013.\n",
      "ovo_rf: Test f1 micro is 0.7113997113997114\n",
      "ovo_nb: Cross validation f1 micro is 0.5495820872632466.\n",
      "ovo_nb: Test f1 micro is 0.5108225108225108\n",
      "ovr_lr: Cross validation f1 micro is 0.5619431025228127.\n",
      "ovr_lr: Test f1 micro is 0.5497835497835498\n",
      "ovr_svc: Cross validation f1 micro is 0.6598343685300208.\n",
      "ovr_svc: Test f1 micro is 0.6233766233766234\n",
      "ovr_rf: Cross validation f1 micro is 0.7316923548807607.\n",
      "ovr_rf: Test f1 micro is 0.7085137085137087\n",
      "ovr_nb: Cross validation f1 micro is 0.5446361475346982.\n",
      "ovr_nb: Test f1 micro is 0.5021645021645021\n",
      "xgb: Cross validation f1 micro is 0.6635457403573346.\n",
      "xgb: Test f1 micro is 0.6392496392496393\n"
     ]
    }
   ],
   "source": [
    "for mod, modname in zip([onevsone_lr, onevsone_svc, onevsone_rf, onevsone_nb, onevsrest_lr, onevsrest_svc, onevsrest_rf,\n",
    "                         onevsrest_nb, xgb],\n",
    "                        ['ovo_lr', 'ovo_svc', 'ovo_rf', 'ovo_nb', 'ovr_lr', 'ovr_svc', 'ovr_rf', 'ovr_nb', 'xgb']):\n",
    "    \n",
    "    score = cross_val_score(mod, X_train, y_train, cv=10, scoring='f1_micro')\n",
    "    print('{}: Cross validation f1 micro is {}.'.format(modname, score.mean()))\n",
    "    \n",
    "    modfit = mod.fit(X_train, y_train)\n",
    "    test_pred = modfit.predict(X_test)\n",
    "    print('{}: Test f1 micro is {}'.format(modname, f1_score(y_test, test_pred, average='micro')))"
   ]
  },
  {
   "cell_type": "code",
   "execution_count": 29,
   "metadata": {
    "scrolled": true
   },
   "outputs": [
    {
     "name": "stdout",
     "output_type": "stream",
     "text": [
      "              precision    recall  f1-score   support\n",
      "\n",
      "           0       0.73      0.71      0.72       231\n",
      "           1       0.75      0.76      0.76       231\n",
      "           2       0.66      0.67      0.66       231\n",
      "\n",
      "    accuracy                           0.71       693\n",
      "   macro avg       0.71      0.71      0.71       693\n",
      "weighted avg       0.71      0.71      0.71       693\n",
      "\n",
      "micro avg                              0.71\n"
     ]
    }
   ],
   "source": [
    "mod = onevsone_rf\n",
    "modfit = mod.fit(X_train, y_train)\n",
    "test_pred = modfit.predict(X_test)\n",
    "print(classification_report(y_test, test_pred))\n",
    "print('micro avg                              {}'.format(round(f1_score(y_test, test_pred, average='micro'),2)))"
   ]
  },
  {
   "cell_type": "markdown",
   "metadata": {},
   "source": [
    "### BIC 10"
   ]
  },
  {
   "cell_type": "code",
   "execution_count": 30,
   "metadata": {},
   "outputs": [],
   "source": [
    "BIC_features = ['netspeak_focus', 'money_oriented', 'workhorse', 'active', 'power_driven',\n",
    "                'health_oriented', 'adjustment', 'reward_bias', 'cheerful', 'leisure_oriented']\n",
    "\n",
    "X_train = train[BIC_features]\n",
    "X_test = test[BIC_features]"
   ]
  },
  {
   "cell_type": "code",
   "execution_count": 31,
   "metadata": {},
   "outputs": [],
   "source": [
    "# import math\n",
    "# print('odds ratio    {}'.format(math.exp()) )\n",
    "# print('odds ratio    {}'.format(math.exp())  )\n",
    "# print('odds ratio    {}'.format(math.exp()) )\n",
    "# print('odds ratio    {}'.format(math.exp()) )\n",
    "# print('odds ratio    {}'.format(math.exp())  )"
   ]
  },
  {
   "cell_type": "code",
   "execution_count": 32,
   "metadata": {},
   "outputs": [
    {
     "name": "stdout",
     "output_type": "stream",
     "text": [
      "ovo_lr: Cross validation f1 micro is 0.5799210183268155.\n",
      "ovo_lr: Test f1 micro is 0.5901875901875901\n",
      "ovo_svc: Cross validation f1 micro is 0.6555018786902845.\n",
      "ovo_svc: Test f1 micro is 0.670995670995671\n",
      "ovo_rf: Cross validation f1 micro is 0.7756728778467908.\n",
      "ovo_rf: Test f1 micro is 0.7474747474747475\n",
      "ovo_nb: Cross validation f1 micro is 0.5266697339161107.\n",
      "ovo_nb: Test f1 micro is 0.5238095238095238\n"
     ]
    },
    {
     "name": "stderr",
     "output_type": "stream",
     "text": [
      "C:\\Anaconda\\lib\\site-packages\\scipy\\optimize\\linesearch.py:314: LineSearchWarning: The line search algorithm did not converge\n",
      "  warn('The line search algorithm did not converge', LineSearchWarning)\n",
      "C:\\Anaconda\\lib\\site-packages\\sklearn\\utils\\optimize.py:204: UserWarning: Line Search failed\n",
      "  warnings.warn('Line Search failed')\n"
     ]
    },
    {
     "name": "stdout",
     "output_type": "stream",
     "text": [
      "ovr_lr: Cross validation f1 micro is 0.5861091940802086.\n",
      "ovr_lr: Test f1 micro is 0.5959595959595959\n",
      "ovr_svc: Cross validation f1 micro is 0.6610727704930602.\n",
      "ovr_svc: Test f1 micro is 0.6695526695526696\n",
      "ovr_rf: Cross validation f1 micro is 0.7868223295759528.\n",
      "ovr_rf: Test f1 micro is 0.7503607503607503\n",
      "ovr_nb: Cross validation f1 micro is 0.5372134038800706.\n",
      "ovr_nb: Test f1 micro is 0.5411255411255411\n",
      "xgb: Cross validation f1 micro is 0.6883214477417376.\n",
      "xgb: Test f1 micro is 0.6738816738816739\n"
     ]
    }
   ],
   "source": [
    "for mod, modname in zip([onevsone_lr, onevsone_svc, onevsone_rf, onevsone_nb, onevsrest_lr, onevsrest_svc, onevsrest_rf,\n",
    "                         onevsrest_nb, xgb],\n",
    "                        ['ovo_lr', 'ovo_svc', 'ovo_rf', 'ovo_nb', 'ovr_lr', 'ovr_svc', 'ovr_rf', 'ovr_nb', 'xgb']):\n",
    "    \n",
    "    score = cross_val_score(mod, X_train, y_train, cv=10, scoring='f1_micro')\n",
    "    print('{}: Cross validation f1 micro is {}.'.format(modname, score.mean()))\n",
    "    \n",
    "    modfit = mod.fit(X_train, y_train)\n",
    "    test_pred = modfit.predict(X_test)\n",
    "    print('{}: Test f1 micro is {}'.format(modname, f1_score(y_test, test_pred, average='micro')))"
   ]
  },
  {
   "cell_type": "code",
   "execution_count": 33,
   "metadata": {},
   "outputs": [
    {
     "name": "stdout",
     "output_type": "stream",
     "text": [
      "              precision    recall  f1-score   support\n",
      "\n",
      "           0       0.78      0.78      0.78       231\n",
      "           1       0.79      0.75      0.77       231\n",
      "           2       0.67      0.71      0.69       231\n",
      "\n",
      "    accuracy                           0.75       693\n",
      "   macro avg       0.75      0.75      0.75       693\n",
      "weighted avg       0.75      0.75      0.75       693\n",
      "\n",
      "micro avg                              0.75\n"
     ]
    }
   ],
   "source": [
    "mod = onevsone_rf\n",
    "modfit = mod.fit(X_train, y_train)\n",
    "test_pred = modfit.predict(X_test)\n",
    "print(classification_report(y_test, test_pred))\n",
    "print('micro avg                              {}'.format(round(f1_score(y_test, test_pred, average='micro'),2)))"
   ]
  },
  {
   "cell_type": "markdown",
   "metadata": {},
   "source": [
    "### BIC 15"
   ]
  },
  {
   "cell_type": "code",
   "execution_count": 34,
   "metadata": {},
   "outputs": [],
   "source": [
    "BIC_features = ['netspeak_focus', 'money_oriented', 'workhorse', 'active', 'power_driven',\n",
    "                'health_oriented', 'adjustment', 'reward_bias', 'cheerful', 'leisure_oriented',\n",
    "                'thinking_style', 'aggressive', 'organized', 'self_assured', 'religion_oriented']\n",
    "\n",
    "X_train = train[BIC_features]\n",
    "X_test = test[BIC_features]"
   ]
  },
  {
   "cell_type": "code",
   "execution_count": 35,
   "metadata": {},
   "outputs": [
    {
     "name": "stdout",
     "output_type": "stream",
     "text": [
      "ovo_lr: Cross validation f1 micro is 0.5941837282416993.\n",
      "ovo_lr: Test f1 micro is 0.5930735930735931\n",
      "ovo_svc: Cross validation f1 micro is 0.7137451115711986.\n",
      "ovo_svc: Test f1 micro is 0.7113997113997114\n",
      "ovo_rf: Cross validation f1 micro is 0.8092094164557933.\n",
      "ovo_rf: Test f1 micro is 0.7777777777777778\n",
      "ovo_nb: Cross validation f1 micro is 0.5626255655241162.\n",
      "ovo_nb: Test f1 micro is 0.5483405483405484\n",
      "ovr_lr: Cross validation f1 micro is 0.5811785905988804.\n",
      "ovr_lr: Test f1 micro is 0.5829725829725829\n",
      "ovr_svc: Cross validation f1 micro is 0.716237251744498.\n",
      "ovr_svc: Test f1 micro is 0.7113997113997114\n",
      "ovr_rf: Cross validation f1 micro is 0.8271374894563301.\n",
      "ovr_rf: Test f1 micro is 0.7994227994227994\n",
      "ovr_nb: Cross validation f1 micro is 0.5533356337704163.\n",
      "ovr_nb: Test f1 micro is 0.5353535353535354\n",
      "xgb: Cross validation f1 micro is 0.7094547964113181.\n",
      "xgb: Test f1 micro is 0.6897546897546898\n"
     ]
    }
   ],
   "source": [
    "for mod, modname in zip([onevsone_lr, onevsone_svc, onevsone_rf, onevsone_nb, onevsrest_lr, onevsrest_svc, onevsrest_rf,\n",
    "                         onevsrest_nb, xgb],\n",
    "                        ['ovo_lr', 'ovo_svc', 'ovo_rf', 'ovo_nb', 'ovr_lr', 'ovr_svc', 'ovr_rf', 'ovr_nb', 'xgb']):\n",
    "    \n",
    "    score = cross_val_score(mod, X_train, y_train, cv=10, scoring='f1_micro')\n",
    "    print('{}: Cross validation f1 micro is {}.'.format(modname, score.mean()))\n",
    "    \n",
    "    modfit = mod.fit(X_train, y_train)\n",
    "    test_pred = modfit.predict(X_test)\n",
    "    print('{}: Test f1 micro is {}'.format(modname, f1_score(y_test, test_pred, average='micro')))"
   ]
  },
  {
   "cell_type": "code",
   "execution_count": 36,
   "metadata": {},
   "outputs": [
    {
     "name": "stdout",
     "output_type": "stream",
     "text": [
      "              precision    recall  f1-score   support\n",
      "\n",
      "           0       0.82      0.83      0.83       231\n",
      "           1       0.84      0.81      0.82       231\n",
      "           2       0.74      0.76      0.75       231\n",
      "\n",
      "    accuracy                           0.80       693\n",
      "   macro avg       0.80      0.80      0.80       693\n",
      "weighted avg       0.80      0.80      0.80       693\n",
      "\n",
      "micro avg                              0.8\n"
     ]
    }
   ],
   "source": [
    "mod = onevsrest_rf\n",
    "modfit = mod.fit(X_train, y_train)\n",
    "test_pred = modfit.predict(X_test)\n",
    "print(classification_report(y_test, test_pred))\n",
    "print('micro avg                              {}'.format(round(f1_score(y_test, test_pred, average='micro'),2)))"
   ]
  },
  {
   "cell_type": "markdown",
   "metadata": {},
   "source": [
    "### BIC 20"
   ]
  },
  {
   "cell_type": "code",
   "execution_count": 37,
   "metadata": {},
   "outputs": [],
   "source": [
    "BIC_features = ['netspeak_focus', 'money_oriented', 'workhorse', 'active', 'power_driven',\n",
    "                'health_oriented', 'adjustment', 'reward_bias', 'cheerful', 'leisure_oriented',\n",
    "                'thinking_style', 'aggressive', 'organized', 'self_assured', 'religion_oriented',\n",
    "                'cautious', 'impulsive', 'disciplined', 'type_a', 'liberal']\n",
    "\n",
    "X_train = train[BIC_features]\n",
    "X_test = test[BIC_features]"
   ]
  },
  {
   "cell_type": "code",
   "execution_count": 38,
   "metadata": {},
   "outputs": [
    {
     "name": "stdout",
     "output_type": "stream",
     "text": [
      "ovo_lr: Cross validation f1 micro is 0.5966451959205583.\n",
      "ovo_lr: Test f1 micro is 0.5930735930735931\n",
      "ovo_svc: Cross validation f1 micro is 0.7527605244996549.\n",
      "ovo_svc: Test f1 micro is 0.7344877344877345\n",
      "ovo_rf: Cross validation f1 micro is 0.8178437236408251.\n",
      "ovo_rf: Test f1 micro is 0.7835497835497836\n",
      "ovo_nb: Cross validation f1 micro is 0.563216011042098.\n",
      "ovo_nb: Test f1 micro is 0.5454545454545454\n",
      "ovr_lr: Cross validation f1 micro is 0.5960125757227207.\n",
      "ovr_lr: Test f1 micro is 0.5858585858585859\n",
      "ovr_svc: Cross validation f1 micro is 0.7385323211410167.\n",
      "ovr_svc: Test f1 micro is 0.7359307359307359\n",
      "ovr_rf: Cross validation f1 micro is 0.8277662755923625.\n",
      "ovr_rf: Test f1 micro is 0.8037518037518038\n",
      "ovr_nb: Cross validation f1 micro is 0.560746875239629.\n",
      "ovr_nb: Test f1 micro is 0.5252525252525253\n",
      "xgb: Cross validation f1 micro is 0.7286442757457251.\n",
      "xgb: Test f1 micro is 0.7215007215007215\n"
     ]
    }
   ],
   "source": [
    "for mod, modname in zip([onevsone_lr, onevsone_svc, onevsone_rf, onevsone_nb, onevsrest_lr, onevsrest_svc, onevsrest_rf,\n",
    "                         onevsrest_nb, xgb],\n",
    "                        ['ovo_lr', 'ovo_svc', 'ovo_rf', 'ovo_nb', 'ovr_lr', 'ovr_svc', 'ovr_rf', 'ovr_nb', 'xgb']):\n",
    "    \n",
    "    score = cross_val_score(mod, X_train, y_train, cv=10, scoring='f1_micro')\n",
    "    print('{}: Cross validation f1 micro is {}.'.format(modname, score.mean()))\n",
    "    \n",
    "    modfit = mod.fit(X_train, y_train)\n",
    "    test_pred = modfit.predict(X_test)\n",
    "    print('{}: Test f1 micro is {}'.format(modname, f1_score(y_test, test_pred, average='micro')))"
   ]
  },
  {
   "cell_type": "code",
   "execution_count": 39,
   "metadata": {},
   "outputs": [
    {
     "name": "stdout",
     "output_type": "stream",
     "text": [
      "              precision    recall  f1-score   support\n",
      "\n",
      "           0       0.85      0.83      0.84       231\n",
      "           1       0.82      0.83      0.83       231\n",
      "           2       0.74      0.76      0.75       231\n",
      "\n",
      "    accuracy                           0.80       693\n",
      "   macro avg       0.80      0.80      0.80       693\n",
      "weighted avg       0.80      0.80      0.80       693\n",
      "\n",
      "micro avg                              0.8\n"
     ]
    }
   ],
   "source": [
    "mod = onevsrest_rf\n",
    "modfit = mod.fit(X_train, y_train)\n",
    "test_pred = modfit.predict(X_test)\n",
    "print(classification_report(y_test, test_pred))\n",
    "print('micro avg                              {}'.format(round(f1_score(y_test, test_pred, average='micro'),2)))"
   ]
  },
  {
   "cell_type": "markdown",
   "metadata": {},
   "source": [
    "### BIC 25"
   ]
  },
  {
   "cell_type": "code",
   "execution_count": 40,
   "metadata": {},
   "outputs": [],
   "source": [
    "BIC_features = ['netspeak_focus', 'money_oriented', 'workhorse', 'active', 'power_driven',\n",
    "                'health_oriented', 'adjustment', 'reward_bias', 'cheerful', 'leisure_oriented',\n",
    "                'thinking_style', 'aggressive', 'organized', 'self_assured', 'religion_oriented',\n",
    "                'cautious', 'impulsive', 'disciplined', 'type_a', 'liberal',\n",
    "                'melancholy', 'neuroticism', 'sexual_focus', 'food_focus', 'cold']\n",
    "\n",
    "X_train = train[BIC_features]\n",
    "X_test = test[BIC_features]"
   ]
  },
  {
   "cell_type": "code",
   "execution_count": 41,
   "metadata": {},
   "outputs": [
    {
     "name": "stdout",
     "output_type": "stream",
     "text": [
      "ovo_lr: Cross validation f1 micro is 0.6022237558469443.\n",
      "ovo_lr: Test f1 micro is 0.6204906204906205\n",
      "ovo_svc: Cross validation f1 micro is 0.7769266160570508.\n",
      "ovo_svc: Test f1 micro is 0.7604617604617605\n",
      "ovo_rf: Cross validation f1 micro is 0.8209071390230811.\n",
      "ovo_rf: Test f1 micro is 0.8095238095238095\n",
      "ovo_nb: Cross validation f1 micro is 0.568786902844874.\n",
      "ovo_nb: Test f1 micro is 0.5339105339105339\n",
      "ovr_lr: Cross validation f1 micro is 0.6009853538839046.\n",
      "ovr_lr: Test f1 micro is 0.6190476190476191\n",
      "ovr_svc: Cross validation f1 micro is 0.7676520205505712.\n",
      "ovr_svc: Test f1 micro is 0.7691197691197691\n",
      "ovr_rf: Cross validation f1 micro is 0.84447895100069.\n",
      "ovr_rf: Test f1 micro is 0.8210678210678211\n",
      "ovr_nb: Cross validation f1 micro is 0.5694003527336859.\n",
      "ovr_nb: Test f1 micro is 0.5093795093795094\n",
      "xgb: Cross validation f1 micro is 0.7360478490913274.\n",
      "xgb: Test f1 micro is 0.7229437229437228\n"
     ]
    }
   ],
   "source": [
    "for mod, modname in zip([onevsone_lr, onevsone_svc, onevsone_rf, onevsone_nb, onevsrest_lr, onevsrest_svc, onevsrest_rf,\n",
    "                         onevsrest_nb, xgb],\n",
    "                        ['ovo_lr', 'ovo_svc', 'ovo_rf', 'ovo_nb', 'ovr_lr', 'ovr_svc', 'ovr_rf', 'ovr_nb', 'xgb']):\n",
    "    \n",
    "    score = cross_val_score(mod, X_train, y_train, cv=10, scoring='f1_micro')\n",
    "    print('{}: Cross validation f1 micro is {}.'.format(modname, score.mean()))\n",
    "    \n",
    "    modfit = mod.fit(X_train, y_train)\n",
    "    test_pred = modfit.predict(X_test)\n",
    "    print('{}: Test f1 micro is {}'.format(modname, f1_score(y_test, test_pred, average='micro')))"
   ]
  },
  {
   "cell_type": "code",
   "execution_count": 42,
   "metadata": {},
   "outputs": [
    {
     "name": "stdout",
     "output_type": "stream",
     "text": [
      "              precision    recall  f1-score   support\n",
      "\n",
      "           0       0.85      0.86      0.86       231\n",
      "           1       0.84      0.83      0.84       231\n",
      "           2       0.77      0.77      0.77       231\n",
      "\n",
      "    accuracy                           0.82       693\n",
      "   macro avg       0.82      0.82      0.82       693\n",
      "weighted avg       0.82      0.82      0.82       693\n",
      "\n",
      "micro avg                              0.82\n"
     ]
    }
   ],
   "source": [
    "mod = onevsrest_rf\n",
    "modfit = mod.fit(X_train, y_train)\n",
    "test_pred = modfit.predict(X_test)\n",
    "print(classification_report(y_test, test_pred))\n",
    "print('micro avg                              {}'.format(round(f1_score(y_test, test_pred, average='micro'),2)))"
   ]
  },
  {
   "cell_type": "markdown",
   "metadata": {},
   "source": [
    "### BIC 30"
   ]
  },
  {
   "cell_type": "code",
   "execution_count": 43,
   "metadata": {},
   "outputs": [],
   "source": [
    "BIC_features = ['netspeak_focus', 'money_oriented', 'workhorse', 'active', 'power_driven',\n",
    "                'health_oriented', 'adjustment', 'reward_bias', 'cheerful', 'leisure_oriented',\n",
    "                'thinking_style', 'aggressive', 'organized', 'self_assured', 'religion_oriented',\n",
    "                'cautious', 'impulsive', 'disciplined', 'type_a', 'liberal',\n",
    "                'melancholy', 'neuroticism', 'sexual_focus', 'food_focus', 'cold',\n",
    "                'friend_focus', 'agreeableness', 'generous', 'genuine', 'self_conscious']\n",
    "\n",
    "X_train = train[BIC_features]\n",
    "X_test = test[BIC_features]"
   ]
  },
  {
   "cell_type": "code",
   "execution_count": 44,
   "metadata": {},
   "outputs": [
    {
     "name": "stdout",
     "output_type": "stream",
     "text": [
      "ovo_lr: Cross validation f1 micro is 0.6232995935894486.\n",
      "ovo_lr: Test f1 micro is 0.6204906204906205\n",
      "ovo_svc: Cross validation f1 micro is 0.7855954297983283.\n",
      "ovo_svc: Test f1 micro is 0.7748917748917749\n",
      "ovo_rf: Cross validation f1 micro is 0.8227666589985431.\n",
      "ovo_rf: Test f1 micro is 0.8225108225108225\n",
      "ovo_nb: Cross validation f1 micro is 0.5626217314623111.\n",
      "ovo_nb: Test f1 micro is 0.5468975468975469\n",
      "ovr_lr: Cross validation f1 micro is 0.6214209033049612.\n",
      "ovr_lr: Test f1 micro is 0.6291486291486291\n",
      "ovr_svc: Cross validation f1 micro is 0.7738171919331339.\n",
      "ovr_svc: Test f1 micro is 0.7705627705627706\n",
      "ovr_rf: Cross validation f1 micro is 0.8388812207652787.\n",
      "ovr_rf: Test f1 micro is 0.8311688311688312\n",
      "ovr_nb: Cross validation f1 micro is 0.5588835212023618.\n",
      "ovr_nb: Test f1 micro is 0.5310245310245311\n",
      "xgb: Cross validation f1 micro is 0.7540104286481097.\n",
      "xgb: Test f1 micro is 0.7518037518037518\n"
     ]
    }
   ],
   "source": [
    "for mod, modname in zip([onevsone_lr, onevsone_svc, onevsone_rf, onevsone_nb, onevsrest_lr, onevsrest_svc, onevsrest_rf,\n",
    "                         onevsrest_nb, xgb],\n",
    "                        ['ovo_lr', 'ovo_svc', 'ovo_rf', 'ovo_nb', 'ovr_lr', 'ovr_svc', 'ovr_rf', 'ovr_nb', 'xgb']):\n",
    "    \n",
    "    score = cross_val_score(mod, X_train, y_train, cv=10, scoring='f1_micro')\n",
    "    print('{}: Cross validation f1 micro is {}.'.format(modname, score.mean()))\n",
    "    \n",
    "    modfit = mod.fit(X_train, y_train)\n",
    "    test_pred = modfit.predict(X_test)\n",
    "    print('{}: Test f1 micro is {}'.format(modname, f1_score(y_test, test_pred, average='micro')))"
   ]
  },
  {
   "cell_type": "code",
   "execution_count": 45,
   "metadata": {},
   "outputs": [
    {
     "name": "stdout",
     "output_type": "stream",
     "text": [
      "              precision    recall  f1-score   support\n",
      "\n",
      "           0       0.88      0.87      0.87       231\n",
      "           1       0.83      0.84      0.83       231\n",
      "           2       0.78      0.79      0.79       231\n",
      "\n",
      "    accuracy                           0.83       693\n",
      "   macro avg       0.83      0.83      0.83       693\n",
      "weighted avg       0.83      0.83      0.83       693\n",
      "\n",
      "micro avg                              0.83\n"
     ]
    }
   ],
   "source": [
    "mod = onevsrest_rf\n",
    "modfit = mod.fit(X_train, y_train)\n",
    "test_pred = modfit.predict(X_test)\n",
    "print(classification_report(y_test, test_pred))\n",
    "print('micro avg                              {}'.format(round(f1_score(y_test, test_pred, average='micro'),2)))"
   ]
  },
  {
   "cell_type": "markdown",
   "metadata": {},
   "source": [
    "### BIC 35"
   ]
  },
  {
   "cell_type": "code",
   "execution_count": 46,
   "metadata": {},
   "outputs": [],
   "source": [
    "BIC_features = ['netspeak_focus', 'money_oriented', 'workhorse', 'active', 'power_driven',\n",
    "                'health_oriented', 'adjustment', 'reward_bias', 'cheerful', 'leisure_oriented',\n",
    "                'thinking_style', 'aggressive', 'organized', 'self_assured', 'religion_oriented',\n",
    "                'cautious', 'impulsive', 'disciplined', 'type_a', 'liberal',\n",
    "                'melancholy', 'neuroticism', 'sexual_focus', 'food_focus', 'cold',\n",
    "                'friend_focus', 'agreeableness', 'generous', 'genuine', 'self_conscious',\n",
    "                'emotionally_aware', 'artistic', 'ambitious', 'adventurous', 'anxious']\n",
    "\n",
    "X_train = train[BIC_features]\n",
    "X_test = test[BIC_features]"
   ]
  },
  {
   "cell_type": "code",
   "execution_count": 47,
   "metadata": {},
   "outputs": [
    {
     "name": "stdout",
     "output_type": "stream",
     "text": [
      "ovo_lr: Cross validation f1 micro is 0.629495437466452.\n",
      "ovo_lr: Test f1 micro is 0.6507936507936508\n",
      "ovo_svc: Cross validation f1 micro is 0.7992331876389847.\n",
      "ovo_svc: Test f1 micro is 0.7878787878787878\n",
      "ovo_rf: Cross validation f1 micro is 0.833317997086113.\n",
      "ovo_rf: Test f1 micro is 0.8023088023088023\n",
      "ovo_nb: Cross validation f1 micro is 0.5632236791657081.\n",
      "ovo_nb: Test f1 micro is 0.5454545454545454\n",
      "ovr_lr: Cross validation f1 micro is 0.6325818572195383.\n",
      "ovr_lr: Test f1 micro is 0.6493506493506493\n",
      "ovr_svc: Cross validation f1 micro is 0.7849551414768806.\n",
      "ovr_svc: Test f1 micro is 0.7922077922077922\n",
      "ovr_rf: Cross validation f1 micro is 0.8500498428034661.\n",
      "ovr_rf: Test f1 micro is 0.834054834054834\n",
      "ovr_nb: Cross validation f1 micro is 0.5619967793880838.\n",
      "ovr_nb: Test f1 micro is 0.5339105339105339\n",
      "xgb: Cross validation f1 micro is 0.7608427267847557.\n",
      "xgb: Test f1 micro is 0.7518037518037518\n"
     ]
    }
   ],
   "source": [
    "for mod, modname in zip([onevsone_lr, onevsone_svc, onevsone_rf, onevsone_nb, onevsrest_lr, onevsrest_svc, onevsrest_rf,\n",
    "                         onevsrest_nb, xgb],\n",
    "                        ['ovo_lr', 'ovo_svc', 'ovo_rf', 'ovo_nb', 'ovr_lr', 'ovr_svc', 'ovr_rf', 'ovr_nb', 'xgb']):\n",
    "    \n",
    "    score = cross_val_score(mod, X_train, y_train, cv=10, scoring='f1_micro')\n",
    "    print('{}: Cross validation f1 micro is {}.'.format(modname, score.mean()))\n",
    "    \n",
    "    modfit = mod.fit(X_train, y_train)\n",
    "    test_pred = modfit.predict(X_test)\n",
    "    print('{}: Test f1 micro is {}'.format(modname, f1_score(y_test, test_pred, average='micro')))"
   ]
  },
  {
   "cell_type": "code",
   "execution_count": 48,
   "metadata": {},
   "outputs": [
    {
     "name": "stdout",
     "output_type": "stream",
     "text": [
      "              precision    recall  f1-score   support\n",
      "\n",
      "           0       0.88      0.87      0.88       231\n",
      "           1       0.85      0.84      0.84       231\n",
      "           2       0.78      0.79      0.78       231\n",
      "\n",
      "    accuracy                           0.83       693\n",
      "   macro avg       0.83      0.83      0.83       693\n",
      "weighted avg       0.83      0.83      0.83       693\n",
      "\n",
      "micro avg                              0.83\n"
     ]
    }
   ],
   "source": [
    "mod = onevsrest_rf\n",
    "modfit = mod.fit(X_train, y_train)\n",
    "test_pred = modfit.predict(X_test)\n",
    "print(classification_report(y_test, test_pred))\n",
    "print('micro avg                              {}'.format(round(f1_score(y_test, test_pred, average='micro'),2)))"
   ]
  },
  {
   "cell_type": "markdown",
   "metadata": {},
   "source": [
    "### BIC 40"
   ]
  },
  {
   "cell_type": "code",
   "execution_count": 49,
   "metadata": {},
   "outputs": [],
   "source": [
    "BIC_features = ['netspeak_focus', 'money_oriented', 'workhorse', 'active', 'power_driven',\n",
    "                'health_oriented', 'adjustment', 'reward_bias', 'cheerful', 'leisure_oriented',\n",
    "                'thinking_style', 'aggressive', 'organized', 'self_assured', 'religion_oriented',\n",
    "                'cautious', 'impulsive', 'disciplined', 'type_a', 'liberal',\n",
    "                'melancholy', 'neuroticism', 'sexual_focus', 'food_focus', 'cold',\n",
    "                'friend_focus', 'agreeableness', 'generous', 'genuine', 'self_conscious',\n",
    "                'emotionally_aware', 'artistic', 'ambitious', 'adventurous', 'anxious',\n",
    "                'stressed', 'work_oriented', 'depression', 'family_oriented', 'insecure']\n",
    "\n",
    "X_train = train[BIC_features]\n",
    "X_test = test[BIC_features]"
   ]
  },
  {
   "cell_type": "code",
   "execution_count": 50,
   "metadata": {},
   "outputs": [
    {
     "name": "stdout",
     "output_type": "stream",
     "text": [
      "ovo_lr: Cross validation f1 micro is 0.6424852388620504.\n",
      "ovo_lr: Test f1 micro is 0.6421356421356421\n",
      "ovo_svc: Cross validation f1 micro is 0.796733379342075.\n",
      "ovo_svc: Test f1 micro is 0.7777777777777778\n",
      "ovo_rf: Cross validation f1 micro is 0.8358101372594126.\n",
      "ovo_rf: Test f1 micro is 0.8124098124098124\n",
      "ovo_nb: Cross validation f1 micro is 0.5588796871405568.\n",
      "ovo_nb: Test f1 micro is 0.5468975468975469\n",
      "ovr_lr: Cross validation f1 micro is 0.6313434552564987.\n",
      "ovr_lr: Test f1 micro is 0.6378066378066378\n",
      "ovr_svc: Cross validation f1 micro is 0.7861935434399202.\n",
      "ovr_svc: Test f1 micro is 0.772005772005772\n",
      "ovr_rf: Cross validation f1 micro is 0.8463154666053218.\n",
      "ovr_rf: Test f1 micro is 0.8383838383838383\n",
      "ovr_nb: Cross validation f1 micro is 0.5601180891035964.\n",
      "ovr_nb: Test f1 micro is 0.5483405483405484\n",
      "xgb: Cross validation f1 micro is 0.7651675485008819.\n",
      "xgb: Test f1 micro is 0.7518037518037518\n"
     ]
    }
   ],
   "source": [
    "for mod, modname in zip([onevsone_lr, onevsone_svc, onevsone_rf, onevsone_nb, onevsrest_lr, onevsrest_svc, onevsrest_rf,\n",
    "                         onevsrest_nb, xgb],\n",
    "                        ['ovo_lr', 'ovo_svc', 'ovo_rf', 'ovo_nb', 'ovr_lr', 'ovr_svc', 'ovr_rf', 'ovr_nb', 'xgb']):\n",
    "    \n",
    "    score = cross_val_score(mod, X_train, y_train, cv=10, scoring='f1_micro')\n",
    "    print('{}: Cross validation f1 micro is {}.'.format(modname, score.mean()))\n",
    "    \n",
    "    modfit = mod.fit(X_train, y_train)\n",
    "    test_pred = modfit.predict(X_test)\n",
    "    print('{}: Test f1 micro is {}'.format(modname, f1_score(y_test, test_pred, average='micro')))"
   ]
  },
  {
   "cell_type": "code",
   "execution_count": 51,
   "metadata": {},
   "outputs": [
    {
     "name": "stdout",
     "output_type": "stream",
     "text": [
      "              precision    recall  f1-score   support\n",
      "\n",
      "           0       0.88      0.89      0.88       231\n",
      "           1       0.84      0.84      0.84       231\n",
      "           2       0.80      0.79      0.79       231\n",
      "\n",
      "    accuracy                           0.84       693\n",
      "   macro avg       0.84      0.84      0.84       693\n",
      "weighted avg       0.84      0.84      0.84       693\n",
      "\n",
      "micro avg                              0.84\n",
      "macro avg                              0.84\n"
     ]
    }
   ],
   "source": [
    "mod = onevsrest_rf\n",
    "modfit = mod.fit(X_train, y_train)\n",
    "test_pred = modfit.predict(X_test)\n",
    "print(classification_report(y_test, test_pred))\n",
    "print('micro avg                              {}'.format(round(f1_score(y_test, test_pred, average='micro'),2)))\n",
    "print('macro avg                              {}'.format(round(f1_score(y_test, test_pred, average='macro'),2)))"
   ]
  },
  {
   "cell_type": "markdown",
   "metadata": {},
   "source": [
    "#### Odds Ratio for BIC 40"
   ]
  },
  {
   "cell_type": "code",
   "execution_count": null,
   "metadata": {},
   "outputs": [],
   "source": [
    "# Coefficients:\n",
    "#      (Intercept) netspeak_focus money_oriented    workhorse       active\n",
    "#    1   -0.728999   -0.023476272    0.010378129 -0.009522501 -0.015349323\n",
    "#    2    2.128925   -0.006137466   -0.003026801 -0.031658883  0.003269262\n",
    "#      power_driven health_oriented  adjustment  reward_bias     cheerful\n",
    "#    1  -0.02553222     0.016059395 -0.04908470 -0.006461065  0.008260045\n",
    "#    2  -0.01451243     0.008371385 -0.01654196  0.006186548 -0.010192141\n",
    "#      leisure_oriented thinking_style  aggressive    organized self_assured\n",
    "#    1      -0.01137100   -0.001625862 -0.02968211 -0.008331101  0.006260128\n",
    "#    2      -0.01194271    0.014451886 -0.03226892 -0.016988143  0.017833144\n",
    "#      religion_oriented      cautious   impulsive  disciplined     type_a\n",
    "#    1      -0.004719442  0.0127061385 0.027234667  0.003919399 0.01376712\n",
    "#    2       0.006997811 -0.0005605821 0.003561902 -0.007219051 0.02124003\n",
    "#          liberal melancholy neuroticism sexual_focus  food_focus       cold\n",
    "#    1 -0.01522392 0.02295983 -0.04673314   0.01817473 0.004430683 0.02393643\n",
    "#    2 -0.02271685 0.02128984 -0.04686367   0.01612098 0.007613981 0.01435010\n",
    "#      friend_focus agreeableness     generous    genuine self_conscious\n",
    "#    1  0.004076875  -0.001436249 -0.002730232 0.01069174     0.01880966\n",
    "#    2  0.008815973  -0.023137742  0.019466417 0.02244011     0.01946617\n",
    "#      emotionally_aware   artistic   ambitious  adventurous      anxious\n",
    "#    1      -0.013205394 0.01079969 0.008774397 -0.008834482  0.003593158\n",
    "#    2      -0.007231397 0.01276577 0.017758021 -0.016618487 -0.005953701\n",
    "#         stressed work_oriented  depression family_oriented    insecure\n",
    "#    1 0.002260092   0.001703292 0.014276417     0.009998929 -0.01661206\n",
    "#    2 0.011207941  -0.004048210 0.001663619     0.006171349 -0.01342986"
   ]
  },
  {
   "cell_type": "code",
   "execution_count": 128,
   "metadata": {},
   "outputs": [],
   "source": [
    "coefficients_pain_vs_none = [-0.023476272, 0.010378129, -0.009522501, -0.015349323,\n",
    "                            -0.02553222, 0.016059395, -0.04908470, -0.006461065, 0.008260045,\n",
    "                            -0.01137100, -0.001625862, -0.02968211, -0.008331101, 0.006260128,\n",
    "                            -0.004719442, 0.0127061385, 0.027234667, 0.003919399, 0.01376712,\n",
    "                            -0.01522392, 0.02295983, -0.04673314, 0.01817473, 0.004430683, 0.02393643,\n",
    "                             0.004076875, -0.001436249, -0.002730232, 0.01069174, 0.01880966,\n",
    "                            -0.013205394, 0.01079969, 0.008774397, -0.008834482, 0.003593158,\n",
    "                            0.002260092, 0.001703292, 0.014276417, 0.009998929, -0.01661206]\n",
    "\n",
    "coefficients_PleasureAddiction_vs_none = [-0.006137466, -0.003026801, -0.031658883, 0.003269262,\n",
    "                                         -0.01451243, 0.008371385, -0.01654196, 0.006186548, -0.010192141,\n",
    "                                         -0.01194271, 0.014451886, -0.03226892, -0.016988143, 0.017833144,\n",
    "                                         0.006997811, -0.0005605821, 0.003561902, -0.007219051, 0.02124003,\n",
    "                                         -0.02271685, 0.02128984, -0.04686367, 0.01612098, 0.007613981, 0.01435010,\n",
    "                                         0.008815973, -0.023137742, 0.019466417, 0.02244011, 0.01946617,\n",
    "                                          -0.007231397, 0.01276577, 0.017758021, -0.016618487, -0.005953701,\n",
    "                                         0.011207941, -0.004048210, 0.001663619, 0.006171349, -0.01342986]\n",
    "\n",
    "Feature_nm = ['netspeak_focus', 'money_oriented', 'workhorse', 'active',\n",
    "             'power_driven', 'health_oriented', 'adjustment', 'reward_bias', 'cheerful',\n",
    "             'leisure_oriented', 'thinking_style', 'aggressive', 'organized', 'self_assured',\n",
    "              'religion_oriented', 'cautious', 'impulsive', 'disciplined', 'type_a',\n",
    "             'liberal', 'melancholy', 'neuroticism', 'sexual_focus', 'food_focus', 'cold',\n",
    "             'friend_focus', 'agreeableness', 'generous', 'genuine', 'self_conscious',\n",
    "              'emotionally_aware', 'artistic', 'ambitious', 'adventurous', 'anxious',\n",
    "             'stressed', 'work_oriented', 'depression', 'family_oriented', 'insecure']"
   ]
  },
  {
   "cell_type": "code",
   "execution_count": 129,
   "metadata": {},
   "outputs": [
    {
     "name": "stdout",
     "output_type": "stream",
     "text": [
      "Odds Ratio\n",
      "NETSPEAK_FOCUS\n",
      "ref: None\n",
      "     Pain 0.977\n",
      "     Pleasure & Addiction 0.994\n",
      "MONEY_ORIENTED\n",
      "ref: None\n",
      "     Pain 1.01\n",
      "     Pleasure & Addiction 0.997\n",
      "WORKHORSE\n",
      "ref: None\n",
      "     Pain 0.991\n",
      "     Pleasure & Addiction 0.969\n",
      "ACTIVE\n",
      "ref: None\n",
      "     Pain 0.985\n",
      "     Pleasure & Addiction 1.003\n",
      "POWER_DRIVEN\n",
      "ref: None\n",
      "     Pain 0.975\n",
      "     Pleasure & Addiction 0.986\n",
      "HEALTH_ORIENTED\n",
      "ref: None\n",
      "     Pain 1.016\n",
      "     Pleasure & Addiction 1.008\n",
      "ADJUSTMENT\n",
      "ref: None\n",
      "     Pain 0.952\n",
      "     Pleasure & Addiction 0.984\n",
      "REWARD_BIAS\n",
      "ref: None\n",
      "     Pain 0.994\n",
      "     Pleasure & Addiction 1.006\n",
      "CHEERFUL\n",
      "ref: None\n",
      "     Pain 1.008\n",
      "     Pleasure & Addiction 0.99\n",
      "LEISURE_ORIENTED\n",
      "ref: None\n",
      "     Pain 0.989\n",
      "     Pleasure & Addiction 0.988\n",
      "THINKING_STYLE\n",
      "ref: None\n",
      "     Pain 0.998\n",
      "     Pleasure & Addiction 1.015\n",
      "AGGRESSIVE\n",
      "ref: None\n",
      "     Pain 0.971\n",
      "     Pleasure & Addiction 0.968\n",
      "ORGANIZED\n",
      "ref: None\n",
      "     Pain 0.992\n",
      "     Pleasure & Addiction 0.983\n",
      "SELF_ASSURED\n",
      "ref: None\n",
      "     Pain 1.006\n",
      "     Pleasure & Addiction 1.018\n",
      "RELIGION_ORIENTED\n",
      "ref: None\n",
      "     Pain 0.995\n",
      "     Pleasure & Addiction 1.007\n",
      "CAUTIOUS\n",
      "ref: None\n",
      "     Pain 1.013\n",
      "     Pleasure & Addiction 0.999\n",
      "IMPULSIVE\n",
      "ref: None\n",
      "     Pain 1.028\n",
      "     Pleasure & Addiction 1.004\n",
      "DISCIPLINED\n",
      "ref: None\n",
      "     Pain 1.004\n",
      "     Pleasure & Addiction 0.993\n",
      "TYPE_A\n",
      "ref: None\n",
      "     Pain 1.014\n",
      "     Pleasure & Addiction 1.021\n",
      "LIBERAL\n",
      "ref: None\n",
      "     Pain 0.985\n",
      "     Pleasure & Addiction 0.978\n",
      "MELANCHOLY\n",
      "ref: None\n",
      "     Pain 1.023\n",
      "     Pleasure & Addiction 1.022\n",
      "NEUROTICISM\n",
      "ref: None\n",
      "     Pain 0.954\n",
      "     Pleasure & Addiction 0.954\n",
      "SEXUAL_FOCUS\n",
      "ref: None\n",
      "     Pain 1.018\n",
      "     Pleasure & Addiction 1.016\n",
      "FOOD_FOCUS\n",
      "ref: None\n",
      "     Pain 1.004\n",
      "     Pleasure & Addiction 1.008\n",
      "COLD\n",
      "ref: None\n",
      "     Pain 1.024\n",
      "     Pleasure & Addiction 1.014\n",
      "FRIEND_FOCUS\n",
      "ref: None\n",
      "     Pain 1.004\n",
      "     Pleasure & Addiction 1.009\n",
      "AGREEABLENESS\n",
      "ref: None\n",
      "     Pain 0.999\n",
      "     Pleasure & Addiction 0.977\n",
      "GENEROUS\n",
      "ref: None\n",
      "     Pain 0.997\n",
      "     Pleasure & Addiction 1.02\n",
      "GENUINE\n",
      "ref: None\n",
      "     Pain 1.011\n",
      "     Pleasure & Addiction 1.023\n",
      "SELF_CONSCIOUS\n",
      "ref: None\n",
      "     Pain 1.019\n",
      "     Pleasure & Addiction 1.02\n",
      "EMOTIONALLY_AWARE\n",
      "ref: None\n",
      "     Pain 0.987\n",
      "     Pleasure & Addiction 0.993\n",
      "ARTISTIC\n",
      "ref: None\n",
      "     Pain 1.011\n",
      "     Pleasure & Addiction 1.013\n",
      "AMBITIOUS\n",
      "ref: None\n",
      "     Pain 1.009\n",
      "     Pleasure & Addiction 1.018\n",
      "ADVENTUROUS\n",
      "ref: None\n",
      "     Pain 0.991\n",
      "     Pleasure & Addiction 0.984\n",
      "ANXIOUS\n",
      "ref: None\n",
      "     Pain 1.004\n",
      "     Pleasure & Addiction 0.994\n",
      "STRESSED\n",
      "ref: None\n",
      "     Pain 1.002\n",
      "     Pleasure & Addiction 1.011\n",
      "WORK_ORIENTED\n",
      "ref: None\n",
      "     Pain 1.002\n",
      "     Pleasure & Addiction 0.996\n",
      "DEPRESSION\n",
      "ref: None\n",
      "     Pain 1.014\n",
      "     Pleasure & Addiction 1.002\n",
      "FAMILY_ORIENTED\n",
      "ref: None\n",
      "     Pain 1.01\n",
      "     Pleasure & Addiction 1.006\n",
      "INSECURE\n",
      "ref: None\n",
      "     Pain 0.984\n",
      "     Pleasure & Addiction 0.987\n"
     ]
    }
   ],
   "source": [
    "print('Odds Ratio')\n",
    "for coef_pain, coef_pleasreaddiction, feature_name in zip(coefficients_pain_vs_none,\n",
    "                                                          coefficients_PleasureAddiction_vs_none,\n",
    "                                                          Feature_nm):\n",
    "    print(feature_name.upper())\n",
    "    print('ref: None')\n",
    "    print('     Pain {}'.format(round(math.exp(coef_pain), 3)))\n",
    "    print('     Pleasure & Addiction {}'.format(round(math.exp(coef_pleasreaddiction), 3)))"
   ]
  },
  {
   "cell_type": "markdown",
   "metadata": {},
   "source": [
    "### BIC 45"
   ]
  },
  {
   "cell_type": "code",
   "execution_count": 52,
   "metadata": {},
   "outputs": [],
   "source": [
    "BIC_features = ['netspeak_focus', 'money_oriented', 'workhorse', 'active', 'power_driven',\n",
    "                'health_oriented', 'adjustment', 'reward_bias', 'cheerful', 'leisure_oriented',\n",
    "                'thinking_style', 'aggressive', 'organized', 'self_assured', 'religion_oriented',\n",
    "                'cautious', 'impulsive', 'disciplined', 'type_a', 'liberal',\n",
    "                'melancholy', 'neuroticism', 'sexual_focus', 'food_focus', 'cold',\n",
    "                'friend_focus', 'agreeableness', 'generous', 'genuine', 'self_conscious',\n",
    "                'emotionally_aware', 'artistic', 'ambitious', 'adventurous', 'anxious',\n",
    "                'stressed', 'work_oriented', 'depression', 'family_oriented', 'insecure',\n",
    "                'happiness', 'conscientiousness', 'dutiful', 'persuasive', 'cooperative']\n",
    "\n",
    "X_train = train[BIC_features]\n",
    "X_test = test[BIC_features]"
   ]
  },
  {
   "cell_type": "code",
   "execution_count": 53,
   "metadata": {},
   "outputs": [
    {
     "name": "stdout",
     "output_type": "stream",
     "text": [
      "ovo_lr: Cross validation f1 micro is 0.6307031669350509.\n",
      "ovo_lr: Test f1 micro is 0.6305916305916306\n",
      "ovo_svc: Cross validation f1 micro is 0.794873859366613.\n",
      "ovo_svc: Test f1 micro is 0.7705627705627706\n",
      "ovo_rf: Cross validation f1 micro is 0.8358063031976076.\n",
      "ovo_rf: Test f1 micro is 0.8225108225108225\n",
      "ovo_nb: Cross validation f1 micro is 0.5675638371290546.\n",
      "ovo_nb: Test f1 micro is 0.5411255411255411\n",
      "ovr_lr: Cross validation f1 micro is 0.6356376044781842.\n",
      "ovr_lr: Test f1 micro is 0.6363636363636364\n",
      "ovr_svc: Cross validation f1 micro is 0.7905337014032666.\n",
      "ovr_svc: Test f1 micro is 0.7777777777777778\n",
      "ovr_rf: Cross validation f1 micro is 0.851909362778928.\n",
      "ovr_rf: Test f1 micro is 0.8326118326118326\n",
      "ovr_nb: Cross validation f1 micro is 0.5663024307951844.\n",
      "ovr_nb: Test f1 micro is 0.5180375180375181\n",
      "xgb: Cross validation f1 micro is 0.7670539069089793.\n",
      "xgb: Test f1 micro is 0.7518037518037518\n"
     ]
    }
   ],
   "source": [
    "for mod, modname in zip([onevsone_lr, onevsone_svc, onevsone_rf, onevsone_nb, onevsrest_lr, onevsrest_svc, onevsrest_rf,\n",
    "                         onevsrest_nb, xgb],\n",
    "                        ['ovo_lr', 'ovo_svc', 'ovo_rf', 'ovo_nb', 'ovr_lr', 'ovr_svc', 'ovr_rf', 'ovr_nb', 'xgb']):\n",
    "    \n",
    "    score = cross_val_score(mod, X_train, y_train, cv=10, scoring='f1_micro')\n",
    "    print('{}: Cross validation f1 micro is {}.'.format(modname, score.mean()))\n",
    "    \n",
    "    modfit = mod.fit(X_train, y_train)\n",
    "    test_pred = modfit.predict(X_test)\n",
    "    print('{}: Test f1 micro is {}'.format(modname, f1_score(y_test, test_pred, average='micro')))"
   ]
  },
  {
   "cell_type": "code",
   "execution_count": 54,
   "metadata": {},
   "outputs": [
    {
     "name": "stdout",
     "output_type": "stream",
     "text": [
      "              precision    recall  f1-score   support\n",
      "\n",
      "           0       0.88      0.87      0.87       231\n",
      "           1       0.85      0.84      0.84       231\n",
      "           2       0.78      0.79      0.78       231\n",
      "\n",
      "    accuracy                           0.83       693\n",
      "   macro avg       0.83      0.83      0.83       693\n",
      "weighted avg       0.83      0.83      0.83       693\n",
      "\n",
      "micro avg                              0.83\n"
     ]
    }
   ],
   "source": [
    "mod = onevsrest_rf\n",
    "modfit = mod.fit(X_train, y_train)\n",
    "test_pred = modfit.predict(X_test)\n",
    "print(classification_report(y_test, test_pred))\n",
    "print('micro avg                              {}'.format(round(f1_score(y_test, test_pred, average='micro'),2)))"
   ]
  },
  {
   "cell_type": "markdown",
   "metadata": {},
   "source": [
    "### BIC 50"
   ]
  },
  {
   "cell_type": "code",
   "execution_count": 55,
   "metadata": {},
   "outputs": [],
   "source": [
    "BIC_features = ['netspeak_focus', 'money_oriented', 'workhorse', 'active', 'power_driven',\n",
    "                'health_oriented', 'adjustment', 'reward_bias', 'cheerful', 'leisure_oriented',\n",
    "                'thinking_style', 'aggressive', 'organized', 'self_assured', 'religion_oriented',\n",
    "                'cautious', 'impulsive', 'disciplined', 'type_a', 'liberal',\n",
    "                'melancholy', 'neuroticism', 'sexual_focus', 'food_focus', 'cold',\n",
    "                'friend_focus', 'agreeableness', 'generous', 'genuine', 'self_conscious',\n",
    "                'emotionally_aware', 'artistic', 'ambitious', 'adventurous', 'anxious',\n",
    "                'stressed', 'work_oriented', 'depression', 'family_oriented', 'insecure',\n",
    "                'happiness', 'conscientiousness', 'dutiful', 'persuasive', 'cooperative',\n",
    "                'intellectual', 'humble', 'assertive', 'body_focus', 'friendly']\n",
    "\n",
    "X_train = train[BIC_features]\n",
    "X_test = test[BIC_features]"
   ]
  },
  {
   "cell_type": "code",
   "execution_count": 56,
   "metadata": {},
   "outputs": [
    {
     "name": "stdout",
     "output_type": "stream",
     "text": [
      "ovo_lr: Cross validation f1 micro is 0.6331953071083507.\n",
      "ovo_lr: Test f1 micro is 0.6392496392496393\n",
      "ovo_svc: Cross validation f1 micro is 0.7986120696265624.\n",
      "ovo_svc: Test f1 micro is 0.7734487734487735\n",
      "ovo_rf: Cross validation f1 micro is 0.8419944789510007.\n",
      "ovo_rf: Test f1 micro is 0.8268398268398268\n",
      "ovo_nb: Cross validation f1 micro is 0.5694041867954911.\n",
      "ovo_nb: Test f1 micro is 0.5367965367965368\n",
      "ovr_lr: Cross validation f1 micro is 0.6325626869105131.\n",
      "ovr_lr: Test f1 micro is 0.6378066378066378\n",
      "ovr_svc: Cross validation f1 micro is 0.7899317536998697.\n",
      "ovr_svc: Test f1 micro is 0.7835497835497836\n",
      "ovr_rf: Cross validation f1 micro is 0.8519323671497585.\n",
      "ovr_rf: Test f1 micro is 0.8412698412698413\n",
      "ovr_nb: Cross validation f1 micro is 0.5607238708687985.\n",
      "ovr_nb: Test f1 micro is 0.5223665223665224\n",
      "xgb: Cross validation f1 micro is 0.7732574189095928.\n",
      "xgb: Test f1 micro is 0.7575757575757576\n"
     ]
    }
   ],
   "source": [
    "for mod, modname in zip([onevsone_lr, onevsone_svc, onevsone_rf, onevsone_nb, onevsrest_lr, onevsrest_svc, onevsrest_rf,\n",
    "                         onevsrest_nb, xgb],\n",
    "                        ['ovo_lr', 'ovo_svc', 'ovo_rf', 'ovo_nb', 'ovr_lr', 'ovr_svc', 'ovr_rf', 'ovr_nb', 'xgb']):\n",
    "    \n",
    "    score = cross_val_score(mod, X_train, y_train, cv=10, scoring='f1_micro')\n",
    "    print('{}: Cross validation f1 micro is {}.'.format(modname, score.mean()))\n",
    "    \n",
    "    modfit = mod.fit(X_train, y_train)\n",
    "    test_pred = modfit.predict(X_test)\n",
    "    print('{}: Test f1 micro is {}'.format(modname, f1_score(y_test, test_pred, average='micro')))"
   ]
  },
  {
   "cell_type": "code",
   "execution_count": 57,
   "metadata": {},
   "outputs": [
    {
     "name": "stdout",
     "output_type": "stream",
     "text": [
      "              precision    recall  f1-score   support\n",
      "\n",
      "           0       0.88      0.88      0.88       231\n",
      "           1       0.85      0.87      0.86       231\n",
      "           2       0.80      0.77      0.79       231\n",
      "\n",
      "    accuracy                           0.84       693\n",
      "   macro avg       0.84      0.84      0.84       693\n",
      "weighted avg       0.84      0.84      0.84       693\n",
      "\n",
      "micro avg                              0.84\n"
     ]
    }
   ],
   "source": [
    "mod = onevsrest_rf\n",
    "modfit = mod.fit(X_train, y_train)\n",
    "test_pred = modfit.predict(X_test)\n",
    "print(classification_report(y_test, test_pred))\n",
    "print('micro avg                              {}'.format(round(f1_score(y_test, test_pred, average='micro'),2)))"
   ]
  },
  {
   "cell_type": "code",
   "execution_count": null,
   "metadata": {},
   "outputs": [],
   "source": []
  },
  {
   "cell_type": "markdown",
   "metadata": {},
   "source": [
    "### Model with Backward Feaure Selection using all 29 AIC features"
   ]
  },
  {
   "cell_type": "code",
   "execution_count": 58,
   "metadata": {},
   "outputs": [],
   "source": [
    "AIC_features = ['netspeak_focus', 'liberal', 'self_assured', 'organized', 'type_a',\n",
    "                'cheerful', 'disciplined', 'neuroticism', 'aggressive', 'adjustment',\n",
    "                'religion_oriented', 'food_focus', 'generous', 'sexual_focus', 'thinking_style',\n",
    "                'agreeableness', 'money_oriented', 'melancholy', 'workhorse', 'reward_bias',\n",
    "                'self_conscious', 'leisure_oriented', 'impulsive', 'cautious', 'active',\n",
    "                'power_driven', 'genuine', 'cold', 'health_oriented']\n",
    "\n",
    "X_train = train[AIC_features]\n",
    "X_test = test[AIC_features]"
   ]
  },
  {
   "cell_type": "code",
   "execution_count": 59,
   "metadata": {},
   "outputs": [
    {
     "name": "stdout",
     "output_type": "stream",
     "text": [
      "ovo_lr: Cross validation f1 micro is 0.6251629476267156.\n",
      "ovo_lr: Test f1 micro is 0.6204906204906205\n",
      "ovo_svc: Cross validation f1 micro is 0.7843685300207038.\n",
      "ovo_svc: Test f1 micro is 0.7705627705627706\n",
      "ovo_rf: Cross validation f1 micro is 0.8227819952457633.\n",
      "ovo_rf: Test f1 micro is 0.8066378066378066\n",
      "ovo_nb: Cross validation f1 micro is 0.5619967793880838.\n",
      "ovo_nb: Test f1 micro is 0.5425685425685426\n",
      "ovr_lr: Cross validation f1 micro is 0.6232765892186182.\n",
      "ovr_lr: Test f1 micro is 0.6305916305916306\n",
      "ovr_svc: Cross validation f1 micro is 0.7725864580937044.\n",
      "ovr_svc: Test f1 micro is 0.7792207792207793\n",
      "ovr_rf: Cross validation f1 micro is 0.8463154666053218.\n",
      "ovr_rf: Test f1 micro is 0.8326118326118326\n",
      "ovr_nb: Cross validation f1 micro is 0.5588835212023617.\n",
      "ovr_nb: Test f1 micro is 0.5281385281385281\n",
      "xgb: Cross validation f1 micro is 0.7533893106356875.\n",
      "xgb: Test f1 micro is 0.7445887445887447\n"
     ]
    }
   ],
   "source": [
    "for mod, modname in zip([onevsone_lr, onevsone_svc, onevsone_rf, onevsone_nb, onevsrest_lr, onevsrest_svc, onevsrest_rf,\n",
    "                         onevsrest_nb, xgb],\n",
    "                        ['ovo_lr', 'ovo_svc', 'ovo_rf', 'ovo_nb', 'ovr_lr', 'ovr_svc', 'ovr_rf', 'ovr_nb', 'xgb']):\n",
    "    \n",
    "    score = cross_val_score(mod, X_train, y_train, cv=10, scoring='f1_micro')\n",
    "    print('{}: Cross validation f1 micro is {}.'.format(modname, score.mean()))\n",
    "    \n",
    "    modfit = mod.fit(X_train, y_train)\n",
    "    test_pred = modfit.predict(X_test)\n",
    "    print('{}: Test f1 micro is {}'.format(modname, f1_score(y_test, test_pred, average='micro')))"
   ]
  },
  {
   "cell_type": "code",
   "execution_count": 60,
   "metadata": {},
   "outputs": [
    {
     "name": "stdout",
     "output_type": "stream",
     "text": [
      "              precision    recall  f1-score   support\n",
      "\n",
      "           0       0.88      0.87      0.88       231\n",
      "           1       0.85      0.84      0.84       231\n",
      "           2       0.77      0.79      0.78       231\n",
      "\n",
      "    accuracy                           0.83       693\n",
      "   macro avg       0.83      0.83      0.83       693\n",
      "weighted avg       0.83      0.83      0.83       693\n",
      "\n",
      "micro avg                              0.83\n"
     ]
    }
   ],
   "source": [
    "mod = onevsrest_rf\n",
    "modfit = mod.fit(X_train, y_train)\n",
    "test_pred = modfit.predict(X_test)\n",
    "print(classification_report(y_test, test_pred))\n",
    "print('micro avg                              {}'.format(round(f1_score(y_test, test_pred, average='micro'),2)))"
   ]
  },
  {
   "cell_type": "markdown",
   "metadata": {},
   "source": [
    "### AIC 30"
   ]
  },
  {
   "cell_type": "code",
   "execution_count": 61,
   "metadata": {},
   "outputs": [],
   "source": [
    "AIC_features = ['netspeak_focus', 'liberal', 'self_assured', 'organized', 'type_a',\n",
    "                'cheerful', 'disciplined', 'neuroticism', 'aggressive', 'adjustment',\n",
    "                'religion_oriented', 'food_focus', 'generous', 'sexual_focus', 'thinking_style',\n",
    "                'agreeableness', 'money_oriented', 'melancholy', 'workhorse', 'reward_bias',\n",
    "                'self_conscious', 'leisure_oriented', 'impulsive', 'cautious', 'active',\n",
    "                'power_driven', 'genuine', 'cold', 'health_oriented', 'friend_focus']\n",
    "\n",
    "X_train = train[AIC_features]\n",
    "X_test = test[AIC_features]"
   ]
  },
  {
   "cell_type": "code",
   "execution_count": 62,
   "metadata": {},
   "outputs": [
    {
     "name": "stdout",
     "output_type": "stream",
     "text": [
      "ovo_lr: Cross validation f1 micro is 0.6232995935894486.\n",
      "ovo_lr: Test f1 micro is 0.6204906204906205\n",
      "ovo_svc: Cross validation f1 micro is 0.7855954297983283.\n",
      "ovo_svc: Test f1 micro is 0.7748917748917749\n",
      "ovo_rf: Cross validation f1 micro is 0.8252664672954527.\n",
      "ovo_rf: Test f1 micro is 0.8124098124098124\n",
      "ovo_nb: Cross validation f1 micro is 0.5626217314623111.\n",
      "ovo_nb: Test f1 micro is 0.5468975468975469\n",
      "ovr_lr: Cross validation f1 micro is 0.6214209033049612.\n",
      "ovr_lr: Test f1 micro is 0.6291486291486291\n",
      "ovr_svc: Cross validation f1 micro is 0.7738171919331339.\n",
      "ovr_svc: Test f1 micro is 0.7705627705627706\n",
      "ovr_rf: Cross validation f1 micro is 0.8475692048155816.\n",
      "ovr_rf: Test f1 micro is 0.8268398268398268\n",
      "ovr_nb: Cross validation f1 micro is 0.5588835212023618.\n",
      "ovr_nb: Test f1 micro is 0.5310245310245311\n",
      "xgb: Cross validation f1 micro is 0.7552526646729545.\n",
      "xgb: Test f1 micro is 0.7518037518037518\n"
     ]
    }
   ],
   "source": [
    "for mod, modname in zip([onevsone_lr, onevsone_svc, onevsone_rf, onevsone_nb, onevsrest_lr, onevsrest_svc, onevsrest_rf,\n",
    "                         onevsrest_nb, xgb],\n",
    "                        ['ovo_lr', 'ovo_svc', 'ovo_rf', 'ovo_nb', 'ovr_lr', 'ovr_svc', 'ovr_rf', 'ovr_nb', 'xgb']):\n",
    "    \n",
    "    score = cross_val_score(mod, X_train, y_train, cv=10, scoring='f1_micro')\n",
    "    print('{}: Cross validation f1 micro is {}.'.format(modname, score.mean()))\n",
    "    \n",
    "    modfit = mod.fit(X_train, y_train)\n",
    "    test_pred = modfit.predict(X_test)\n",
    "    print('{}: Test f1 micro is {}'.format(modname, f1_score(y_test, test_pred, average='micro')))"
   ]
  },
  {
   "cell_type": "code",
   "execution_count": 63,
   "metadata": {},
   "outputs": [
    {
     "name": "stdout",
     "output_type": "stream",
     "text": [
      "              precision    recall  f1-score   support\n",
      "\n",
      "           0       0.87      0.87      0.87       231\n",
      "           1       0.85      0.83      0.84       231\n",
      "           2       0.77      0.78      0.78       231\n",
      "\n",
      "    accuracy                           0.83       693\n",
      "   macro avg       0.83      0.83      0.83       693\n",
      "weighted avg       0.83      0.83      0.83       693\n",
      "\n",
      "micro avg                              0.83\n"
     ]
    }
   ],
   "source": [
    "mod = onevsrest_rf\n",
    "modfit = mod.fit(X_train, y_train)\n",
    "test_pred = modfit.predict(X_test)\n",
    "print(classification_report(y_test, test_pred))\n",
    "print('micro avg                              {}'.format(round(f1_score(y_test, test_pred, average='micro'),2)))"
   ]
  },
  {
   "cell_type": "markdown",
   "metadata": {},
   "source": [
    "### AIC 35"
   ]
  },
  {
   "cell_type": "code",
   "execution_count": 84,
   "metadata": {},
   "outputs": [],
   "source": [
    "AIC_features = ['netspeak_focus', 'liberal', 'self_assured', 'organized', 'type_a',\n",
    "                'cheerful', 'disciplined', 'neuroticism', 'aggressive', 'adjustment',\n",
    "                'religion_oriented', 'food_focus', 'generous', 'sexual_focus', 'thinking_style',\n",
    "                'agreeableness', 'money_oriented', 'melancholy', 'workhorse', 'reward_bias',\n",
    "                'self_conscious', 'leisure_oriented', 'impulsive', 'cautious', 'active',\n",
    "                'power_driven', 'genuine', 'cold', 'health_oriented', 'friend_focus',\n",
    "                'emotionally_aware', 'artistic', 'ambitious', 'adventurous', 'anxious']\n",
    "\n",
    "X_train = train[AIC_features]\n",
    "X_test = test[AIC_features]"
   ]
  },
  {
   "cell_type": "code",
   "execution_count": 85,
   "metadata": {},
   "outputs": [
    {
     "name": "stdout",
     "output_type": "stream",
     "text": [
      "ovo_lr: Cross validation f1 micro is 0.629495437466452.\n",
      "ovo_lr: Test f1 micro is 0.6507936507936508\n",
      "ovo_svc: Cross validation f1 micro is 0.7992331876389847.\n",
      "ovo_svc: Test f1 micro is 0.7878787878787878\n",
      "ovo_rf: Cross validation f1 micro is 0.8376811594202899.\n",
      "ovo_rf: Test f1 micro is 0.8080808080808081\n",
      "ovo_nb: Cross validation f1 micro is 0.5632236791657081.\n",
      "ovo_nb: Test f1 micro is 0.5454545454545454\n",
      "ovr_lr: Cross validation f1 micro is 0.6325818572195383.\n",
      "ovr_lr: Test f1 micro is 0.6493506493506493\n",
      "ovr_svc: Cross validation f1 micro is 0.7849551414768806.\n",
      "ovr_svc: Test f1 micro is 0.7922077922077922\n",
      "ovr_rf: Cross validation f1 micro is 0.8382946093091019.\n",
      "ovr_rf: Test f1 micro is 0.8354978354978355\n",
      "ovr_nb: Cross validation f1 micro is 0.5619967793880838.\n",
      "ovr_nb: Test f1 micro is 0.5339105339105339\n",
      "xgb: Cross validation f1 micro is 0.7627060808220228.\n",
      "xgb: Test f1 micro is 0.7518037518037518\n"
     ]
    }
   ],
   "source": [
    "for mod, modname in zip([onevsone_lr, onevsone_svc, onevsone_rf, onevsone_nb, onevsrest_lr, onevsrest_svc, onevsrest_rf,\n",
    "                         onevsrest_nb, xgb],\n",
    "                        ['ovo_lr', 'ovo_svc', 'ovo_rf', 'ovo_nb', 'ovr_lr', 'ovr_svc', 'ovr_rf', 'ovr_nb', 'xgb']):\n",
    "    \n",
    "    score = cross_val_score(mod, X_train, y_train, cv=10, scoring='f1_micro')\n",
    "    print('{}: Cross validation f1 micro is {}.'.format(modname, score.mean()))\n",
    "    \n",
    "    modfit = mod.fit(X_train, y_train)\n",
    "    test_pred = modfit.predict(X_test)\n",
    "    print('{}: Test f1 micro is {}'.format(modname, f1_score(y_test, test_pred, average='micro')))"
   ]
  },
  {
   "cell_type": "code",
   "execution_count": 86,
   "metadata": {},
   "outputs": [
    {
     "name": "stdout",
     "output_type": "stream",
     "text": [
      "              precision    recall  f1-score   support\n",
      "\n",
      "           0       0.87      0.89      0.88       231\n",
      "           1       0.86      0.83      0.84       231\n",
      "           2       0.78      0.79      0.79       231\n",
      "\n",
      "    accuracy                           0.84       693\n",
      "   macro avg       0.84      0.84      0.84       693\n",
      "weighted avg       0.84      0.84      0.84       693\n",
      "\n",
      "micro avg                              0.84\n"
     ]
    }
   ],
   "source": [
    "mod = onevsrest_rf\n",
    "modfit = mod.fit(X_train, y_train)\n",
    "test_pred = modfit.predict(X_test)\n",
    "print(classification_report(y_test, test_pred))\n",
    "print('micro avg                              {}'.format(round(f1_score(y_test, test_pred, average='micro'),2)))"
   ]
  },
  {
   "cell_type": "markdown",
   "metadata": {},
   "source": [
    "#### Odds Ratio for AIC 35"
   ]
  },
  {
   "cell_type": "code",
   "execution_count": null,
   "metadata": {},
   "outputs": [],
   "source": [
    "# Coefficients from R\n",
    "#          cheerful  disciplined neuroticism  aggressive  adjustment\n",
    "#    1  0.006926225  0.009932597 -0.04574989 -0.02293918 -0.06273459\n",
    "#    2 -0.006857462 -0.004668864 -0.04206451 -0.03191554 -0.01608389\n",
    "#      religion_oriented  food_focus     generous sexual_focus thinking_style\n",
    "#    1      -0.004750237 0.005284733 -0.005943655   0.01673024    -0.00374206\n",
    "#    2       0.006412098 0.007953333  0.019830291   0.01599192     0.01466021\n",
    "#      agreeableness money_oriented melancholy    workhorse  reward_bias\n",
    "#    1   0.001250636     0.01451598 0.02516431 -0.007254736 -0.007573091\n",
    "#    2  -0.021897528     0.00103292 0.02203398 -0.031393984  0.007016677\n",
    "#      self_conscious leisure_oriented   impulsive    cautious       active\n",
    "#    1     0.01828672     -0.009135593 0.028912001 0.013718917 -0.014244353\n",
    "#    2     0.01965547     -0.010970023 0.002486877 0.001679266  0.003941147\n",
    "#      power_driven    genuine        cold health_oriented friend_focus\n",
    "#    1  -0.02798047 0.01338628 0.017041520     0.015940930  0.004454851\n",
    "#    2  -0.01633463 0.02384384 0.009642887     0.008663801  0.009402999\n",
    "#      emotionally_aware    artistic  ambitious  adventurous      anxious\n",
    "#    1      -0.011733478 0.009289661 0.01134012 -0.005573153  0.002557516\n",
    "#    2      -0.007777114 0.012479756 0.01476101 -0.014021436 -0.007567554"
   ]
  },
  {
   "cell_type": "code",
   "execution_count": 100,
   "metadata": {},
   "outputs": [],
   "source": [
    "coefficients_pain_vs_none = [0.006926225, 0.009932597, -0.04574989, -0.02293918, -0.06273459,\n",
    "                            -0.004750237, 0.005284733, -0.005943655, 0.01673024, -0.00374206,\n",
    "                            0.001250636, 0.01451598, 0.02516431, -0.007254736, -0.007573091,\n",
    "                            0.01828672, -0.009135593, 0.028912001, 0.013718917, -0.014244353,\n",
    "                            -0.02798047, 0.01338628, 0.017041520, 0.015940930, 0.004454851,\n",
    "                            -0.011733478, 0.009289661, 0.01134012, -0.005573153, 0.002557516]\n",
    "\n",
    "coefficients_PleasureAddiction_vs_none = [-0.006857462, -0.004668864, -0.04206451, -0.03191554, -0.01608389,\n",
    "                                         0.006412098, 0.007953333, 0.019830291, 0.01599192, 0.01466021,\n",
    "                                         -0.021897528, 0.00103292, 0.02203398, -0.031393984, 0.007016677,\n",
    "                                         0.01965547, -0.010970023, 0.002486877, 0.001679266, 0.003941147,\n",
    "                                         -0.01633463, 0.02384384, 0.009642887, 0.008663801, 0.009402999,\n",
    "                                         -0.007777114, 0.012479756, 0.01476101, -0.014021436, -0.007567554]\n",
    "\n",
    "Feature_nm = ['cheerful', 'disciplined', 'neuroticism',  'aggressive',  'adjustment',\n",
    "             'religion_oriented', 'food_focus', 'generous', 'sexual_focus', 'thinking_style',\n",
    "             'agreeableness', 'money_oriented', 'melancholy', 'workhorse', 'reward_bias',\n",
    "             'self_conscious', 'leisure_oriented', 'impulsive', 'cautious', 'active',\n",
    "             'power_driven', 'genuine', 'cold', 'health_oriented', 'friend_focus',\n",
    "             'emotionally_aware', 'artistic', 'ambitious', 'adventurous', 'anxious']"
   ]
  },
  {
   "cell_type": "code",
   "execution_count": 127,
   "metadata": {},
   "outputs": [
    {
     "name": "stdout",
     "output_type": "stream",
     "text": [
      "Odds Ratio\n",
      "CHEERFUL\n",
      "ref: None\n",
      "     Pain 1.007\n",
      "     Pleasure & Addiction 0.993\n",
      "DISCIPLINED\n",
      "ref: None\n",
      "     Pain 1.01\n",
      "     Pleasure & Addiction 0.995\n",
      "NEUROTICISM\n",
      "ref: None\n",
      "     Pain 0.955\n",
      "     Pleasure & Addiction 0.959\n",
      "AGGRESSIVE\n",
      "ref: None\n",
      "     Pain 0.977\n",
      "     Pleasure & Addiction 0.969\n",
      "ADJUSTMENT\n",
      "ref: None\n",
      "     Pain 0.939\n",
      "     Pleasure & Addiction 0.984\n",
      "RELIGION_ORIENTED\n",
      "ref: None\n",
      "     Pain 0.995\n",
      "     Pleasure & Addiction 1.006\n",
      "FOOD_FOCUS\n",
      "ref: None\n",
      "     Pain 1.005\n",
      "     Pleasure & Addiction 1.008\n",
      "GENEROUS\n",
      "ref: None\n",
      "     Pain 0.994\n",
      "     Pleasure & Addiction 1.02\n",
      "SEXUAL_FOCUS\n",
      "ref: None\n",
      "     Pain 1.017\n",
      "     Pleasure & Addiction 1.016\n",
      "THINKING_STYLE\n",
      "ref: None\n",
      "     Pain 0.996\n",
      "     Pleasure & Addiction 1.015\n",
      "AGREEABLENESS\n",
      "ref: None\n",
      "     Pain 1.001\n",
      "     Pleasure & Addiction 0.978\n",
      "MONEY_ORIENTED\n",
      "ref: None\n",
      "     Pain 1.015\n",
      "     Pleasure & Addiction 1.001\n",
      "MELANCHOLY\n",
      "ref: None\n",
      "     Pain 1.025\n",
      "     Pleasure & Addiction 1.022\n",
      "WORKHORSE\n",
      "ref: None\n",
      "     Pain 0.993\n",
      "     Pleasure & Addiction 0.969\n",
      "REWARD_BIAS\n",
      "ref: None\n",
      "     Pain 0.992\n",
      "     Pleasure & Addiction 1.007\n",
      "SELF_CONSCIOUS\n",
      "ref: None\n",
      "     Pain 1.018\n",
      "     Pleasure & Addiction 1.02\n",
      "LEISURE_ORIENTED\n",
      "ref: None\n",
      "     Pain 0.991\n",
      "     Pleasure & Addiction 0.989\n",
      "IMPULSIVE\n",
      "ref: None\n",
      "     Pain 1.029\n",
      "     Pleasure & Addiction 1.002\n",
      "CAUTIOUS\n",
      "ref: None\n",
      "     Pain 1.014\n",
      "     Pleasure & Addiction 1.002\n",
      "ACTIVE\n",
      "ref: None\n",
      "     Pain 0.986\n",
      "     Pleasure & Addiction 1.004\n",
      "POWER_DRIVEN\n",
      "ref: None\n",
      "     Pain 0.972\n",
      "     Pleasure & Addiction 0.984\n",
      "GENUINE\n",
      "ref: None\n",
      "     Pain 1.013\n",
      "     Pleasure & Addiction 1.024\n",
      "COLD\n",
      "ref: None\n",
      "     Pain 1.017\n",
      "     Pleasure & Addiction 1.01\n",
      "HEALTH_ORIENTED\n",
      "ref: None\n",
      "     Pain 1.016\n",
      "     Pleasure & Addiction 1.009\n",
      "FRIEND_FOCUS\n",
      "ref: None\n",
      "     Pain 1.004\n",
      "     Pleasure & Addiction 1.009\n",
      "EMOTIONALLY_AWARE\n",
      "ref: None\n",
      "     Pain 0.988\n",
      "     Pleasure & Addiction 0.992\n",
      "ARTISTIC\n",
      "ref: None\n",
      "     Pain 1.009\n",
      "     Pleasure & Addiction 1.013\n",
      "AMBITIOUS\n",
      "ref: None\n",
      "     Pain 1.011\n",
      "     Pleasure & Addiction 1.015\n",
      "ADVENTUROUS\n",
      "ref: None\n",
      "     Pain 0.994\n",
      "     Pleasure & Addiction 0.986\n",
      "ANXIOUS\n",
      "ref: None\n",
      "     Pain 1.003\n",
      "     Pleasure & Addiction 0.992\n"
     ]
    }
   ],
   "source": [
    "print('Odds Ratio')\n",
    "for coef_pain, coef_pleasreaddiction, feature_name in zip(coefficients_pain_vs_none,\n",
    "                                                          coefficients_PleasureAddiction_vs_none,\n",
    "                                                          Feature_nm):\n",
    "    print(feature_name.upper())\n",
    "    print('ref: None')\n",
    "    print('     Pain {}'.format(round(math.exp(coef_pain), 3)))\n",
    "    print('     Pleasure & Addiction {}'.format(round(math.exp(coef_pleasreaddiction), 3)))"
   ]
  },
  {
   "cell_type": "code",
   "execution_count": null,
   "metadata": {},
   "outputs": [],
   "source": []
  },
  {
   "cell_type": "markdown",
   "metadata": {},
   "source": [
    "### AIC 40"
   ]
  },
  {
   "cell_type": "code",
   "execution_count": 67,
   "metadata": {},
   "outputs": [],
   "source": [
    "AIC_features = ['netspeak_focus', 'liberal', 'self_assured', 'organized', 'type_a',\n",
    "                'cheerful', 'disciplined', 'neuroticism', 'aggressive', 'adjustment',\n",
    "                'religion_oriented', 'food_focus', 'generous', 'sexual_focus', 'thinking_style',\n",
    "                'agreeableness', 'money_oriented', 'melancholy', 'workhorse', 'reward_bias',\n",
    "                'self_conscious', 'leisure_oriented', 'impulsive', 'cautious', 'active',\n",
    "                'power_driven', 'genuine', 'cold', 'health_oriented', 'friend_focus',\n",
    "                'emotionally_aware', 'artistic', 'ambitious', 'adventurous', 'anxious',\n",
    "                'stressed', 'work_oriented', 'depression', 'family_oriented', 'insecure']\n",
    "\n",
    "X_train = train[AIC_features]\n",
    "X_test = test[AIC_features]"
   ]
  },
  {
   "cell_type": "code",
   "execution_count": 68,
   "metadata": {},
   "outputs": [
    {
     "name": "stdout",
     "output_type": "stream",
     "text": [
      "ovo_lr: Cross validation f1 micro is 0.6424852388620504.\n",
      "ovo_lr: Test f1 micro is 0.6421356421356421\n",
      "ovo_svc: Cross validation f1 micro is 0.796733379342075.\n",
      "ovo_svc: Test f1 micro is 0.7777777777777778\n",
      "ovo_rf: Cross validation f1 micro is 0.8364350893336401.\n",
      "ovo_rf: Test f1 micro is 0.8225108225108225\n",
      "ovo_nb: Cross validation f1 micro is 0.5588796871405568.\n",
      "ovo_nb: Test f1 micro is 0.5468975468975469\n",
      "ovr_lr: Cross validation f1 micro is 0.6313434552564987.\n",
      "ovr_lr: Test f1 micro is 0.6378066378066378\n",
      "ovr_svc: Cross validation f1 micro is 0.7861935434399202.\n",
      "ovr_svc: Test f1 micro is 0.772005772005772\n",
      "ovr_rf: Cross validation f1 micro is 0.8469519208649643.\n",
      "ovr_rf: Test f1 micro is 0.8326118326118326\n",
      "ovr_nb: Cross validation f1 micro is 0.5601180891035964.\n",
      "ovr_nb: Test f1 micro is 0.5483405483405484\n",
      "xgb: Cross validation f1 micro is 0.7651675485008819.\n",
      "xgb: Test f1 micro is 0.7474747474747475\n"
     ]
    }
   ],
   "source": [
    "for mod, modname in zip([onevsone_lr, onevsone_svc, onevsone_rf, onevsone_nb, onevsrest_lr, onevsrest_svc, onevsrest_rf,\n",
    "                         onevsrest_nb, xgb],\n",
    "                        ['ovo_lr', 'ovo_svc', 'ovo_rf', 'ovo_nb', 'ovr_lr', 'ovr_svc', 'ovr_rf', 'ovr_nb', 'xgb']):\n",
    "    \n",
    "    score = cross_val_score(mod, X_train, y_train, cv=10, scoring='f1_micro')\n",
    "    print('{}: Cross validation f1 micro is {}.'.format(modname, score.mean()))\n",
    "    \n",
    "    modfit = mod.fit(X_train, y_train)\n",
    "    test_pred = modfit.predict(X_test)\n",
    "    print('{}: Test f1 micro is {}'.format(modname, f1_score(y_test, test_pred, average='micro')))"
   ]
  },
  {
   "cell_type": "code",
   "execution_count": 69,
   "metadata": {},
   "outputs": [
    {
     "name": "stdout",
     "output_type": "stream",
     "text": [
      "              precision    recall  f1-score   support\n",
      "\n",
      "           0       0.88      0.87      0.88       231\n",
      "           1       0.84      0.84      0.84       231\n",
      "           2       0.77      0.78      0.78       231\n",
      "\n",
      "    accuracy                           0.83       693\n",
      "   macro avg       0.83      0.83      0.83       693\n",
      "weighted avg       0.83      0.83      0.83       693\n",
      "\n",
      "micro avg                              0.83\n"
     ]
    }
   ],
   "source": [
    "mod = onevsrest_rf\n",
    "modfit = mod.fit(X_train, y_train)\n",
    "test_pred = modfit.predict(X_test)\n",
    "print(classification_report(y_test, test_pred))\n",
    "print('micro avg                              {}'.format(round(f1_score(y_test, test_pred, average='micro'),2)))"
   ]
  },
  {
   "cell_type": "markdown",
   "metadata": {},
   "source": [
    "### AIC 45"
   ]
  },
  {
   "cell_type": "code",
   "execution_count": 70,
   "metadata": {},
   "outputs": [],
   "source": [
    "AIC_features = ['netspeak_focus', 'liberal', 'self_assured', 'organized', 'type_a',\n",
    "                'cheerful', 'disciplined', 'neuroticism', 'aggressive', 'adjustment',\n",
    "                'religion_oriented', 'food_focus', 'generous', 'sexual_focus', 'thinking_style',\n",
    "                'agreeableness', 'money_oriented', 'melancholy', 'workhorse', 'reward_bias',\n",
    "                'self_conscious', 'leisure_oriented', 'impulsive', 'cautious', 'active',\n",
    "                'power_driven', 'genuine', 'cold', 'health_oriented', 'friend_focus',\n",
    "                'emotionally_aware', 'artistic', 'ambitious', 'adventurous', 'anxious',\n",
    "                'stressed', 'work_oriented', 'depression', 'family_oriented', 'insecure',\n",
    "                'happiness', 'conscientiousness', 'dutiful', 'persuasive', 'cooperative']\n",
    "\n",
    "X_train = train[AIC_features]\n",
    "X_test = test[AIC_features]"
   ]
  },
  {
   "cell_type": "code",
   "execution_count": 71,
   "metadata": {},
   "outputs": [
    {
     "name": "stdout",
     "output_type": "stream",
     "text": [
      "ovo_lr: Cross validation f1 micro is 0.6307031669350509.\n",
      "ovo_lr: Test f1 micro is 0.6305916305916306\n",
      "ovo_svc: Cross validation f1 micro is 0.794873859366613.\n",
      "ovo_svc: Test f1 micro is 0.7705627705627706\n",
      "ovo_rf: Cross validation f1 micro is 0.8314776474196763.\n",
      "ovo_rf: Test f1 micro is 0.8253968253968254\n",
      "ovo_nb: Cross validation f1 micro is 0.5675638371290546.\n",
      "ovo_nb: Test f1 micro is 0.5411255411255411\n",
      "ovr_lr: Cross validation f1 micro is 0.6356376044781842.\n",
      "ovr_lr: Test f1 micro is 0.6363636363636364\n",
      "ovr_svc: Cross validation f1 micro is 0.7905337014032666.\n",
      "ovr_svc: Test f1 micro is 0.7777777777777778\n",
      "ovr_rf: Cross validation f1 micro is 0.8562495207422742.\n",
      "ovr_rf: Test f1 micro is 0.8282828282828283\n",
      "ovr_nb: Cross validation f1 micro is 0.5663024307951844.\n",
      "ovr_nb: Test f1 micro is 0.5180375180375181\n",
      "xgb: Cross validation f1 micro is 0.7670539069089793.\n",
      "xgb: Test f1 micro is 0.7503607503607503\n"
     ]
    }
   ],
   "source": [
    "for mod, modname in zip([onevsone_lr, onevsone_svc, onevsone_rf, onevsone_nb, onevsrest_lr, onevsrest_svc, onevsrest_rf,\n",
    "                         onevsrest_nb, xgb],\n",
    "                        ['ovo_lr', 'ovo_svc', 'ovo_rf', 'ovo_nb', 'ovr_lr', 'ovr_svc', 'ovr_rf', 'ovr_nb', 'xgb']):\n",
    "    \n",
    "    score = cross_val_score(mod, X_train, y_train, cv=10, scoring='f1_micro')\n",
    "    print('{}: Cross validation f1 micro is {}.'.format(modname, score.mean()))\n",
    "    \n",
    "    modfit = mod.fit(X_train, y_train)\n",
    "    test_pred = modfit.predict(X_test)\n",
    "    print('{}: Test f1 micro is {}'.format(modname, f1_score(y_test, test_pred, average='micro')))"
   ]
  },
  {
   "cell_type": "code",
   "execution_count": 72,
   "metadata": {},
   "outputs": [
    {
     "name": "stdout",
     "output_type": "stream",
     "text": [
      "              precision    recall  f1-score   support\n",
      "\n",
      "           0       0.87      0.88      0.88       231\n",
      "           1       0.83      0.84      0.84       231\n",
      "           2       0.78      0.77      0.77       231\n",
      "\n",
      "    accuracy                           0.83       693\n",
      "   macro avg       0.83      0.83      0.83       693\n",
      "weighted avg       0.83      0.83      0.83       693\n",
      "\n",
      "micro avg                              0.83\n"
     ]
    }
   ],
   "source": [
    "mod = onevsrest_rf\n",
    "modfit = mod.fit(X_train, y_train)\n",
    "test_pred = modfit.predict(X_test)\n",
    "print(classification_report(y_test, test_pred))\n",
    "print('micro avg                              {}'.format(round(f1_score(y_test, test_pred, average='micro'),2)))"
   ]
  },
  {
   "cell_type": "markdown",
   "metadata": {},
   "source": [
    "### AIC 50"
   ]
  },
  {
   "cell_type": "code",
   "execution_count": 73,
   "metadata": {},
   "outputs": [],
   "source": [
    "AIC_features = ['netspeak_focus', 'liberal', 'self_assured', 'organized', 'type_a',\n",
    "                'cheerful', 'disciplined', 'neuroticism', 'aggressive', 'adjustment',\n",
    "                'religion_oriented', 'food_focus', 'generous', 'sexual_focus', 'thinking_style',\n",
    "                'agreeableness', 'money_oriented', 'melancholy', 'workhorse', 'reward_bias',\n",
    "                'self_conscious', 'leisure_oriented', 'impulsive', 'cautious', 'active',\n",
    "                'power_driven', 'genuine', 'cold', 'health_oriented', 'friend_focus',\n",
    "                'emotionally_aware', 'artistic', 'ambitious', 'adventurous', 'anxious',\n",
    "                'stressed', 'work_oriented', 'depression', 'family_oriented', 'insecure',\n",
    "                'happiness', 'conscientiousness', 'dutiful', 'persuasive', 'cooperative',\n",
    "                'intellectual', 'humble', 'assertive', 'body_focus', 'friendly']\n",
    "\n",
    "X_train = train[AIC_features]\n",
    "X_test = test[AIC_features]"
   ]
  },
  {
   "cell_type": "code",
   "execution_count": 74,
   "metadata": {},
   "outputs": [
    {
     "name": "stdout",
     "output_type": "stream",
     "text": [
      "ovo_lr: Cross validation f1 micro is 0.6331953071083507.\n",
      "ovo_lr: Test f1 micro is 0.6392496392496393\n",
      "ovo_svc: Cross validation f1 micro is 0.7986120696265624.\n",
      "ovo_svc: Test f1 micro is 0.7734487734487735\n",
      "ovo_rf: Cross validation f1 micro is 0.8413810290621886.\n",
      "ovo_rf: Test f1 micro is 0.8196248196248195\n",
      "ovo_nb: Cross validation f1 micro is 0.5694041867954911.\n",
      "ovo_nb: Test f1 micro is 0.5367965367965368\n",
      "ovr_lr: Cross validation f1 micro is 0.6325626869105131.\n",
      "ovr_lr: Test f1 micro is 0.6378066378066378\n",
      "ovr_svc: Cross validation f1 micro is 0.7899317536998697.\n",
      "ovr_svc: Test f1 micro is 0.7835497835497836\n",
      "ovr_rf: Cross validation f1 micro is 0.8513035810137259.\n",
      "ovr_rf: Test f1 micro is 0.8427128427128429\n",
      "ovr_nb: Cross validation f1 micro is 0.5607238708687985.\n",
      "ovr_nb: Test f1 micro is 0.5223665223665224\n",
      "xgb: Cross validation f1 micro is 0.7726363008971704.\n",
      "xgb: Test f1 micro is 0.7633477633477633\n"
     ]
    }
   ],
   "source": [
    "for mod, modname in zip([onevsone_lr, onevsone_svc, onevsone_rf, onevsone_nb, onevsrest_lr, onevsrest_svc, onevsrest_rf,\n",
    "                         onevsrest_nb, xgb],\n",
    "                        ['ovo_lr', 'ovo_svc', 'ovo_rf', 'ovo_nb', 'ovr_lr', 'ovr_svc', 'ovr_rf', 'ovr_nb', 'xgb']):\n",
    "    \n",
    "    score = cross_val_score(mod, X_train, y_train, cv=10, scoring='f1_micro')\n",
    "    print('{}: Cross validation f1 micro is {}.'.format(modname, score.mean()))\n",
    "    \n",
    "    modfit = mod.fit(X_train, y_train)\n",
    "    test_pred = modfit.predict(X_test)\n",
    "    print('{}: Test f1 micro is {}'.format(modname, f1_score(y_test, test_pred, average='micro')))"
   ]
  },
  {
   "cell_type": "code",
   "execution_count": 76,
   "metadata": {},
   "outputs": [
    {
     "name": "stdout",
     "output_type": "stream",
     "text": [
      "              precision    recall  f1-score   support\n",
      "\n",
      "           0       0.90      0.89      0.89       231\n",
      "           1       0.83      0.86      0.84       231\n",
      "           2       0.80      0.78      0.79       231\n",
      "\n",
      "    accuracy                           0.84       693\n",
      "   macro avg       0.84      0.84      0.84       693\n",
      "weighted avg       0.84      0.84      0.84       693\n",
      "\n",
      "micro avg                              0.84\n"
     ]
    }
   ],
   "source": [
    "mod = onevsrest_rf\n",
    "modfit = mod.fit(X_train, y_train)\n",
    "test_pred = modfit.predict(X_test)\n",
    "print(classification_report(y_test, test_pred))\n",
    "print('micro avg                              {}'.format(round(f1_score(y_test, test_pred, average='micro'),2)))"
   ]
  },
  {
   "cell_type": "code",
   "execution_count": null,
   "metadata": {},
   "outputs": [],
   "source": []
  },
  {
   "cell_type": "code",
   "execution_count": null,
   "metadata": {},
   "outputs": [],
   "source": []
  },
  {
   "cell_type": "markdown",
   "metadata": {},
   "source": [
    "### F Test at p <= 0.01 Cutoff"
   ]
  },
  {
   "cell_type": "code",
   "execution_count": 77,
   "metadata": {},
   "outputs": [],
   "source": [
    "features = ['netspeak_focus', 'cheerful', 'cooperative', 'aggressive', 'religion_oriented',\n",
    "            'depression', 'ambitious', 'self_conscious', 'active', 'power_driven',\n",
    "            'genuine', 'anxious', 'health_oriented', 'work_oriented']\n",
    "\n",
    "X_train = train[features]\n",
    "X_test = test[features]"
   ]
  },
  {
   "cell_type": "code",
   "execution_count": 78,
   "metadata": {},
   "outputs": [
    {
     "name": "stdout",
     "output_type": "stream",
     "text": [
      "ovo_lr: Cross validation f1 micro is 0.5929031515988037.\n",
      "ovo_lr: Test f1 micro is 0.5873015873015873\n",
      "ovo_svc: Cross validation f1 micro is 0.7143777317690362.\n",
      "ovo_svc: Test f1 micro is 0.7085137085137087\n",
      "ovo_rf: Cross validation f1 micro is 0.8023311095774865.\n",
      "ovo_rf: Test f1 micro is 0.7950937950937951\n",
      "ovo_nb: Cross validation f1 micro is 0.5564143853998927.\n",
      "ovo_nb: Test f1 micro is 0.5440115440115441\n",
      "ovr_lr: Cross validation f1 micro is 0.5997124453646192.\n",
      "ovr_lr: Test f1 micro is 0.5800865800865801\n",
      "ovr_svc: Cross validation f1 micro is 0.7131009891879456.\n",
      "ovr_svc: Test f1 micro is 0.696969696969697\n",
      "ovr_rf: Cross validation f1 micro is 0.8159880377271682.\n",
      "ovr_rf: Test f1 micro is 0.7994227994227994\n",
      "ovr_nb: Cross validation f1 micro is 0.5502070393374741.\n",
      "ovr_nb: Test f1 micro is 0.5411255411255411\n",
      "xgb: Cross validation f1 micro is 0.7100375738056897.\n",
      "xgb: Test f1 micro is 0.7056277056277056\n"
     ]
    }
   ],
   "source": [
    "for mod, modname in zip([onevsone_lr, onevsone_svc, onevsone_rf, onevsone_nb, onevsrest_lr, onevsrest_svc, onevsrest_rf,\n",
    "                         onevsrest_nb, xgb],\n",
    "                        ['ovo_lr', 'ovo_svc', 'ovo_rf', 'ovo_nb', 'ovr_lr', 'ovr_svc', 'ovr_rf', 'ovr_nb', 'xgb']):\n",
    "    \n",
    "    score = cross_val_score(mod, X_train, y_train, cv=10, scoring='f1_micro')\n",
    "    print('{}: Cross validation f1 micro is {}.'.format(modname, score.mean()))\n",
    "    \n",
    "    modfit = mod.fit(X_train, y_train)\n",
    "    test_pred = modfit.predict(X_test)\n",
    "    print('{}: Test f1 micro is {}'.format(modname, f1_score(y_test, test_pred, average='micro')))"
   ]
  },
  {
   "cell_type": "code",
   "execution_count": 79,
   "metadata": {},
   "outputs": [
    {
     "name": "stdout",
     "output_type": "stream",
     "text": [
      "              precision    recall  f1-score   support\n",
      "\n",
      "           0       0.83      0.83      0.83       231\n",
      "           1       0.81      0.82      0.81       231\n",
      "           2       0.76      0.75      0.76       231\n",
      "\n",
      "    accuracy                           0.80       693\n",
      "   macro avg       0.80      0.80      0.80       693\n",
      "weighted avg       0.80      0.80      0.80       693\n",
      "\n",
      "micro avg                              0.8\n"
     ]
    }
   ],
   "source": [
    "mod = onevsrest_rf\n",
    "modfit = mod.fit(X_train, y_train)\n",
    "test_pred = modfit.predict(X_test)\n",
    "print(classification_report(y_test, test_pred))\n",
    "print('micro avg                              {}'.format(round(f1_score(y_test, test_pred, average='micro'),2)))"
   ]
  },
  {
   "cell_type": "code",
   "execution_count": 80,
   "metadata": {},
   "outputs": [
    {
     "name": "stdout",
     "output_type": "stream",
     "text": [
      "              precision    recall  f1-score   support\n",
      "\n",
      "           0       1.00      1.00      1.00       538\n",
      "           1       1.00      1.00      1.00       538\n",
      "           2       1.00      1.00      1.00       538\n",
      "\n",
      "    accuracy                           1.00      1614\n",
      "   macro avg       1.00      1.00      1.00      1614\n",
      "weighted avg       1.00      1.00      1.00      1614\n",
      "\n",
      "micro avg                              1.0\n"
     ]
    }
   ],
   "source": [
    "# training set performance\n",
    "train_pred = modfit.predict(X_train)\n",
    "print(classification_report(y_train, train_pred))\n",
    "print('micro avg                              {}'.format(round(f1_score(y_train, train_pred, average='micro'),2)))"
   ]
  },
  {
   "cell_type": "markdown",
   "metadata": {},
   "source": [
    "### F Test at p <= 0.001 Cutoff"
   ]
  },
  {
   "cell_type": "code",
   "execution_count": 81,
   "metadata": {},
   "outputs": [],
   "source": [
    "features = ['netspeak_focus', 'active', 'power_driven', 'health_oriented']\n",
    "\n",
    "X_train = train[features]\n",
    "X_test = test[features]"
   ]
  },
  {
   "cell_type": "code",
   "execution_count": 82,
   "metadata": {},
   "outputs": [
    {
     "name": "stdout",
     "output_type": "stream",
     "text": [
      "ovo_lr: Cross validation f1 micro is 0.569396518671881.\n",
      "ovo_lr: Test f1 micro is 0.5454545454545454\n",
      "ovo_svc: Cross validation f1 micro is 0.5854957441913964.\n",
      "ovo_svc: Test f1 micro is 0.5468975468975469\n",
      "ovo_rf: Cross validation f1 micro is 0.6338240932443833.\n",
      "ovo_rf: Test f1 micro is 0.6277056277056277\n",
      "ovo_nb: Cross validation f1 micro is 0.5408672647803081.\n",
      "ovo_nb: Test f1 micro is 0.4935064935064935\n",
      "ovr_lr: Cross validation f1 micro is 0.5743347902768192.\n",
      "ovr_lr: Test f1 micro is 0.5382395382395382\n",
      "ovr_svc: Cross validation f1 micro is 0.58240932443831.\n",
      "ovr_svc: Test f1 micro is 0.5512265512265512\n",
      "ovr_rf: Cross validation f1 micro is 0.6406410551338088.\n",
      "ovr_rf: Test f1 micro is 0.645021645021645\n",
      "ovr_nb: Cross validation f1 micro is 0.5439728548424201.\n",
      "ovr_nb: Test f1 micro is 0.4935064935064935\n",
      "xgb: Cross validation f1 micro is 0.6078598267004065.\n",
      "xgb: Test f1 micro is 0.5844155844155844\n"
     ]
    }
   ],
   "source": [
    "for mod, modname in zip([onevsone_lr, onevsone_svc, onevsone_rf, onevsone_nb, onevsrest_lr, onevsrest_svc, onevsrest_rf,\n",
    "                         onevsrest_nb, xgb],\n",
    "                        ['ovo_lr', 'ovo_svc', 'ovo_rf', 'ovo_nb', 'ovr_lr', 'ovr_svc', 'ovr_rf', 'ovr_nb', 'xgb']):\n",
    "    \n",
    "    score = cross_val_score(mod, X_train, y_train, cv=10, scoring='f1_micro')\n",
    "    print('{}: Cross validation f1 micro is {}.'.format(modname, score.mean()))\n",
    "    \n",
    "    modfit = mod.fit(X_train, y_train)\n",
    "    test_pred = modfit.predict(X_test)\n",
    "    print('{}: Test f1 micro is {}'.format(modname, f1_score(y_test, test_pred, average='micro')))"
   ]
  },
  {
   "cell_type": "code",
   "execution_count": 83,
   "metadata": {
    "scrolled": true
   },
   "outputs": [
    {
     "name": "stdout",
     "output_type": "stream",
     "text": [
      "              precision    recall  f1-score   support\n",
      "\n",
      "           0       0.64      0.71      0.67       231\n",
      "           1       0.67      0.66      0.67       231\n",
      "           2       0.63      0.56      0.59       231\n",
      "\n",
      "    accuracy                           0.65       693\n",
      "   macro avg       0.64      0.65      0.64       693\n",
      "weighted avg       0.64      0.65      0.64       693\n",
      "\n",
      "micro avg                              0.65\n"
     ]
    }
   ],
   "source": [
    "mod = onevsrest_rf\n",
    "modfit = mod.fit(X_train, y_train)\n",
    "test_pred = modfit.predict(X_test)\n",
    "print(classification_report(y_test, test_pred))\n",
    "print('micro avg                              {}'.format(round(f1_score(y_test, test_pred, average='micro'),2)))"
   ]
  },
  {
   "cell_type": "code",
   "execution_count": null,
   "metadata": {},
   "outputs": [],
   "source": []
  },
  {
   "cell_type": "code",
   "execution_count": null,
   "metadata": {},
   "outputs": [],
   "source": []
  }
 ],
 "metadata": {
  "kernelspec": {
   "display_name": "Python 3",
   "language": "python",
   "name": "python3"
  },
  "language_info": {
   "codemirror_mode": {
    "name": "ipython",
    "version": 3
   },
   "file_extension": ".py",
   "mimetype": "text/x-python",
   "name": "python",
   "nbconvert_exporter": "python",
   "pygments_lexer": "ipython3",
   "version": "3.6.5"
  }
 },
 "nbformat": 4,
 "nbformat_minor": 2
}
