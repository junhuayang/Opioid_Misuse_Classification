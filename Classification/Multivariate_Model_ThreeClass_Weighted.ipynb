{
 "cells": [
  {
   "cell_type": "code",
   "execution_count": 2,
   "metadata": {},
   "outputs": [
    {
     "name": "stderr",
     "output_type": "stream",
     "text": [
      "Using TensorFlow backend.\n"
     ]
    }
   ],
   "source": [
    "import numpy as np\n",
    "import math\n",
    "import pandas as pd\n",
    "from pandas import crosstab\n",
    "import statsmodels.api as sm\n",
    "import scipy.stats as stats\n",
    "from sklearn.preprocessing import StandardScaler, MinMaxScaler\n",
    "from sklearn.metrics import roc_curve, roc_auc_score, auc, classification_report, confusion_matrix, accuracy_score, f1_score, recall_score, precision_score, precision_recall_curve\n",
    "from sklearn.model_selection import RandomizedSearchCV, GridSearchCV, cross_val_score, KFold, StratifiedKFold, cross_validate, train_test_split\n",
    "from sklearn.multiclass import OneVsRestClassifier, OneVsOneClassifier, OutputCodeClassifier\n",
    "from sklearn.linear_model import LogisticRegression\n",
    "from sklearn.ensemble import RandomForestClassifier\n",
    "from sklearn.svm import SVC\n",
    "from sklearn.naive_bayes import GaussianNB\n",
    "from xgboost.sklearn import XGBClassifier\n",
    "import xgboost as xgb\n",
    "from collections import Counter\n",
    "from imblearn.over_sampling import SMOTE\n",
    "\n",
    "pd.set_option('display.max_columns', 60)\n",
    "pd.set_option('display.max_rows', 70)"
   ]
  },
  {
   "cell_type": "code",
   "execution_count": 3,
   "metadata": {},
   "outputs": [],
   "source": [
    "df = pd.read_csv(r'C:\\Users\\1130j\\Desktop\\Yale\\Data\\all_recent_tweets_text_score_8_parsed_noDup.csv')"
   ]
  },
  {
   "cell_type": "code",
   "execution_count": 4,
   "metadata": {},
   "outputs": [],
   "source": [
    "df = df.loc[df['classname'] != 'awareness']\n",
    "df.loc[df['classname']=='None', 'class'] = 0\n",
    "df.loc[df['classname']=='pain', 'class'] = 1\n",
    "df.loc[df['classname'].isin(['pleasure', 'addiction']), 'class'] = 2"
   ]
  },
  {
   "cell_type": "markdown",
   "metadata": {},
   "source": [
    "### Group Pleasure and Addiction together"
   ]
  },
  {
   "cell_type": "code",
   "execution_count": 5,
   "metadata": {},
   "outputs": [
    {
     "data": {
      "text/html": [
       "<div>\n",
       "<style scoped>\n",
       "    .dataframe tbody tr th:only-of-type {\n",
       "        vertical-align: middle;\n",
       "    }\n",
       "\n",
       "    .dataframe tbody tr th {\n",
       "        vertical-align: top;\n",
       "    }\n",
       "\n",
       "    .dataframe thead th {\n",
       "        text-align: right;\n",
       "    }\n",
       "</style>\n",
       "<table border=\"1\" class=\"dataframe\">\n",
       "  <thead>\n",
       "    <tr style=\"text-align: right;\">\n",
       "      <th>classname</th>\n",
       "      <th>None</th>\n",
       "      <th>addiction</th>\n",
       "      <th>pain</th>\n",
       "      <th>pleasure</th>\n",
       "    </tr>\n",
       "    <tr>\n",
       "      <th>class</th>\n",
       "      <th></th>\n",
       "      <th></th>\n",
       "      <th></th>\n",
       "      <th></th>\n",
       "    </tr>\n",
       "  </thead>\n",
       "  <tbody>\n",
       "    <tr>\n",
       "      <th>0</th>\n",
       "      <td>166</td>\n",
       "      <td>0</td>\n",
       "      <td>0</td>\n",
       "      <td>0</td>\n",
       "    </tr>\n",
       "    <tr>\n",
       "      <th>1</th>\n",
       "      <td>0</td>\n",
       "      <td>0</td>\n",
       "      <td>229</td>\n",
       "      <td>0</td>\n",
       "    </tr>\n",
       "    <tr>\n",
       "      <th>2</th>\n",
       "      <td>0</td>\n",
       "      <td>197</td>\n",
       "      <td>0</td>\n",
       "      <td>572</td>\n",
       "    </tr>\n",
       "  </tbody>\n",
       "</table>\n",
       "</div>"
      ],
      "text/plain": [
       "classname  None  addiction  pain  pleasure\n",
       "class                                     \n",
       "0           166          0     0         0\n",
       "1             0          0   229         0\n",
       "2             0        197     0       572"
      ]
     },
     "execution_count": 5,
     "metadata": {},
     "output_type": "execute_result"
    }
   ],
   "source": [
    "crosstab(df['class'], df['classname'])"
   ]
  },
  {
   "cell_type": "markdown",
   "metadata": {},
   "source": [
    "### Define X and Y"
   ]
  },
  {
   "cell_type": "code",
   "execution_count": 6,
   "metadata": {},
   "outputs": [],
   "source": [
    "X = df[df.columns.difference(['screen_name', 'user_id', 'classname', 'class'])]\n",
    "y = df['class']"
   ]
  },
  {
   "cell_type": "markdown",
   "metadata": {},
   "source": [
    "### Train Test Split"
   ]
  },
  {
   "cell_type": "code",
   "execution_count": 7,
   "metadata": {},
   "outputs": [],
   "source": [
    "train, test = train_test_split(df, test_size=0.3, random_state=0, stratify=df['class'])"
   ]
  },
  {
   "cell_type": "code",
   "execution_count": 8,
   "metadata": {},
   "outputs": [],
   "source": [
    "X_train = train[train.columns.difference(['screen_name', 'user_id', 'classname', 'class'])]\n",
    "y_train = train['class']\n",
    "X_test = test[test.columns.difference(['screen_name', 'user_id', 'classname', 'class'])]\n",
    "y_test = test['class']"
   ]
  },
  {
   "cell_type": "code",
   "execution_count": 9,
   "metadata": {},
   "outputs": [
    {
     "data": {
      "text/plain": [
       "2    538\n",
       "1    160\n",
       "0    116\n",
       "Name: class, dtype: int64"
      ]
     },
     "execution_count": 9,
     "metadata": {},
     "output_type": "execute_result"
    }
   ],
   "source": [
    "y_train.value_counts()"
   ]
  },
  {
   "cell_type": "code",
   "execution_count": 10,
   "metadata": {},
   "outputs": [
    {
     "data": {
      "text/plain": [
       "2    231\n",
       "1     69\n",
       "0     50\n",
       "Name: class, dtype: int64"
      ]
     },
     "execution_count": 10,
     "metadata": {},
     "output_type": "execute_result"
    }
   ],
   "source": [
    "y_test.value_counts()"
   ]
  },
  {
   "cell_type": "code",
   "execution_count": 11,
   "metadata": {},
   "outputs": [],
   "source": [
    "#### Apply weights"
   ]
  },
  {
   "cell_type": "code",
   "execution_count": 45,
   "metadata": {},
   "outputs": [],
   "source": [
    "lr = LogisticRegression(solver = 'liblinear', random_state=0, class_weight = 'balanced')\n",
    "svc = SVC(random_state = 0, class_weight = 'balanced')\n",
    "rf = RandomForestClassifier(random_state = 0, class_weight = 'balanced')\n",
    "xgb = XGBClassifier(objective='multi:softmax', random_state=0, class_weight = 'balanced')\n",
    "nb = GaussianNB()"
   ]
  },
  {
   "cell_type": "markdown",
   "metadata": {},
   "source": [
    "### Baseline Model"
   ]
  },
  {
   "cell_type": "code",
   "execution_count": 46,
   "metadata": {},
   "outputs": [],
   "source": [
    "# lr = LogisticRegression(solver='newton-cg', random_state=0, class_weight = {0: 3, 1: 3, 2: 1})\n",
    "# svc = SVC(random_state=0, class_weight = {0: 3, 1: 3, 2: 1})\n",
    "# rf = RandomForestClassifier(random_state=0, class_weight='balanced')\n",
    "# xgb = XGBClassifier(objective='multi:softmax', num_class=4, random_state=0, class_weight='balanced')\n",
    "# nb = GaussianNB()\n",
    "\n",
    "onevsone_lr = OneVsOneClassifier(lr).fit(X_train, y_train)\n",
    "onevsone_svc = OneVsOneClassifier(svc).fit(X_train, y_train)\n",
    "onevsone_rf = OneVsOneClassifier(rf).fit(X_train, y_train)\n",
    "# onevsone_xgb = OneVsOneClassifier(xgb).fit(X_train, y_train)\n",
    "onevsone_nb = OneVsOneClassifier(nb).fit(X_train, y_train)\n",
    "\n",
    "onevsrest_lr = OneVsRestClassifier(lr).fit(X_train, y_train)\n",
    "onevsrest_svc = OneVsRestClassifier(svc).fit(X_train, y_train)\n",
    "onevsrest_rf = OneVsRestClassifier(rf).fit(X_train, y_train)\n",
    "onevsrest_nb = OneVsRestClassifier(nb).fit(X_train, y_train)"
   ]
  },
  {
   "cell_type": "code",
   "execution_count": 47,
   "metadata": {},
   "outputs": [
    {
     "name": "stdout",
     "output_type": "stream",
     "text": [
      "ovo_lr: Cross validation f1 micro is 0.5564890093345378.\n",
      "ovo_lr: Test f1 micro is 0.49714285714285716\n",
      "ovo_svc: Cross validation f1 micro is 0.6165612767238784.\n",
      "ovo_svc: Test f1 micro is 0.5714285714285714\n",
      "ovo_rf: Cross validation f1 micro is 0.6732460102378802.\n",
      "ovo_rf: Test f1 micro is 0.6742857142857143\n",
      "ovo_nb: Cross validation f1 micro is 0.610328214393255.\n",
      "ovo_nb: Test f1 micro is 0.6114285714285714\n",
      "ovr_lr: Cross validation f1 micro is 0.5809846431797652.\n",
      "ovr_lr: Test f1 micro is 0.5371428571428571\n",
      "ovr_svc: Cross validation f1 micro is 0.6079795242396868.\n",
      "ovr_svc: Test f1 micro is 0.6028571428571429\n",
      "ovr_rf: Cross validation f1 micro is 0.6842667871123156.\n",
      "ovr_rf: Test f1 micro is 0.6714285714285714\n",
      "ovr_nb: Cross validation f1 micro is 0.6238482384823849.\n",
      "ovr_nb: Test f1 micro is 0.6085714285714285\n",
      "xgb: Cross validation f1 micro is 0.6682174043962663.\n",
      "xgb: Test f1 micro is 0.6885714285714286\n"
     ]
    }
   ],
   "source": [
    "for mod, modname in zip([onevsone_lr, onevsone_svc, onevsone_rf, onevsone_nb, onevsrest_lr, onevsrest_svc, onevsrest_rf,\n",
    "                         onevsrest_nb, xgb],\n",
    "                        ['ovo_lr', 'ovo_svc', 'ovo_rf', 'ovo_nb', 'ovr_lr', 'ovr_svc', 'ovr_rf', 'ovr_nb', 'xgb']):\n",
    "    \n",
    "    score = cross_val_score(mod, X_train, y_train, cv=10, scoring='f1_micro')\n",
    "    print('{}: Cross validation f1 micro is {}.'.format(modname, score.mean()))\n",
    "    \n",
    "    modfit = mod.fit(X_train, y_train)\n",
    "    test_pred = modfit.predict(X_test)\n",
    "    print('{}: Test f1 micro is {}'.format(modname, f1_score(y_test, test_pred, average='micro')))"
   ]
  },
  {
   "cell_type": "code",
   "execution_count": 48,
   "metadata": {},
   "outputs": [
    {
     "name": "stdout",
     "output_type": "stream",
     "text": [
      "              precision    recall  f1-score   support\n",
      "\n",
      "           0       0.44      0.24      0.31        50\n",
      "           1       0.44      0.26      0.33        69\n",
      "           2       0.75      0.91      0.82       231\n",
      "\n",
      "    accuracy                           0.69       350\n",
      "   macro avg       0.54      0.47      0.49       350\n",
      "weighted avg       0.64      0.69      0.65       350\n",
      "\n",
      "micro avg                              0.69\n"
     ]
    }
   ],
   "source": [
    "mod = xgb\n",
    "modfit = mod.fit(X_train, y_train)\n",
    "test_pred = modfit.predict(X_test)\n",
    "print(classification_report(y_test, test_pred))\n",
    "print('micro avg                              {}'.format(round(f1_score(y_test, test_pred, average='micro'),2)))"
   ]
  },
  {
   "cell_type": "markdown",
   "metadata": {},
   "source": [
    "### BIC 6"
   ]
  },
  {
   "cell_type": "code",
   "execution_count": 49,
   "metadata": {},
   "outputs": [],
   "source": [
    "BIC_features = ['netspeak_focus', 'money_oriented', 'workhorse', 'active', 'power_driven', 'health_oriented']\n",
    "\n",
    "X_train = train[BIC_features]\n",
    "X_test = test[BIC_features]"
   ]
  },
  {
   "cell_type": "code",
   "execution_count": 50,
   "metadata": {},
   "outputs": [
    {
     "name": "stdout",
     "output_type": "stream",
     "text": [
      "ovo_lr: Cross validation f1 micro is 0.5759861487503765.\n",
      "ovo_lr: Test f1 micro is 0.5028571428571429\n",
      "ovo_svc: Cross validation f1 micro is 0.5636404697380307.\n",
      "ovo_svc: Test f1 micro is 0.5028571428571429\n",
      "ovo_rf: Cross validation f1 micro is 0.6793134598012646.\n",
      "ovo_rf: Test f1 micro is 0.6371428571428571\n",
      "ovo_nb: Cross validation f1 micro is 0.6483739837398373.\n",
      "ovo_nb: Test f1 micro is 0.6228571428571429\n",
      "ovr_lr: Cross validation f1 micro is 0.5895362842517314.\n",
      "ovr_lr: Test f1 micro is 0.5314285714285715\n",
      "ovr_svc: Cross validation f1 micro is 0.5809545317675399.\n",
      "ovr_svc: Test f1 micro is 0.5228571428571429\n",
      "ovr_rf: Cross validation f1 micro is 0.6596356519120746.\n",
      "ovr_rf: Test f1 micro is 0.6457142857142857\n",
      "ovr_nb: Cross validation f1 micro is 0.6532670882264378.\n",
      "ovr_nb: Test f1 micro is 0.62\n",
      "xgb: Cross validation f1 micro is 0.6719662752183078.\n",
      "xgb: Test f1 micro is 0.6571428571428571\n"
     ]
    }
   ],
   "source": [
    "for mod, modname in zip([onevsone_lr, onevsone_svc, onevsone_rf, onevsone_nb, onevsrest_lr, onevsrest_svc, onevsrest_rf,\n",
    "                         onevsrest_nb, xgb],\n",
    "                        ['ovo_lr', 'ovo_svc', 'ovo_rf', 'ovo_nb', 'ovr_lr', 'ovr_svc', 'ovr_rf', 'ovr_nb', 'xgb']):\n",
    "    \n",
    "    score = cross_val_score(mod, X_train, y_train, cv=10, scoring='f1_micro')\n",
    "    print('{}: Cross validation f1 micro is {}.'.format(modname, score.mean()))\n",
    "    \n",
    "    modfit = mod.fit(X_train, y_train)\n",
    "    test_pred = modfit.predict(X_test)\n",
    "    print('{}: Test f1 micro is {}'.format(modname, f1_score(y_test, test_pred, average='micro')))"
   ]
  },
  {
   "cell_type": "code",
   "execution_count": 51,
   "metadata": {
    "scrolled": true
   },
   "outputs": [
    {
     "name": "stdout",
     "output_type": "stream",
     "text": [
      "              precision    recall  f1-score   support\n",
      "\n",
      "           0       0.44      0.14      0.21        50\n",
      "           1       0.38      0.28      0.32        69\n",
      "           2       0.72      0.88      0.79       231\n",
      "\n",
      "    accuracy                           0.66       350\n",
      "   macro avg       0.51      0.43      0.44       350\n",
      "weighted avg       0.61      0.66      0.62       350\n",
      "\n",
      "micro avg                              0.66\n"
     ]
    }
   ],
   "source": [
    "mod = xgb\n",
    "modfit = mod.fit(X_train, y_train)\n",
    "test_pred = modfit.predict(X_test)\n",
    "print(classification_report(y_test, test_pred))\n",
    "print('micro avg                              {}'.format(round(f1_score(y_test, test_pred, average='micro'),2)))"
   ]
  },
  {
   "cell_type": "markdown",
   "metadata": {},
   "source": [
    "### BIC 10"
   ]
  },
  {
   "cell_type": "code",
   "execution_count": 52,
   "metadata": {},
   "outputs": [],
   "source": [
    "BIC_features = ['netspeak_focus', 'money_oriented', 'workhorse', 'active', 'power_driven',\n",
    "                'health_oriented', 'adjustment', 'reward_bias', 'cheerful', 'leisure_oriented']\n",
    "\n",
    "X_train = train[BIC_features]\n",
    "X_test = test[BIC_features]"
   ]
  },
  {
   "cell_type": "code",
   "execution_count": 53,
   "metadata": {},
   "outputs": [],
   "source": [
    "# import math\n",
    "# print('odds ratio    {}'.format(math.exp()) )\n",
    "# print('odds ratio    {}'.format(math.exp())  )\n",
    "# print('odds ratio    {}'.format(math.exp()) )\n",
    "# print('odds ratio    {}'.format(math.exp()) )\n",
    "# print('odds ratio    {}'.format(math.exp())  )"
   ]
  },
  {
   "cell_type": "code",
   "execution_count": 54,
   "metadata": {},
   "outputs": [
    {
     "name": "stdout",
     "output_type": "stream",
     "text": [
      "ovo_lr: Cross validation f1 micro is 0.5846281240590183.\n",
      "ovo_lr: Test f1 micro is 0.5228571428571429\n",
      "ovo_svc: Cross validation f1 micro is 0.5845829569406805.\n",
      "ovo_svc: Test f1 micro is 0.5371428571428571\n",
      "ovo_rf: Cross validation f1 micro is 0.6768593797049082.\n",
      "ovo_rf: Test f1 micro is 0.6571428571428571\n",
      "ovo_nb: Cross validation f1 micro is 0.571017765733213.\n",
      "ovo_nb: Test f1 micro is 0.5171428571428571\n",
      "ovr_lr: Cross validation f1 micro is 0.590770852152966.\n",
      "ovr_lr: Test f1 micro is 0.5457142857142857\n",
      "ovr_svc: Cross validation f1 micro is 0.6055103884372177.\n",
      "ovr_svc: Test f1 micro is 0.5428571428571428\n",
      "ovr_rf: Cross validation f1 micro is 0.6805329719963866.\n",
      "ovr_rf: Test f1 micro is 0.6514285714285715\n",
      "ovr_nb: Cross validation f1 micro is 0.6312556458897922.\n",
      "ovr_nb: Test f1 micro is 0.5914285714285714\n",
      "xgb: Cross validation f1 micro is 0.6792682926829269.\n",
      "xgb: Test f1 micro is 0.64\n"
     ]
    }
   ],
   "source": [
    "for mod, modname in zip([onevsone_lr, onevsone_svc, onevsone_rf, onevsone_nb, onevsrest_lr, onevsrest_svc, onevsrest_rf,\n",
    "                         onevsrest_nb, xgb],\n",
    "                        ['ovo_lr', 'ovo_svc', 'ovo_rf', 'ovo_nb', 'ovr_lr', 'ovr_svc', 'ovr_rf', 'ovr_nb', 'xgb']):\n",
    "    \n",
    "    score = cross_val_score(mod, X_train, y_train, cv=10, scoring='f1_micro')\n",
    "    print('{}: Cross validation f1 micro is {}.'.format(modname, score.mean()))\n",
    "    \n",
    "    modfit = mod.fit(X_train, y_train)\n",
    "    test_pred = modfit.predict(X_test)\n",
    "    print('{}: Test f1 micro is {}'.format(modname, f1_score(y_test, test_pred, average='micro')))"
   ]
  },
  {
   "cell_type": "code",
   "execution_count": 55,
   "metadata": {},
   "outputs": [
    {
     "name": "stdout",
     "output_type": "stream",
     "text": [
      "              precision    recall  f1-score   support\n",
      "\n",
      "           0       0.30      0.06      0.10        50\n",
      "           1       0.37      0.22      0.27        69\n",
      "           2       0.71      0.92      0.80       231\n",
      "\n",
      "    accuracy                           0.66       350\n",
      "   macro avg       0.46      0.40      0.39       350\n",
      "weighted avg       0.58      0.66      0.60       350\n",
      "\n",
      "micro avg                              0.66\n"
     ]
    }
   ],
   "source": [
    "mod = onevsone_rf\n",
    "modfit = mod.fit(X_train, y_train)\n",
    "test_pred = modfit.predict(X_test)\n",
    "print(classification_report(y_test, test_pred))\n",
    "print('micro avg                              {}'.format(round(f1_score(y_test, test_pred, average='micro'),2)))"
   ]
  },
  {
   "cell_type": "markdown",
   "metadata": {},
   "source": [
    "### BIC 15"
   ]
  },
  {
   "cell_type": "code",
   "execution_count": 56,
   "metadata": {},
   "outputs": [],
   "source": [
    "BIC_features = ['netspeak_focus', 'money_oriented', 'workhorse', 'active', 'power_driven',\n",
    "                'health_oriented', 'adjustment', 'reward_bias', 'cheerful', 'leisure_oriented',\n",
    "                'thinking_style', 'aggressive', 'organized', 'self_assured', 'religion_oriented']\n",
    "\n",
    "X_train = train[BIC_features]\n",
    "X_test = test[BIC_features]"
   ]
  },
  {
   "cell_type": "code",
   "execution_count": 57,
   "metadata": {},
   "outputs": [
    {
     "name": "stdout",
     "output_type": "stream",
     "text": [
      "ovo_lr: Cross validation f1 micro is 0.5809846431797651.\n",
      "ovo_lr: Test f1 micro is 0.5342857142857143\n",
      "ovo_svc: Cross validation f1 micro is 0.6190153568202349.\n",
      "ovo_svc: Test f1 micro is 0.5742857142857143\n",
      "ovo_rf: Cross validation f1 micro is 0.6719662752183078.\n",
      "ovo_rf: Test f1 micro is 0.6685714285714286\n",
      "ovo_nb: Cross validation f1 micro is 0.587037037037037.\n",
      "ovo_nb: Test f1 micro is 0.5828571428571429\n",
      "ovr_lr: Cross validation f1 micro is 0.5932550436615477.\n",
      "ovr_lr: Test f1 micro is 0.5457142857142857\n",
      "ovr_svc: Cross validation f1 micro is 0.6189701897018971.\n",
      "ovr_svc: Test f1 micro is 0.5742857142857143\n",
      "ovr_rf: Cross validation f1 micro is 0.6792833483890395.\n",
      "ovr_rf: Test f1 micro is 0.66\n",
      "ovr_nb: Cross validation f1 micro is 0.6324299909665763.\n",
      "ovr_nb: Test f1 micro is 0.6057142857142858\n",
      "xgb: Cross validation f1 micro is 0.6559620596205963.\n",
      "xgb: Test f1 micro is 0.6514285714285715\n"
     ]
    }
   ],
   "source": [
    "for mod, modname in zip([onevsone_lr, onevsone_svc, onevsone_rf, onevsone_nb, onevsrest_lr, onevsrest_svc, onevsrest_rf,\n",
    "                         onevsrest_nb, xgb],\n",
    "                        ['ovo_lr', 'ovo_svc', 'ovo_rf', 'ovo_nb', 'ovr_lr', 'ovr_svc', 'ovr_rf', 'ovr_nb', 'xgb']):\n",
    "    \n",
    "    score = cross_val_score(mod, X_train, y_train, cv=10, scoring='f1_micro')\n",
    "    print('{}: Cross validation f1 micro is {}.'.format(modname, score.mean()))\n",
    "    \n",
    "    modfit = mod.fit(X_train, y_train)\n",
    "    test_pred = modfit.predict(X_test)\n",
    "    print('{}: Test f1 micro is {}'.format(modname, f1_score(y_test, test_pred, average='micro')))"
   ]
  },
  {
   "cell_type": "code",
   "execution_count": 61,
   "metadata": {},
   "outputs": [
    {
     "name": "stdout",
     "output_type": "stream",
     "text": [
      "              precision    recall  f1-score   support\n",
      "\n",
      "           0       0.43      0.12      0.19        50\n",
      "           1       0.38      0.19      0.25        69\n",
      "           2       0.71      0.93      0.81       231\n",
      "\n",
      "    accuracy                           0.67       350\n",
      "   macro avg       0.51      0.41      0.42       350\n",
      "weighted avg       0.61      0.67      0.61       350\n",
      "\n",
      "micro avg                              0.67\n"
     ]
    }
   ],
   "source": [
    "mod = onevsone_rf\n",
    "modfit = mod.fit(X_train, y_train)\n",
    "test_pred = modfit.predict(X_test)\n",
    "print(classification_report(y_test, test_pred))\n",
    "print('micro avg                              {}'.format(round(f1_score(y_test, test_pred, average='micro'),2)))"
   ]
  },
  {
   "cell_type": "markdown",
   "metadata": {},
   "source": [
    "### BIC 20"
   ]
  },
  {
   "cell_type": "code",
   "execution_count": 62,
   "metadata": {},
   "outputs": [],
   "source": [
    "BIC_features = ['netspeak_focus', 'money_oriented', 'workhorse', 'active', 'power_driven',\n",
    "                'health_oriented', 'adjustment', 'reward_bias', 'cheerful', 'leisure_oriented',\n",
    "                'thinking_style', 'aggressive', 'organized', 'self_assured', 'religion_oriented',\n",
    "                'cautious', 'impulsive', 'disciplined', 'type_a', 'liberal']\n",
    "\n",
    "X_train = train[BIC_features]\n",
    "X_test = test[BIC_features]"
   ]
  },
  {
   "cell_type": "code",
   "execution_count": 63,
   "metadata": {},
   "outputs": [
    {
     "name": "stdout",
     "output_type": "stream",
     "text": [
      "ovo_lr: Cross validation f1 micro is 0.5834989461005721.\n",
      "ovo_lr: Test f1 micro is 0.54\n",
      "ovo_svc: Cross validation f1 micro is 0.6152815417043059.\n",
      "ovo_svc: Test f1 micro is 0.58\n",
      "ovo_rf: Cross validation f1 micro is 0.6768292682926829.\n",
      "ovo_rf: Test f1 micro is 0.6771428571428572\n",
      "ovo_nb: Cross validation f1 micro is 0.6054049984944294.\n",
      "ovo_nb: Test f1 micro is 0.6\n",
      "ovr_lr: Cross validation f1 micro is 0.5982384823848238.\n",
      "ovr_lr: Test f1 micro is 0.5628571428571428\n",
      "ovr_svc: Cross validation f1 micro is 0.6423215898825655.\n",
      "ovr_svc: Test f1 micro is 0.5885714285714285\n",
      "ovr_rf: Cross validation f1 micro is 0.6817976513098463.\n",
      "ovr_rf: Test f1 micro is 0.6657142857142857\n",
      "ovr_nb: Cross validation f1 micro is 0.6349292381812707.\n",
      "ovr_nb: Test f1 micro is 0.6257142857142857\n",
      "xgb: Cross validation f1 micro is 0.6719060523938571.\n",
      "xgb: Test f1 micro is 0.66\n"
     ]
    }
   ],
   "source": [
    "for mod, modname in zip([onevsone_lr, onevsone_svc, onevsone_rf, onevsone_nb, onevsrest_lr, onevsrest_svc, onevsrest_rf,\n",
    "                         onevsrest_nb, xgb],\n",
    "                        ['ovo_lr', 'ovo_svc', 'ovo_rf', 'ovo_nb', 'ovr_lr', 'ovr_svc', 'ovr_rf', 'ovr_nb', 'xgb']):\n",
    "    \n",
    "    score = cross_val_score(mod, X_train, y_train, cv=10, scoring='f1_micro')\n",
    "    print('{}: Cross validation f1 micro is {}.'.format(modname, score.mean()))\n",
    "    \n",
    "    modfit = mod.fit(X_train, y_train)\n",
    "    test_pred = modfit.predict(X_test)\n",
    "    print('{}: Test f1 micro is {}'.format(modname, f1_score(y_test, test_pred, average='micro')))"
   ]
  },
  {
   "cell_type": "code",
   "execution_count": 64,
   "metadata": {},
   "outputs": [
    {
     "name": "stdout",
     "output_type": "stream",
     "text": [
      "              precision    recall  f1-score   support\n",
      "\n",
      "           0       0.54      0.14      0.22        50\n",
      "           1       0.41      0.19      0.26        69\n",
      "           2       0.71      0.94      0.81       231\n",
      "\n",
      "    accuracy                           0.68       350\n",
      "   macro avg       0.55      0.42      0.43       350\n",
      "weighted avg       0.63      0.68      0.62       350\n",
      "\n",
      "micro avg                              0.68\n"
     ]
    }
   ],
   "source": [
    "mod = onevsone_rf\n",
    "modfit = mod.fit(X_train, y_train)\n",
    "test_pred = modfit.predict(X_test)\n",
    "print(classification_report(y_test, test_pred))\n",
    "print('micro avg                              {}'.format(round(f1_score(y_test, test_pred, average='micro'),2)))"
   ]
  },
  {
   "cell_type": "markdown",
   "metadata": {},
   "source": [
    "### BIC 25"
   ]
  },
  {
   "cell_type": "code",
   "execution_count": 65,
   "metadata": {},
   "outputs": [],
   "source": [
    "BIC_features = ['netspeak_focus', 'money_oriented', 'workhorse', 'active', 'power_driven',\n",
    "                'health_oriented', 'adjustment', 'reward_bias', 'cheerful', 'leisure_oriented',\n",
    "                'thinking_style', 'aggressive', 'organized', 'self_assured', 'religion_oriented',\n",
    "                'cautious', 'impulsive', 'disciplined', 'type_a', 'liberal',\n",
    "                'melancholy', 'neuroticism', 'sexual_focus', 'food_focus', 'cold']\n",
    "\n",
    "X_train = train[BIC_features]\n",
    "X_test = test[BIC_features]"
   ]
  },
  {
   "cell_type": "code",
   "execution_count": 66,
   "metadata": {},
   "outputs": [
    {
     "name": "stdout",
     "output_type": "stream",
     "text": [
      "ovo_lr: Cross validation f1 micro is 0.572463113520024.\n",
      "ovo_lr: Test f1 micro is 0.5342857142857143\n",
      "ovo_svc: Cross validation f1 micro is 0.6128575730201746.\n",
      "ovo_svc: Test f1 micro is 0.5828571428571429\n",
      "ovo_rf: Cross validation f1 micro is 0.6830021077988556.\n",
      "ovo_rf: Test f1 micro is 0.6714285714285714\n",
      "ovo_nb: Cross validation f1 micro is 0.622583559168925.\n",
      "ovo_nb: Test f1 micro is 0.6114285714285714\n",
      "ovr_lr: Cross validation f1 micro is 0.5760614272809395.\n",
      "ovr_lr: Test f1 micro is 0.5628571428571428\n",
      "ovr_svc: Cross validation f1 micro is 0.6239084613068353.\n",
      "ovr_svc: Test f1 micro is 0.6\n",
      "ovr_rf: Cross validation f1 micro is 0.6805630834086118.\n",
      "ovr_rf: Test f1 micro is 0.6714285714285714\n",
      "ovr_nb: Cross validation f1 micro is 0.6349292381812707.\n",
      "ovr_nb: Test f1 micro is 0.6285714285714286\n",
      "xgb: Cross validation f1 micro is 0.6583860283047275.\n",
      "xgb: Test f1 micro is 0.6628571428571428\n"
     ]
    }
   ],
   "source": [
    "for mod, modname in zip([onevsone_lr, onevsone_svc, onevsone_rf, onevsone_nb, onevsrest_lr, onevsrest_svc, onevsrest_rf,\n",
    "                         onevsrest_nb, xgb],\n",
    "                        ['ovo_lr', 'ovo_svc', 'ovo_rf', 'ovo_nb', 'ovr_lr', 'ovr_svc', 'ovr_rf', 'ovr_nb', 'xgb']):\n",
    "    \n",
    "    score = cross_val_score(mod, X_train, y_train, cv=10, scoring='f1_micro')\n",
    "    print('{}: Cross validation f1 micro is {}.'.format(modname, score.mean()))\n",
    "    \n",
    "    modfit = mod.fit(X_train, y_train)\n",
    "    test_pred = modfit.predict(X_test)\n",
    "    print('{}: Test f1 micro is {}'.format(modname, f1_score(y_test, test_pred, average='micro')))"
   ]
  },
  {
   "cell_type": "code",
   "execution_count": 68,
   "metadata": {},
   "outputs": [
    {
     "name": "stdout",
     "output_type": "stream",
     "text": [
      "              precision    recall  f1-score   support\n",
      "\n",
      "           0       0.42      0.10      0.16        50\n",
      "           1       0.45      0.20      0.28        69\n",
      "           2       0.70      0.94      0.80       231\n",
      "\n",
      "    accuracy                           0.67       350\n",
      "   macro avg       0.52      0.41      0.41       350\n",
      "weighted avg       0.61      0.67      0.61       350\n",
      "\n",
      "micro avg                              0.67\n"
     ]
    }
   ],
   "source": [
    "mod = onevsone_rf\n",
    "modfit = mod.fit(X_train, y_train)\n",
    "test_pred = modfit.predict(X_test)\n",
    "print(classification_report(y_test, test_pred))\n",
    "print('micro avg                              {}'.format(round(f1_score(y_test, test_pred, average='micro'),2)))"
   ]
  },
  {
   "cell_type": "markdown",
   "metadata": {},
   "source": [
    "### BIC 30"
   ]
  },
  {
   "cell_type": "code",
   "execution_count": 69,
   "metadata": {},
   "outputs": [],
   "source": [
    "BIC_features = ['netspeak_focus', 'money_oriented', 'workhorse', 'active', 'power_driven',\n",
    "                'health_oriented', 'adjustment', 'reward_bias', 'cheerful', 'leisure_oriented',\n",
    "                'thinking_style', 'aggressive', 'organized', 'self_assured', 'religion_oriented',\n",
    "                'cautious', 'impulsive', 'disciplined', 'type_a', 'liberal',\n",
    "                'melancholy', 'neuroticism', 'sexual_focus', 'food_focus', 'cold',\n",
    "                'friend_focus', 'agreeableness', 'generous', 'genuine', 'self_conscious']\n",
    "\n",
    "X_train = train[BIC_features]\n",
    "X_test = test[BIC_features]"
   ]
  },
  {
   "cell_type": "code",
   "execution_count": 70,
   "metadata": {},
   "outputs": [
    {
     "name": "stdout",
     "output_type": "stream",
     "text": [
      "ovo_lr: Cross validation f1 micro is 0.5748870822041554.\n",
      "ovo_lr: Test f1 micro is 0.5428571428571428\n",
      "ovo_svc: Cross validation f1 micro is 0.6140770852152967.\n",
      "ovo_svc: Test f1 micro is 0.58\n",
      "ovo_rf: Cross validation f1 micro is 0.6854110207768744.\n",
      "ovo_rf: Test f1 micro is 0.6742857142857143\n",
      "ovo_nb: Cross validation f1 micro is 0.6090484793736827.\n",
      "ovo_nb: Test f1 micro is 0.6257142857142857\n",
      "ovr_lr: Cross validation f1 micro is 0.5896567299006323.\n",
      "ovr_lr: Test f1 micro is 0.5828571428571429\n",
      "ovr_svc: Cross validation f1 micro is 0.6349744052996085.\n",
      "ovr_svc: Test f1 micro is 0.6057142857142858\n",
      "ovr_rf: Cross validation f1 micro is 0.6780638361939173.\n",
      "ovr_rf: Test f1 micro is 0.6657142857142857\n",
      "ovr_nb: Cross validation f1 micro is 0.642186088527552.\n",
      "ovr_nb: Test f1 micro is 0.6257142857142857\n",
      "xgb: Cross validation f1 micro is 0.6670280036133694.\n",
      "xgb: Test f1 micro is 0.6542857142857142\n"
     ]
    }
   ],
   "source": [
    "for mod, modname in zip([onevsone_lr, onevsone_svc, onevsone_rf, onevsone_nb, onevsrest_lr, onevsrest_svc, onevsrest_rf,\n",
    "                         onevsrest_nb, xgb],\n",
    "                        ['ovo_lr', 'ovo_svc', 'ovo_rf', 'ovo_nb', 'ovr_lr', 'ovr_svc', 'ovr_rf', 'ovr_nb', 'xgb']):\n",
    "    \n",
    "    score = cross_val_score(mod, X_train, y_train, cv=10, scoring='f1_micro')\n",
    "    print('{}: Cross validation f1 micro is {}.'.format(modname, score.mean()))\n",
    "    \n",
    "    modfit = mod.fit(X_train, y_train)\n",
    "    test_pred = modfit.predict(X_test)\n",
    "    print('{}: Test f1 micro is {}'.format(modname, f1_score(y_test, test_pred, average='micro')))"
   ]
  },
  {
   "cell_type": "code",
   "execution_count": 71,
   "metadata": {},
   "outputs": [
    {
     "name": "stdout",
     "output_type": "stream",
     "text": [
      "              precision    recall  f1-score   support\n",
      "\n",
      "           0       0.54      0.14      0.22        50\n",
      "           1       0.42      0.22      0.29        69\n",
      "           2       0.71      0.93      0.80       231\n",
      "\n",
      "    accuracy                           0.67       350\n",
      "   macro avg       0.56      0.43      0.44       350\n",
      "weighted avg       0.63      0.67      0.62       350\n",
      "\n",
      "micro avg                              0.67\n"
     ]
    }
   ],
   "source": [
    "mod = onevsone_rf\n",
    "modfit = mod.fit(X_train, y_train)\n",
    "test_pred = modfit.predict(X_test)\n",
    "print(classification_report(y_test, test_pred))\n",
    "print('micro avg                              {}'.format(round(f1_score(y_test, test_pred, average='micro'),2)))"
   ]
  },
  {
   "cell_type": "markdown",
   "metadata": {},
   "source": [
    "### BIC 35"
   ]
  },
  {
   "cell_type": "code",
   "execution_count": 72,
   "metadata": {},
   "outputs": [],
   "source": [
    "BIC_features = ['netspeak_focus', 'money_oriented', 'workhorse', 'active', 'power_driven',\n",
    "                'health_oriented', 'adjustment', 'reward_bias', 'cheerful', 'leisure_oriented',\n",
    "                'thinking_style', 'aggressive', 'organized', 'self_assured', 'religion_oriented',\n",
    "                'cautious', 'impulsive', 'disciplined', 'type_a', 'liberal',\n",
    "                'melancholy', 'neuroticism', 'sexual_focus', 'food_focus', 'cold',\n",
    "                'friend_focus', 'agreeableness', 'generous', 'genuine', 'self_conscious',\n",
    "                'emotionally_aware', 'artistic', 'ambitious', 'adventurous', 'anxious']\n",
    "\n",
    "X_train = train[BIC_features]\n",
    "X_test = test[BIC_features]"
   ]
  },
  {
   "cell_type": "code",
   "execution_count": 73,
   "metadata": {},
   "outputs": [
    {
     "name": "stdout",
     "output_type": "stream",
     "text": [
      "ovo_lr: Cross validation f1 micro is 0.5845679012345679.\n",
      "ovo_lr: Test f1 micro is 0.54\n",
      "ovo_svc: Cross validation f1 micro is 0.6152815417043059.\n",
      "ovo_svc: Test f1 micro is 0.5828571428571429\n",
      "ovo_rf: Cross validation f1 micro is 0.6854712436013248.\n",
      "ovo_rf: Test f1 micro is 0.6742857142857143\n",
      "ovo_nb: Cross validation f1 micro is 0.6017163504968382.\n",
      "ovo_nb: Test f1 micro is 0.6085714285714285\n",
      "ovr_lr: Cross validation f1 micro is 0.5957392351701295.\n",
      "ovr_lr: Test f1 micro is 0.56\n",
      "ovr_svc: Cross validation f1 micro is 0.6373983739837399.\n",
      "ovr_svc: Test f1 micro is 0.6\n",
      "ovr_rf: Cross validation f1 micro is 0.6707618187292985.\n",
      "ovr_rf: Test f1 micro is 0.6628571428571428\n",
      "ovr_nb: Cross validation f1 micro is 0.6299457994579947.\n",
      "ovr_nb: Test f1 micro is 0.62\n",
      "xgb: Cross validation f1 micro is 0.6670129479072567.\n",
      "xgb: Test f1 micro is 0.6657142857142857\n"
     ]
    }
   ],
   "source": [
    "for mod, modname in zip([onevsone_lr, onevsone_svc, onevsone_rf, onevsone_nb, onevsrest_lr, onevsrest_svc, onevsrest_rf,\n",
    "                         onevsrest_nb, xgb],\n",
    "                        ['ovo_lr', 'ovo_svc', 'ovo_rf', 'ovo_nb', 'ovr_lr', 'ovr_svc', 'ovr_rf', 'ovr_nb', 'xgb']):\n",
    "    \n",
    "    score = cross_val_score(mod, X_train, y_train, cv=10, scoring='f1_micro')\n",
    "    print('{}: Cross validation f1 micro is {}.'.format(modname, score.mean()))\n",
    "    \n",
    "    modfit = mod.fit(X_train, y_train)\n",
    "    test_pred = modfit.predict(X_test)\n",
    "    print('{}: Test f1 micro is {}'.format(modname, f1_score(y_test, test_pred, average='micro')))"
   ]
  },
  {
   "cell_type": "code",
   "execution_count": 74,
   "metadata": {},
   "outputs": [
    {
     "name": "stdout",
     "output_type": "stream",
     "text": [
      "              precision    recall  f1-score   support\n",
      "\n",
      "           0       0.62      0.10      0.17        50\n",
      "           1       0.43      0.17      0.25        69\n",
      "           2       0.70      0.95      0.80       231\n",
      "\n",
      "    accuracy                           0.67       350\n",
      "   macro avg       0.58      0.41      0.41       350\n",
      "weighted avg       0.63      0.67      0.60       350\n",
      "\n",
      "micro avg                              0.67\n"
     ]
    }
   ],
   "source": [
    "mod = onevsone_rf\n",
    "modfit = mod.fit(X_train, y_train)\n",
    "test_pred = modfit.predict(X_test)\n",
    "print(classification_report(y_test, test_pred))\n",
    "print('micro avg                              {}'.format(round(f1_score(y_test, test_pred, average='micro'),2)))"
   ]
  },
  {
   "cell_type": "markdown",
   "metadata": {},
   "source": [
    "### BIC 40"
   ]
  },
  {
   "cell_type": "code",
   "execution_count": 75,
   "metadata": {},
   "outputs": [],
   "source": [
    "BIC_features = ['netspeak_focus', 'money_oriented', 'workhorse', 'active', 'power_driven',\n",
    "                'health_oriented', 'adjustment', 'reward_bias', 'cheerful', 'leisure_oriented',\n",
    "                'thinking_style', 'aggressive', 'organized', 'self_assured', 'religion_oriented',\n",
    "                'cautious', 'impulsive', 'disciplined', 'type_a', 'liberal',\n",
    "                'melancholy', 'neuroticism', 'sexual_focus', 'food_focus', 'cold',\n",
    "                'friend_focus', 'agreeableness', 'generous', 'genuine', 'self_conscious',\n",
    "                'emotionally_aware', 'artistic', 'ambitious', 'adventurous', 'anxious',\n",
    "                'stressed', 'work_oriented', 'depression', 'family_oriented', 'insecure']\n",
    "\n",
    "X_train = train[BIC_features]\n",
    "X_test = test[BIC_features]"
   ]
  },
  {
   "cell_type": "code",
   "execution_count": 76,
   "metadata": {},
   "outputs": [
    {
     "name": "stdout",
     "output_type": "stream",
     "text": [
      "ovo_lr: Cross validation f1 micro is 0.5810147545919904.\n",
      "ovo_lr: Test f1 micro is 0.52\n",
      "ovo_svc: Cross validation f1 micro is 0.6128876844323999.\n",
      "ovo_svc: Test f1 micro is 0.5914285714285714\n",
      "ovo_rf: Cross validation f1 micro is 0.6793134598012646.\n",
      "ovo_rf: Test f1 micro is 0.6657142857142857\n",
      "ovo_nb: Cross validation f1 micro is 0.578319783197832.\n",
      "ovo_nb: Test f1 micro is 0.62\n",
      "ovr_lr: Cross validation f1 micro is 0.5933303221921108.\n",
      "ovr_lr: Test f1 micro is 0.5714285714285714\n",
      "ovr_svc: Cross validation f1 micro is 0.62387834989461.\n",
      "ovr_svc: Test f1 micro is 0.6171428571428571\n",
      "ovr_rf: Cross validation f1 micro is 0.6682776272207167.\n",
      "ovr_rf: Test f1 micro is 0.66\n",
      "ovr_nb: Cross validation f1 micro is 0.6311803673592292.\n",
      "ovr_nb: Test f1 micro is 0.6228571428571429\n",
      "xgb: Cross validation f1 micro is 0.6767991568804577.\n",
      "xgb: Test f1 micro is 0.6628571428571428\n"
     ]
    }
   ],
   "source": [
    "for mod, modname in zip([onevsone_lr, onevsone_svc, onevsone_rf, onevsone_nb, onevsrest_lr, onevsrest_svc, onevsrest_rf,\n",
    "                         onevsrest_nb, xgb],\n",
    "                        ['ovo_lr', 'ovo_svc', 'ovo_rf', 'ovo_nb', 'ovr_lr', 'ovr_svc', 'ovr_rf', 'ovr_nb', 'xgb']):\n",
    "    \n",
    "    score = cross_val_score(mod, X_train, y_train, cv=10, scoring='f1_micro')\n",
    "    print('{}: Cross validation f1 micro is {}.'.format(modname, score.mean()))\n",
    "    \n",
    "    modfit = mod.fit(X_train, y_train)\n",
    "    test_pred = modfit.predict(X_test)\n",
    "    print('{}: Test f1 micro is {}'.format(modname, f1_score(y_test, test_pred, average='micro')))"
   ]
  },
  {
   "cell_type": "code",
   "execution_count": 77,
   "metadata": {},
   "outputs": [
    {
     "name": "stdout",
     "output_type": "stream",
     "text": [
      "              precision    recall  f1-score   support\n",
      "\n",
      "           0       0.45      0.10      0.16        50\n",
      "           1       0.42      0.19      0.26        69\n",
      "           2       0.70      0.93      0.80       231\n",
      "\n",
      "    accuracy                           0.67       350\n",
      "   macro avg       0.52      0.41      0.41       350\n",
      "weighted avg       0.61      0.67      0.60       350\n",
      "\n",
      "micro avg                              0.67\n",
      "macro avg                              0.41\n"
     ]
    }
   ],
   "source": [
    "mod = onevsone_rf\n",
    "modfit = mod.fit(X_train, y_train)\n",
    "test_pred = modfit.predict(X_test)\n",
    "print(classification_report(y_test, test_pred))\n",
    "print('micro avg                              {}'.format(round(f1_score(y_test, test_pred, average='micro'),2)))\n",
    "print('macro avg                              {}'.format(round(f1_score(y_test, test_pred, average='macro'),2)))"
   ]
  },
  {
   "cell_type": "markdown",
   "metadata": {},
   "source": [
    "#### Odds Ratio for BIC 40"
   ]
  },
  {
   "cell_type": "code",
   "execution_count": null,
   "metadata": {},
   "outputs": [],
   "source": [
    "# Coefficients:\n",
    "#      (Intercept) netspeak_focus money_oriented    workhorse       active\n",
    "#    1   -0.728999   -0.023476272    0.010378129 -0.009522501 -0.015349323\n",
    "#    2    2.128925   -0.006137466   -0.003026801 -0.031658883  0.003269262\n",
    "#      power_driven health_oriented  adjustment  reward_bias     cheerful\n",
    "#    1  -0.02553222     0.016059395 -0.04908470 -0.006461065  0.008260045\n",
    "#    2  -0.01451243     0.008371385 -0.01654196  0.006186548 -0.010192141\n",
    "#      leisure_oriented thinking_style  aggressive    organized self_assured\n",
    "#    1      -0.01137100   -0.001625862 -0.02968211 -0.008331101  0.006260128\n",
    "#    2      -0.01194271    0.014451886 -0.03226892 -0.016988143  0.017833144\n",
    "#      religion_oriented      cautious   impulsive  disciplined     type_a\n",
    "#    1      -0.004719442  0.0127061385 0.027234667  0.003919399 0.01376712\n",
    "#    2       0.006997811 -0.0005605821 0.003561902 -0.007219051 0.02124003\n",
    "#          liberal melancholy neuroticism sexual_focus  food_focus       cold\n",
    "#    1 -0.01522392 0.02295983 -0.04673314   0.01817473 0.004430683 0.02393643\n",
    "#    2 -0.02271685 0.02128984 -0.04686367   0.01612098 0.007613981 0.01435010\n",
    "#      friend_focus agreeableness     generous    genuine self_conscious\n",
    "#    1  0.004076875  -0.001436249 -0.002730232 0.01069174     0.01880966\n",
    "#    2  0.008815973  -0.023137742  0.019466417 0.02244011     0.01946617\n",
    "#      emotionally_aware   artistic   ambitious  adventurous      anxious\n",
    "#    1      -0.013205394 0.01079969 0.008774397 -0.008834482  0.003593158\n",
    "#    2      -0.007231397 0.01276577 0.017758021 -0.016618487 -0.005953701\n",
    "#         stressed work_oriented  depression family_oriented    insecure\n",
    "#    1 0.002260092   0.001703292 0.014276417     0.009998929 -0.01661206\n",
    "#    2 0.011207941  -0.004048210 0.001663619     0.006171349 -0.01342986"
   ]
  },
  {
   "cell_type": "code",
   "execution_count": 128,
   "metadata": {},
   "outputs": [],
   "source": [
    "coefficients_pain_vs_none = [-0.023476272, 0.010378129, -0.009522501, -0.015349323,\n",
    "                            -0.02553222, 0.016059395, -0.04908470, -0.006461065, 0.008260045,\n",
    "                            -0.01137100, -0.001625862, -0.02968211, -0.008331101, 0.006260128,\n",
    "                            -0.004719442, 0.0127061385, 0.027234667, 0.003919399, 0.01376712,\n",
    "                            -0.01522392, 0.02295983, -0.04673314, 0.01817473, 0.004430683, 0.02393643,\n",
    "                             0.004076875, -0.001436249, -0.002730232, 0.01069174, 0.01880966,\n",
    "                            -0.013205394, 0.01079969, 0.008774397, -0.008834482, 0.003593158,\n",
    "                            0.002260092, 0.001703292, 0.014276417, 0.009998929, -0.01661206]\n",
    "\n",
    "coefficients_PleasureAddiction_vs_none = [-0.006137466, -0.003026801, -0.031658883, 0.003269262,\n",
    "                                         -0.01451243, 0.008371385, -0.01654196, 0.006186548, -0.010192141,\n",
    "                                         -0.01194271, 0.014451886, -0.03226892, -0.016988143, 0.017833144,\n",
    "                                         0.006997811, -0.0005605821, 0.003561902, -0.007219051, 0.02124003,\n",
    "                                         -0.02271685, 0.02128984, -0.04686367, 0.01612098, 0.007613981, 0.01435010,\n",
    "                                         0.008815973, -0.023137742, 0.019466417, 0.02244011, 0.01946617,\n",
    "                                          -0.007231397, 0.01276577, 0.017758021, -0.016618487, -0.005953701,\n",
    "                                         0.011207941, -0.004048210, 0.001663619, 0.006171349, -0.01342986]\n",
    "\n",
    "Feature_nm = ['netspeak_focus', 'money_oriented', 'workhorse', 'active',\n",
    "             'power_driven', 'health_oriented', 'adjustment', 'reward_bias', 'cheerful',\n",
    "             'leisure_oriented', 'thinking_style', 'aggressive', 'organized', 'self_assured',\n",
    "              'religion_oriented', 'cautious', 'impulsive', 'disciplined', 'type_a',\n",
    "             'liberal', 'melancholy', 'neuroticism', 'sexual_focus', 'food_focus', 'cold',\n",
    "             'friend_focus', 'agreeableness', 'generous', 'genuine', 'self_conscious',\n",
    "              'emotionally_aware', 'artistic', 'ambitious', 'adventurous', 'anxious',\n",
    "             'stressed', 'work_oriented', 'depression', 'family_oriented', 'insecure']"
   ]
  },
  {
   "cell_type": "code",
   "execution_count": 129,
   "metadata": {},
   "outputs": [
    {
     "name": "stdout",
     "output_type": "stream",
     "text": [
      "Odds Ratio\n",
      "NETSPEAK_FOCUS\n",
      "ref: None\n",
      "     Pain 0.977\n",
      "     Pleasure & Addiction 0.994\n",
      "MONEY_ORIENTED\n",
      "ref: None\n",
      "     Pain 1.01\n",
      "     Pleasure & Addiction 0.997\n",
      "WORKHORSE\n",
      "ref: None\n",
      "     Pain 0.991\n",
      "     Pleasure & Addiction 0.969\n",
      "ACTIVE\n",
      "ref: None\n",
      "     Pain 0.985\n",
      "     Pleasure & Addiction 1.003\n",
      "POWER_DRIVEN\n",
      "ref: None\n",
      "     Pain 0.975\n",
      "     Pleasure & Addiction 0.986\n",
      "HEALTH_ORIENTED\n",
      "ref: None\n",
      "     Pain 1.016\n",
      "     Pleasure & Addiction 1.008\n",
      "ADJUSTMENT\n",
      "ref: None\n",
      "     Pain 0.952\n",
      "     Pleasure & Addiction 0.984\n",
      "REWARD_BIAS\n",
      "ref: None\n",
      "     Pain 0.994\n",
      "     Pleasure & Addiction 1.006\n",
      "CHEERFUL\n",
      "ref: None\n",
      "     Pain 1.008\n",
      "     Pleasure & Addiction 0.99\n",
      "LEISURE_ORIENTED\n",
      "ref: None\n",
      "     Pain 0.989\n",
      "     Pleasure & Addiction 0.988\n",
      "THINKING_STYLE\n",
      "ref: None\n",
      "     Pain 0.998\n",
      "     Pleasure & Addiction 1.015\n",
      "AGGRESSIVE\n",
      "ref: None\n",
      "     Pain 0.971\n",
      "     Pleasure & Addiction 0.968\n",
      "ORGANIZED\n",
      "ref: None\n",
      "     Pain 0.992\n",
      "     Pleasure & Addiction 0.983\n",
      "SELF_ASSURED\n",
      "ref: None\n",
      "     Pain 1.006\n",
      "     Pleasure & Addiction 1.018\n",
      "RELIGION_ORIENTED\n",
      "ref: None\n",
      "     Pain 0.995\n",
      "     Pleasure & Addiction 1.007\n",
      "CAUTIOUS\n",
      "ref: None\n",
      "     Pain 1.013\n",
      "     Pleasure & Addiction 0.999\n",
      "IMPULSIVE\n",
      "ref: None\n",
      "     Pain 1.028\n",
      "     Pleasure & Addiction 1.004\n",
      "DISCIPLINED\n",
      "ref: None\n",
      "     Pain 1.004\n",
      "     Pleasure & Addiction 0.993\n",
      "TYPE_A\n",
      "ref: None\n",
      "     Pain 1.014\n",
      "     Pleasure & Addiction 1.021\n",
      "LIBERAL\n",
      "ref: None\n",
      "     Pain 0.985\n",
      "     Pleasure & Addiction 0.978\n",
      "MELANCHOLY\n",
      "ref: None\n",
      "     Pain 1.023\n",
      "     Pleasure & Addiction 1.022\n",
      "NEUROTICISM\n",
      "ref: None\n",
      "     Pain 0.954\n",
      "     Pleasure & Addiction 0.954\n",
      "SEXUAL_FOCUS\n",
      "ref: None\n",
      "     Pain 1.018\n",
      "     Pleasure & Addiction 1.016\n",
      "FOOD_FOCUS\n",
      "ref: None\n",
      "     Pain 1.004\n",
      "     Pleasure & Addiction 1.008\n",
      "COLD\n",
      "ref: None\n",
      "     Pain 1.024\n",
      "     Pleasure & Addiction 1.014\n",
      "FRIEND_FOCUS\n",
      "ref: None\n",
      "     Pain 1.004\n",
      "     Pleasure & Addiction 1.009\n",
      "AGREEABLENESS\n",
      "ref: None\n",
      "     Pain 0.999\n",
      "     Pleasure & Addiction 0.977\n",
      "GENEROUS\n",
      "ref: None\n",
      "     Pain 0.997\n",
      "     Pleasure & Addiction 1.02\n",
      "GENUINE\n",
      "ref: None\n",
      "     Pain 1.011\n",
      "     Pleasure & Addiction 1.023\n",
      "SELF_CONSCIOUS\n",
      "ref: None\n",
      "     Pain 1.019\n",
      "     Pleasure & Addiction 1.02\n",
      "EMOTIONALLY_AWARE\n",
      "ref: None\n",
      "     Pain 0.987\n",
      "     Pleasure & Addiction 0.993\n",
      "ARTISTIC\n",
      "ref: None\n",
      "     Pain 1.011\n",
      "     Pleasure & Addiction 1.013\n",
      "AMBITIOUS\n",
      "ref: None\n",
      "     Pain 1.009\n",
      "     Pleasure & Addiction 1.018\n",
      "ADVENTUROUS\n",
      "ref: None\n",
      "     Pain 0.991\n",
      "     Pleasure & Addiction 0.984\n",
      "ANXIOUS\n",
      "ref: None\n",
      "     Pain 1.004\n",
      "     Pleasure & Addiction 0.994\n",
      "STRESSED\n",
      "ref: None\n",
      "     Pain 1.002\n",
      "     Pleasure & Addiction 1.011\n",
      "WORK_ORIENTED\n",
      "ref: None\n",
      "     Pain 1.002\n",
      "     Pleasure & Addiction 0.996\n",
      "DEPRESSION\n",
      "ref: None\n",
      "     Pain 1.014\n",
      "     Pleasure & Addiction 1.002\n",
      "FAMILY_ORIENTED\n",
      "ref: None\n",
      "     Pain 1.01\n",
      "     Pleasure & Addiction 1.006\n",
      "INSECURE\n",
      "ref: None\n",
      "     Pain 0.984\n",
      "     Pleasure & Addiction 0.987\n"
     ]
    }
   ],
   "source": [
    "print('Odds Ratio')\n",
    "for coef_pain, coef_pleasreaddiction, feature_name in zip(coefficients_pain_vs_none,\n",
    "                                                          coefficients_PleasureAddiction_vs_none,\n",
    "                                                          Feature_nm):\n",
    "    print(feature_name.upper())\n",
    "    print('ref: None')\n",
    "    print('     Pain {}'.format(round(math.exp(coef_pain), 3)))\n",
    "    print('     Pleasure & Addiction {}'.format(round(math.exp(coef_pleasreaddiction), 3)))"
   ]
  },
  {
   "cell_type": "markdown",
   "metadata": {},
   "source": [
    "### BIC 45"
   ]
  },
  {
   "cell_type": "code",
   "execution_count": 78,
   "metadata": {},
   "outputs": [],
   "source": [
    "BIC_features = ['netspeak_focus', 'money_oriented', 'workhorse', 'active', 'power_driven',\n",
    "                'health_oriented', 'adjustment', 'reward_bias', 'cheerful', 'leisure_oriented',\n",
    "                'thinking_style', 'aggressive', 'organized', 'self_assured', 'religion_oriented',\n",
    "                'cautious', 'impulsive', 'disciplined', 'type_a', 'liberal',\n",
    "                'melancholy', 'neuroticism', 'sexual_focus', 'food_focus', 'cold',\n",
    "                'friend_focus', 'agreeableness', 'generous', 'genuine', 'self_conscious',\n",
    "                'emotionally_aware', 'artistic', 'ambitious', 'adventurous', 'anxious',\n",
    "                'stressed', 'work_oriented', 'depression', 'family_oriented', 'insecure',\n",
    "                'happiness', 'conscientiousness', 'dutiful', 'persuasive', 'cooperative']\n",
    "\n",
    "X_train = train[BIC_features]\n",
    "X_test = test[BIC_features]"
   ]
  },
  {
   "cell_type": "code",
   "execution_count": 79,
   "metadata": {},
   "outputs": [
    {
     "name": "stdout",
     "output_type": "stream",
     "text": [
      "ovo_lr: Cross validation f1 micro is 0.5625715146040349.\n",
      "ovo_lr: Test f1 micro is 0.5114285714285715\n",
      "ovo_svc: Cross validation f1 micro is 0.6177807889190003.\n",
      "ovo_svc: Test f1 micro is 0.5914285714285714\n",
      "ovo_rf: Cross validation f1 micro is 0.6744203553146642.\n",
      "ovo_rf: Test f1 micro is 0.6685714285714286\n",
      "ovo_nb: Cross validation f1 micro is 0.6090785907859079.\n",
      "ovo_nb: Test f1 micro is 0.6285714285714286\n",
      "ovr_lr: Cross validation f1 micro is 0.5749322493224932.\n",
      "ovr_lr: Test f1 micro is 0.5514285714285714\n",
      "ovr_svc: Cross validation f1 micro is 0.6177356218006624.\n",
      "ovr_svc: Test f1 micro is 0.6085714285714285\n",
      "ovr_rf: Cross validation f1 micro is 0.6744203553146643.\n",
      "ovr_rf: Test f1 micro is 0.6628571428571428\n",
      "ovr_nb: Cross validation f1 micro is 0.6238331827762723.\n",
      "ovr_nb: Test f1 micro is 0.6228571428571429\n",
      "xgb: Cross validation f1 micro is 0.6707015959048478.\n",
      "xgb: Test f1 micro is 0.68\n"
     ]
    }
   ],
   "source": [
    "for mod, modname in zip([onevsone_lr, onevsone_svc, onevsone_rf, onevsone_nb, onevsrest_lr, onevsrest_svc, onevsrest_rf,\n",
    "                         onevsrest_nb, xgb],\n",
    "                        ['ovo_lr', 'ovo_svc', 'ovo_rf', 'ovo_nb', 'ovr_lr', 'ovr_svc', 'ovr_rf', 'ovr_nb', 'xgb']):\n",
    "    \n",
    "    score = cross_val_score(mod, X_train, y_train, cv=10, scoring='f1_micro')\n",
    "    print('{}: Cross validation f1 micro is {}.'.format(modname, score.mean()))\n",
    "    \n",
    "    modfit = mod.fit(X_train, y_train)\n",
    "    test_pred = modfit.predict(X_test)\n",
    "    print('{}: Test f1 micro is {}'.format(modname, f1_score(y_test, test_pred, average='micro')))"
   ]
  },
  {
   "cell_type": "code",
   "execution_count": 80,
   "metadata": {},
   "outputs": [
    {
     "name": "stdout",
     "output_type": "stream",
     "text": [
      "              precision    recall  f1-score   support\n",
      "\n",
      "           0       0.39      0.18      0.25        50\n",
      "           1       0.46      0.30      0.37        69\n",
      "           2       0.74      0.90      0.81       231\n",
      "\n",
      "    accuracy                           0.68       350\n",
      "   macro avg       0.53      0.46      0.47       350\n",
      "weighted avg       0.63      0.68      0.64       350\n",
      "\n",
      "micro avg                              0.68\n"
     ]
    }
   ],
   "source": [
    "mod = xgb\n",
    "modfit = mod.fit(X_train, y_train)\n",
    "test_pred = modfit.predict(X_test)\n",
    "print(classification_report(y_test, test_pred))\n",
    "print('micro avg                              {}'.format(round(f1_score(y_test, test_pred, average='micro'),2)))"
   ]
  },
  {
   "cell_type": "markdown",
   "metadata": {},
   "source": [
    "### BIC 50"
   ]
  },
  {
   "cell_type": "code",
   "execution_count": 83,
   "metadata": {},
   "outputs": [],
   "source": [
    "BIC_features = ['netspeak_focus', 'money_oriented', 'workhorse', 'active', 'power_driven',\n",
    "                'health_oriented', 'adjustment', 'reward_bias', 'cheerful', 'leisure_oriented',\n",
    "                'thinking_style', 'aggressive', 'organized', 'self_assured', 'religion_oriented',\n",
    "                'cautious', 'impulsive', 'disciplined', 'type_a', 'liberal',\n",
    "                'melancholy', 'neuroticism', 'sexual_focus', 'food_focus', 'cold',\n",
    "                'friend_focus', 'agreeableness', 'generous', 'genuine', 'self_conscious',\n",
    "                'emotionally_aware', 'artistic', 'ambitious', 'adventurous', 'anxious',\n",
    "                'stressed', 'work_oriented', 'depression', 'family_oriented', 'insecure',\n",
    "                'happiness', 'conscientiousness', 'dutiful', 'persuasive', 'cooperative',\n",
    "                'intellectual', 'humble', 'assertive', 'body_focus', 'friendly']\n",
    "\n",
    "X_train = train[BIC_features]\n",
    "X_test = test[BIC_features]"
   ]
  },
  {
   "cell_type": "code",
   "execution_count": 84,
   "metadata": {},
   "outputs": [
    {
     "name": "stdout",
     "output_type": "stream",
     "text": [
      "ovo_lr: Cross validation f1 micro is 0.5491117133393556.\n",
      "ovo_lr: Test f1 micro is 0.5057142857142857\n",
      "ovo_svc: Cross validation f1 micro is 0.6165161096055405.\n",
      "ovo_svc: Test f1 micro is 0.5742857142857143\n",
      "ovo_rf: Cross validation f1 micro is 0.679373682625715.\n",
      "ovo_rf: Test f1 micro is 0.6828571428571428\n",
      "ovo_nb: Cross validation f1 micro is 0.6078891900030111.\n",
      "ovo_nb: Test f1 micro is 0.62\n",
      "ovr_lr: Cross validation f1 micro is 0.5786208973200843.\n",
      "ovr_lr: Test f1 micro is 0.5457142857142857\n",
      "ovr_svc: Cross validation f1 micro is 0.6153267088226437.\n",
      "ovr_svc: Test f1 micro is 0.6\n",
      "ovr_rf: Cross validation f1 micro is 0.6793435712134899.\n",
      "ovr_rf: Test f1 micro is 0.6742857142857143\n",
      "ovr_nb: Cross validation f1 micro is 0.6189099668774466.\n",
      "ovr_nb: Test f1 micro is 0.62\n",
      "xgb: Cross validation f1 micro is 0.6730954531767539.\n",
      "xgb: Test f1 micro is 0.6742857142857143\n"
     ]
    }
   ],
   "source": [
    "for mod, modname in zip([onevsone_lr, onevsone_svc, onevsone_rf, onevsone_nb, onevsrest_lr, onevsrest_svc, onevsrest_rf,\n",
    "                         onevsrest_nb, xgb],\n",
    "                        ['ovo_lr', 'ovo_svc', 'ovo_rf', 'ovo_nb', 'ovr_lr', 'ovr_svc', 'ovr_rf', 'ovr_nb', 'xgb']):\n",
    "    \n",
    "    score = cross_val_score(mod, X_train, y_train, cv=10, scoring='f1_micro')\n",
    "    print('{}: Cross validation f1 micro is {}.'.format(modname, score.mean()))\n",
    "    \n",
    "    modfit = mod.fit(X_train, y_train)\n",
    "    test_pred = modfit.predict(X_test)\n",
    "    print('{}: Test f1 micro is {}'.format(modname, f1_score(y_test, test_pred, average='micro')))"
   ]
  },
  {
   "cell_type": "code",
   "execution_count": 85,
   "metadata": {},
   "outputs": [
    {
     "name": "stdout",
     "output_type": "stream",
     "text": [
      "              precision    recall  f1-score   support\n",
      "\n",
      "           0       0.53      0.16      0.25        50\n",
      "           1       0.49      0.25      0.33        69\n",
      "           2       0.71      0.93      0.81       231\n",
      "\n",
      "    accuracy                           0.68       350\n",
      "   macro avg       0.58      0.44      0.46       350\n",
      "weighted avg       0.64      0.68      0.63       350\n",
      "\n",
      "micro avg                              0.68\n"
     ]
    }
   ],
   "source": [
    "mod = onevsone_rf\n",
    "modfit = mod.fit(X_train, y_train)\n",
    "test_pred = modfit.predict(X_test)\n",
    "print(classification_report(y_test, test_pred))\n",
    "print('micro avg                              {}'.format(round(f1_score(y_test, test_pred, average='micro'),2)))"
   ]
  },
  {
   "cell_type": "code",
   "execution_count": null,
   "metadata": {},
   "outputs": [],
   "source": []
  },
  {
   "cell_type": "markdown",
   "metadata": {},
   "source": [
    "### Model with Backward Feaure Selection using all 29 AIC features"
   ]
  },
  {
   "cell_type": "code",
   "execution_count": 86,
   "metadata": {},
   "outputs": [],
   "source": [
    "AIC_features = ['netspeak_focus', 'liberal', 'self_assured', 'organized', 'type_a',\n",
    "                'cheerful', 'disciplined', 'neuroticism', 'aggressive', 'adjustment',\n",
    "                'religion_oriented', 'food_focus', 'generous', 'sexual_focus', 'thinking_style',\n",
    "                'agreeableness', 'money_oriented', 'melancholy', 'workhorse', 'reward_bias',\n",
    "                'self_conscious', 'leisure_oriented', 'impulsive', 'cautious', 'active',\n",
    "                'power_driven', 'genuine', 'cold', 'health_oriented']\n",
    "\n",
    "X_train = train[AIC_features]\n",
    "X_test = test[AIC_features]"
   ]
  },
  {
   "cell_type": "code",
   "execution_count": 87,
   "metadata": {},
   "outputs": [
    {
     "name": "stdout",
     "output_type": "stream",
     "text": [
      "ovo_lr: Cross validation f1 micro is 0.5761065943992774.\n",
      "ovo_lr: Test f1 micro is 0.5542857142857143\n",
      "ovo_svc: Cross validation f1 micro is 0.6177356218006624.\n",
      "ovo_svc: Test f1 micro is 0.5714285714285714\n",
      "ovo_rf: Cross validation f1 micro is 0.682987052092743.\n",
      "ovo_rf: Test f1 micro is 0.6742857142857143\n",
      "ovo_nb: Cross validation f1 micro is 0.602905751279735.\n",
      "ovo_nb: Test f1 micro is 0.6228571428571429\n",
      "ovr_lr: Cross validation f1 micro is 0.5957994579945799.\n",
      "ovr_lr: Test f1 micro is 0.58\n",
      "ovr_svc: Cross validation f1 micro is 0.6275971093044264.\n",
      "ovr_svc: Test f1 micro is 0.5942857142857143\n",
      "ovr_rf: Cross validation f1 micro is 0.6743902439024391.\n",
      "ovr_rf: Test f1 micro is 0.68\n",
      "ovr_nb: Cross validation f1 micro is 0.6446552243300211.\n",
      "ovr_nb: Test f1 micro is 0.6257142857142857\n",
      "xgb: Cross validation f1 micro is 0.669482083709726.\n",
      "xgb: Test f1 micro is 0.6542857142857142\n"
     ]
    }
   ],
   "source": [
    "for mod, modname in zip([onevsone_lr, onevsone_svc, onevsone_rf, onevsone_nb, onevsrest_lr, onevsrest_svc, onevsrest_rf,\n",
    "                         onevsrest_nb, xgb],\n",
    "                        ['ovo_lr', 'ovo_svc', 'ovo_rf', 'ovo_nb', 'ovr_lr', 'ovr_svc', 'ovr_rf', 'ovr_nb', 'xgb']):\n",
    "    \n",
    "    score = cross_val_score(mod, X_train, y_train, cv=10, scoring='f1_micro')\n",
    "    print('{}: Cross validation f1 micro is {}.'.format(modname, score.mean()))\n",
    "    \n",
    "    modfit = mod.fit(X_train, y_train)\n",
    "    test_pred = modfit.predict(X_test)\n",
    "    print('{}: Test f1 micro is {}'.format(modname, f1_score(y_test, test_pred, average='micro')))"
   ]
  },
  {
   "cell_type": "code",
   "execution_count": 88,
   "metadata": {},
   "outputs": [
    {
     "name": "stdout",
     "output_type": "stream",
     "text": [
      "              precision    recall  f1-score   support\n",
      "\n",
      "           0       0.45      0.10      0.16        50\n",
      "           1       0.47      0.26      0.34        69\n",
      "           2       0.71      0.93      0.81       231\n",
      "\n",
      "    accuracy                           0.68       350\n",
      "   macro avg       0.55      0.43      0.44       350\n",
      "weighted avg       0.63      0.68      0.62       350\n",
      "\n",
      "micro avg                              0.68\n"
     ]
    }
   ],
   "source": [
    "mod = onevsrest_rf\n",
    "modfit = mod.fit(X_train, y_train)\n",
    "test_pred = modfit.predict(X_test)\n",
    "print(classification_report(y_test, test_pred))\n",
    "print('micro avg                              {}'.format(round(f1_score(y_test, test_pred, average='micro'),2)))"
   ]
  },
  {
   "cell_type": "markdown",
   "metadata": {},
   "source": [
    "### AIC 30"
   ]
  },
  {
   "cell_type": "code",
   "execution_count": 89,
   "metadata": {},
   "outputs": [],
   "source": [
    "AIC_features = ['netspeak_focus', 'liberal', 'self_assured', 'organized', 'type_a',\n",
    "                'cheerful', 'disciplined', 'neuroticism', 'aggressive', 'adjustment',\n",
    "                'religion_oriented', 'food_focus', 'generous', 'sexual_focus', 'thinking_style',\n",
    "                'agreeableness', 'money_oriented', 'melancholy', 'workhorse', 'reward_bias',\n",
    "                'self_conscious', 'leisure_oriented', 'impulsive', 'cautious', 'active',\n",
    "                'power_driven', 'genuine', 'cold', 'health_oriented', 'friend_focus']\n",
    "\n",
    "X_train = train[AIC_features]\n",
    "X_test = test[AIC_features]"
   ]
  },
  {
   "cell_type": "code",
   "execution_count": 90,
   "metadata": {},
   "outputs": [
    {
     "name": "stdout",
     "output_type": "stream",
     "text": [
      "ovo_lr: Cross validation f1 micro is 0.5748870822041554.\n",
      "ovo_lr: Test f1 micro is 0.5428571428571428\n",
      "ovo_svc: Cross validation f1 micro is 0.6140770852152967.\n",
      "ovo_svc: Test f1 micro is 0.58\n",
      "ovo_rf: Cross validation f1 micro is 0.6879253236976813.\n",
      "ovo_rf: Test f1 micro is 0.6828571428571428\n",
      "ovo_nb: Cross validation f1 micro is 0.6090484793736827.\n",
      "ovo_nb: Test f1 micro is 0.6257142857142857\n",
      "ovr_lr: Cross validation f1 micro is 0.5896567299006323.\n",
      "ovr_lr: Test f1 micro is 0.5828571428571429\n",
      "ovr_svc: Cross validation f1 micro is 0.6349744052996085.\n",
      "ovr_svc: Test f1 micro is 0.6057142857142858\n",
      "ovr_rf: Cross validation f1 micro is 0.6854862993074375.\n",
      "ovr_rf: Test f1 micro is 0.6685714285714286\n",
      "ovr_nb: Cross validation f1 micro is 0.642186088527552.\n",
      "ovr_nb: Test f1 micro is 0.6257142857142857\n",
      "xgb: Cross validation f1 micro is 0.6682625715146041.\n",
      "xgb: Test f1 micro is 0.6542857142857142\n"
     ]
    }
   ],
   "source": [
    "for mod, modname in zip([onevsone_lr, onevsone_svc, onevsone_rf, onevsone_nb, onevsrest_lr, onevsrest_svc, onevsrest_rf,\n",
    "                         onevsrest_nb, xgb],\n",
    "                        ['ovo_lr', 'ovo_svc', 'ovo_rf', 'ovo_nb', 'ovr_lr', 'ovr_svc', 'ovr_rf', 'ovr_nb', 'xgb']):\n",
    "    \n",
    "    score = cross_val_score(mod, X_train, y_train, cv=10, scoring='f1_micro')\n",
    "    print('{}: Cross validation f1 micro is {}.'.format(modname, score.mean()))\n",
    "    \n",
    "    modfit = mod.fit(X_train, y_train)\n",
    "    test_pred = modfit.predict(X_test)\n",
    "    print('{}: Test f1 micro is {}'.format(modname, f1_score(y_test, test_pred, average='micro')))"
   ]
  },
  {
   "cell_type": "code",
   "execution_count": 91,
   "metadata": {},
   "outputs": [
    {
     "name": "stdout",
     "output_type": "stream",
     "text": [
      "              precision    recall  f1-score   support\n",
      "\n",
      "           0       0.38      0.10      0.16        50\n",
      "           1       0.49      0.25      0.33        69\n",
      "           2       0.72      0.94      0.81       231\n",
      "\n",
      "    accuracy                           0.68       350\n",
      "   macro avg       0.53      0.43      0.43       350\n",
      "weighted avg       0.62      0.68      0.62       350\n",
      "\n",
      "micro avg                              0.68\n"
     ]
    }
   ],
   "source": [
    "mod = onevsone_rf\n",
    "modfit = mod.fit(X_train, y_train)\n",
    "test_pred = modfit.predict(X_test)\n",
    "print(classification_report(y_test, test_pred))\n",
    "print('micro avg                              {}'.format(round(f1_score(y_test, test_pred, average='micro'),2)))"
   ]
  },
  {
   "cell_type": "markdown",
   "metadata": {},
   "source": [
    "### AIC 35"
   ]
  },
  {
   "cell_type": "code",
   "execution_count": 92,
   "metadata": {},
   "outputs": [],
   "source": [
    "AIC_features = ['netspeak_focus', 'liberal', 'self_assured', 'organized', 'type_a',\n",
    "                'cheerful', 'disciplined', 'neuroticism', 'aggressive', 'adjustment',\n",
    "                'religion_oriented', 'food_focus', 'generous', 'sexual_focus', 'thinking_style',\n",
    "                'agreeableness', 'money_oriented', 'melancholy', 'workhorse', 'reward_bias',\n",
    "                'self_conscious', 'leisure_oriented', 'impulsive', 'cautious', 'active',\n",
    "                'power_driven', 'genuine', 'cold', 'health_oriented', 'friend_focus',\n",
    "                'emotionally_aware', 'artistic', 'ambitious', 'adventurous', 'anxious']\n",
    "\n",
    "X_train = train[AIC_features]\n",
    "X_test = test[AIC_features]"
   ]
  },
  {
   "cell_type": "code",
   "execution_count": 93,
   "metadata": {},
   "outputs": [
    {
     "name": "stdout",
     "output_type": "stream",
     "text": [
      "ovo_lr: Cross validation f1 micro is 0.5845679012345679.\n",
      "ovo_lr: Test f1 micro is 0.54\n",
      "ovo_svc: Cross validation f1 micro is 0.6152815417043059.\n",
      "ovo_svc: Test f1 micro is 0.5828571428571429\n",
      "ovo_rf: Cross validation f1 micro is 0.6744354110207768.\n",
      "ovo_rf: Test f1 micro is 0.66\n",
      "ovo_nb: Cross validation f1 micro is 0.6017163504968382.\n",
      "ovo_nb: Test f1 micro is 0.6085714285714285\n",
      "ovr_lr: Cross validation f1 micro is 0.5957392351701295.\n",
      "ovr_lr: Test f1 micro is 0.56\n",
      "ovr_svc: Cross validation f1 micro is 0.6373983739837399.\n",
      "ovr_svc: Test f1 micro is 0.6\n",
      "ovr_rf: Cross validation f1 micro is 0.6732008431195422.\n",
      "ovr_rf: Test f1 micro is 0.6771428571428572\n",
      "ovr_nb: Cross validation f1 micro is 0.6299457994579947.\n",
      "ovr_nb: Test f1 micro is 0.62\n",
      "xgb: Cross validation f1 micro is 0.6682174043962661.\n",
      "xgb: Test f1 micro is 0.6685714285714286\n"
     ]
    }
   ],
   "source": [
    "for mod, modname in zip([onevsone_lr, onevsone_svc, onevsone_rf, onevsone_nb, onevsrest_lr, onevsrest_svc, onevsrest_rf,\n",
    "                         onevsrest_nb, xgb],\n",
    "                        ['ovo_lr', 'ovo_svc', 'ovo_rf', 'ovo_nb', 'ovr_lr', 'ovr_svc', 'ovr_rf', 'ovr_nb', 'xgb']):\n",
    "    \n",
    "    score = cross_val_score(mod, X_train, y_train, cv=10, scoring='f1_micro')\n",
    "    print('{}: Cross validation f1 micro is {}.'.format(modname, score.mean()))\n",
    "    \n",
    "    modfit = mod.fit(X_train, y_train)\n",
    "    test_pred = modfit.predict(X_test)\n",
    "    print('{}: Test f1 micro is {}'.format(modname, f1_score(y_test, test_pred, average='micro')))"
   ]
  },
  {
   "cell_type": "code",
   "execution_count": 94,
   "metadata": {},
   "outputs": [
    {
     "name": "stdout",
     "output_type": "stream",
     "text": [
      "              precision    recall  f1-score   support\n",
      "\n",
      "           0       0.36      0.08      0.13        50\n",
      "           1       0.48      0.20      0.29        69\n",
      "           2       0.71      0.95      0.81       231\n",
      "\n",
      "    accuracy                           0.68       350\n",
      "   macro avg       0.52      0.41      0.41       350\n",
      "weighted avg       0.61      0.68      0.61       350\n",
      "\n",
      "micro avg                              0.68\n"
     ]
    }
   ],
   "source": [
    "mod = onevsrest_rf\n",
    "modfit = mod.fit(X_train, y_train)\n",
    "test_pred = modfit.predict(X_test)\n",
    "print(classification_report(y_test, test_pred))\n",
    "print('micro avg                              {}'.format(round(f1_score(y_test, test_pred, average='micro'),2)))"
   ]
  },
  {
   "cell_type": "markdown",
   "metadata": {},
   "source": [
    "#### Odds Ratio for AIC 35"
   ]
  },
  {
   "cell_type": "code",
   "execution_count": null,
   "metadata": {},
   "outputs": [],
   "source": [
    "# Coefficients from R\n",
    "#          cheerful  disciplined neuroticism  aggressive  adjustment\n",
    "#    1  0.006926225  0.009932597 -0.04574989 -0.02293918 -0.06273459\n",
    "#    2 -0.006857462 -0.004668864 -0.04206451 -0.03191554 -0.01608389\n",
    "#      religion_oriented  food_focus     generous sexual_focus thinking_style\n",
    "#    1      -0.004750237 0.005284733 -0.005943655   0.01673024    -0.00374206\n",
    "#    2       0.006412098 0.007953333  0.019830291   0.01599192     0.01466021\n",
    "#      agreeableness money_oriented melancholy    workhorse  reward_bias\n",
    "#    1   0.001250636     0.01451598 0.02516431 -0.007254736 -0.007573091\n",
    "#    2  -0.021897528     0.00103292 0.02203398 -0.031393984  0.007016677\n",
    "#      self_conscious leisure_oriented   impulsive    cautious       active\n",
    "#    1     0.01828672     -0.009135593 0.028912001 0.013718917 -0.014244353\n",
    "#    2     0.01965547     -0.010970023 0.002486877 0.001679266  0.003941147\n",
    "#      power_driven    genuine        cold health_oriented friend_focus\n",
    "#    1  -0.02798047 0.01338628 0.017041520     0.015940930  0.004454851\n",
    "#    2  -0.01633463 0.02384384 0.009642887     0.008663801  0.009402999\n",
    "#      emotionally_aware    artistic  ambitious  adventurous      anxious\n",
    "#    1      -0.011733478 0.009289661 0.01134012 -0.005573153  0.002557516\n",
    "#    2      -0.007777114 0.012479756 0.01476101 -0.014021436 -0.007567554"
   ]
  },
  {
   "cell_type": "code",
   "execution_count": 100,
   "metadata": {},
   "outputs": [],
   "source": [
    "coefficients_pain_vs_none = [0.006926225, 0.009932597, -0.04574989, -0.02293918, -0.06273459,\n",
    "                            -0.004750237, 0.005284733, -0.005943655, 0.01673024, -0.00374206,\n",
    "                            0.001250636, 0.01451598, 0.02516431, -0.007254736, -0.007573091,\n",
    "                            0.01828672, -0.009135593, 0.028912001, 0.013718917, -0.014244353,\n",
    "                            -0.02798047, 0.01338628, 0.017041520, 0.015940930, 0.004454851,\n",
    "                            -0.011733478, 0.009289661, 0.01134012, -0.005573153, 0.002557516]\n",
    "\n",
    "coefficients_PleasureAddiction_vs_none = [-0.006857462, -0.004668864, -0.04206451, -0.03191554, -0.01608389,\n",
    "                                         0.006412098, 0.007953333, 0.019830291, 0.01599192, 0.01466021,\n",
    "                                         -0.021897528, 0.00103292, 0.02203398, -0.031393984, 0.007016677,\n",
    "                                         0.01965547, -0.010970023, 0.002486877, 0.001679266, 0.003941147,\n",
    "                                         -0.01633463, 0.02384384, 0.009642887, 0.008663801, 0.009402999,\n",
    "                                         -0.007777114, 0.012479756, 0.01476101, -0.014021436, -0.007567554]\n",
    "\n",
    "Feature_nm = ['cheerful', 'disciplined', 'neuroticism',  'aggressive',  'adjustment',\n",
    "             'religion_oriented', 'food_focus', 'generous', 'sexual_focus', 'thinking_style',\n",
    "             'agreeableness', 'money_oriented', 'melancholy', 'workhorse', 'reward_bias',\n",
    "             'self_conscious', 'leisure_oriented', 'impulsive', 'cautious', 'active',\n",
    "             'power_driven', 'genuine', 'cold', 'health_oriented', 'friend_focus',\n",
    "             'emotionally_aware', 'artistic', 'ambitious', 'adventurous', 'anxious']"
   ]
  },
  {
   "cell_type": "code",
   "execution_count": 127,
   "metadata": {},
   "outputs": [
    {
     "name": "stdout",
     "output_type": "stream",
     "text": [
      "Odds Ratio\n",
      "CHEERFUL\n",
      "ref: None\n",
      "     Pain 1.007\n",
      "     Pleasure & Addiction 0.993\n",
      "DISCIPLINED\n",
      "ref: None\n",
      "     Pain 1.01\n",
      "     Pleasure & Addiction 0.995\n",
      "NEUROTICISM\n",
      "ref: None\n",
      "     Pain 0.955\n",
      "     Pleasure & Addiction 0.959\n",
      "AGGRESSIVE\n",
      "ref: None\n",
      "     Pain 0.977\n",
      "     Pleasure & Addiction 0.969\n",
      "ADJUSTMENT\n",
      "ref: None\n",
      "     Pain 0.939\n",
      "     Pleasure & Addiction 0.984\n",
      "RELIGION_ORIENTED\n",
      "ref: None\n",
      "     Pain 0.995\n",
      "     Pleasure & Addiction 1.006\n",
      "FOOD_FOCUS\n",
      "ref: None\n",
      "     Pain 1.005\n",
      "     Pleasure & Addiction 1.008\n",
      "GENEROUS\n",
      "ref: None\n",
      "     Pain 0.994\n",
      "     Pleasure & Addiction 1.02\n",
      "SEXUAL_FOCUS\n",
      "ref: None\n",
      "     Pain 1.017\n",
      "     Pleasure & Addiction 1.016\n",
      "THINKING_STYLE\n",
      "ref: None\n",
      "     Pain 0.996\n",
      "     Pleasure & Addiction 1.015\n",
      "AGREEABLENESS\n",
      "ref: None\n",
      "     Pain 1.001\n",
      "     Pleasure & Addiction 0.978\n",
      "MONEY_ORIENTED\n",
      "ref: None\n",
      "     Pain 1.015\n",
      "     Pleasure & Addiction 1.001\n",
      "MELANCHOLY\n",
      "ref: None\n",
      "     Pain 1.025\n",
      "     Pleasure & Addiction 1.022\n",
      "WORKHORSE\n",
      "ref: None\n",
      "     Pain 0.993\n",
      "     Pleasure & Addiction 0.969\n",
      "REWARD_BIAS\n",
      "ref: None\n",
      "     Pain 0.992\n",
      "     Pleasure & Addiction 1.007\n",
      "SELF_CONSCIOUS\n",
      "ref: None\n",
      "     Pain 1.018\n",
      "     Pleasure & Addiction 1.02\n",
      "LEISURE_ORIENTED\n",
      "ref: None\n",
      "     Pain 0.991\n",
      "     Pleasure & Addiction 0.989\n",
      "IMPULSIVE\n",
      "ref: None\n",
      "     Pain 1.029\n",
      "     Pleasure & Addiction 1.002\n",
      "CAUTIOUS\n",
      "ref: None\n",
      "     Pain 1.014\n",
      "     Pleasure & Addiction 1.002\n",
      "ACTIVE\n",
      "ref: None\n",
      "     Pain 0.986\n",
      "     Pleasure & Addiction 1.004\n",
      "POWER_DRIVEN\n",
      "ref: None\n",
      "     Pain 0.972\n",
      "     Pleasure & Addiction 0.984\n",
      "GENUINE\n",
      "ref: None\n",
      "     Pain 1.013\n",
      "     Pleasure & Addiction 1.024\n",
      "COLD\n",
      "ref: None\n",
      "     Pain 1.017\n",
      "     Pleasure & Addiction 1.01\n",
      "HEALTH_ORIENTED\n",
      "ref: None\n",
      "     Pain 1.016\n",
      "     Pleasure & Addiction 1.009\n",
      "FRIEND_FOCUS\n",
      "ref: None\n",
      "     Pain 1.004\n",
      "     Pleasure & Addiction 1.009\n",
      "EMOTIONALLY_AWARE\n",
      "ref: None\n",
      "     Pain 0.988\n",
      "     Pleasure & Addiction 0.992\n",
      "ARTISTIC\n",
      "ref: None\n",
      "     Pain 1.009\n",
      "     Pleasure & Addiction 1.013\n",
      "AMBITIOUS\n",
      "ref: None\n",
      "     Pain 1.011\n",
      "     Pleasure & Addiction 1.015\n",
      "ADVENTUROUS\n",
      "ref: None\n",
      "     Pain 0.994\n",
      "     Pleasure & Addiction 0.986\n",
      "ANXIOUS\n",
      "ref: None\n",
      "     Pain 1.003\n",
      "     Pleasure & Addiction 0.992\n"
     ]
    }
   ],
   "source": [
    "print('Odds Ratio')\n",
    "for coef_pain, coef_pleasreaddiction, feature_name in zip(coefficients_pain_vs_none,\n",
    "                                                          coefficients_PleasureAddiction_vs_none,\n",
    "                                                          Feature_nm):\n",
    "    print(feature_name.upper())\n",
    "    print('ref: None')\n",
    "    print('     Pain {}'.format(round(math.exp(coef_pain), 3)))\n",
    "    print('     Pleasure & Addiction {}'.format(round(math.exp(coef_pleasreaddiction), 3)))"
   ]
  },
  {
   "cell_type": "code",
   "execution_count": null,
   "metadata": {},
   "outputs": [],
   "source": []
  },
  {
   "cell_type": "markdown",
   "metadata": {},
   "source": [
    "### AIC 40"
   ]
  },
  {
   "cell_type": "code",
   "execution_count": 95,
   "metadata": {},
   "outputs": [],
   "source": [
    "AIC_features = ['netspeak_focus', 'liberal', 'self_assured', 'organized', 'type_a',\n",
    "                'cheerful', 'disciplined', 'neuroticism', 'aggressive', 'adjustment',\n",
    "                'religion_oriented', 'food_focus', 'generous', 'sexual_focus', 'thinking_style',\n",
    "                'agreeableness', 'money_oriented', 'melancholy', 'workhorse', 'reward_bias',\n",
    "                'self_conscious', 'leisure_oriented', 'impulsive', 'cautious', 'active',\n",
    "                'power_driven', 'genuine', 'cold', 'health_oriented', 'friend_focus',\n",
    "                'emotionally_aware', 'artistic', 'ambitious', 'adventurous', 'anxious',\n",
    "                'stressed', 'work_oriented', 'depression', 'family_oriented', 'insecure']\n",
    "\n",
    "X_train = train[AIC_features]\n",
    "X_test = test[AIC_features]"
   ]
  },
  {
   "cell_type": "code",
   "execution_count": 96,
   "metadata": {},
   "outputs": [
    {
     "name": "stdout",
     "output_type": "stream",
     "text": [
      "ovo_lr: Cross validation f1 micro is 0.5810147545919904.\n",
      "ovo_lr: Test f1 micro is 0.52\n",
      "ovo_svc: Cross validation f1 micro is 0.6128876844323999.\n",
      "ovo_svc: Test f1 micro is 0.5914285714285714\n",
      "ovo_rf: Cross validation f1 micro is 0.6855164107196627.\n",
      "ovo_rf: Test f1 micro is 0.6742857142857143\n",
      "ovo_nb: Cross validation f1 micro is 0.578319783197832.\n",
      "ovo_nb: Test f1 micro is 0.62\n",
      "ovr_lr: Cross validation f1 micro is 0.5933303221921108.\n",
      "ovr_lr: Test f1 micro is 0.5714285714285714\n",
      "ovr_svc: Cross validation f1 micro is 0.62387834989461.\n",
      "ovr_svc: Test f1 micro is 0.6171428571428571\n",
      "ovr_rf: Cross validation f1 micro is 0.6719361638060825.\n",
      "ovr_rf: Test f1 micro is 0.68\n",
      "ovr_nb: Cross validation f1 micro is 0.6311803673592292.\n",
      "ovr_nb: Test f1 micro is 0.6228571428571429\n",
      "xgb: Cross validation f1 micro is 0.6755947003914483.\n",
      "xgb: Test f1 micro is 0.6628571428571428\n"
     ]
    }
   ],
   "source": [
    "for mod, modname in zip([onevsone_lr, onevsone_svc, onevsone_rf, onevsone_nb, onevsrest_lr, onevsrest_svc, onevsrest_rf,\n",
    "                         onevsrest_nb, xgb],\n",
    "                        ['ovo_lr', 'ovo_svc', 'ovo_rf', 'ovo_nb', 'ovr_lr', 'ovr_svc', 'ovr_rf', 'ovr_nb', 'xgb']):\n",
    "    \n",
    "    score = cross_val_score(mod, X_train, y_train, cv=10, scoring='f1_micro')\n",
    "    print('{}: Cross validation f1 micro is {}.'.format(modname, score.mean()))\n",
    "    \n",
    "    modfit = mod.fit(X_train, y_train)\n",
    "    test_pred = modfit.predict(X_test)\n",
    "    print('{}: Test f1 micro is {}'.format(modname, f1_score(y_test, test_pred, average='micro')))"
   ]
  },
  {
   "cell_type": "code",
   "execution_count": 97,
   "metadata": {},
   "outputs": [
    {
     "name": "stdout",
     "output_type": "stream",
     "text": [
      "              precision    recall  f1-score   support\n",
      "\n",
      "           0       0.50      0.10      0.17        50\n",
      "           1       0.53      0.23      0.32        69\n",
      "           2       0.70      0.94      0.80       231\n",
      "\n",
      "    accuracy                           0.68       350\n",
      "   macro avg       0.58      0.42      0.43       350\n",
      "weighted avg       0.64      0.68      0.62       350\n",
      "\n",
      "micro avg                              0.68\n"
     ]
    }
   ],
   "source": [
    "mod = onevsrest_rf\n",
    "modfit = mod.fit(X_train, y_train)\n",
    "test_pred = modfit.predict(X_test)\n",
    "print(classification_report(y_test, test_pred))\n",
    "print('micro avg                              {}'.format(round(f1_score(y_test, test_pred, average='micro'),2)))"
   ]
  },
  {
   "cell_type": "markdown",
   "metadata": {},
   "source": [
    "### AIC 45"
   ]
  },
  {
   "cell_type": "code",
   "execution_count": 98,
   "metadata": {},
   "outputs": [],
   "source": [
    "AIC_features = ['netspeak_focus', 'liberal', 'self_assured', 'organized', 'type_a',\n",
    "                'cheerful', 'disciplined', 'neuroticism', 'aggressive', 'adjustment',\n",
    "                'religion_oriented', 'food_focus', 'generous', 'sexual_focus', 'thinking_style',\n",
    "                'agreeableness', 'money_oriented', 'melancholy', 'workhorse', 'reward_bias',\n",
    "                'self_conscious', 'leisure_oriented', 'impulsive', 'cautious', 'active',\n",
    "                'power_driven', 'genuine', 'cold', 'health_oriented', 'friend_focus',\n",
    "                'emotionally_aware', 'artistic', 'ambitious', 'adventurous', 'anxious',\n",
    "                'stressed', 'work_oriented', 'depression', 'family_oriented', 'insecure',\n",
    "                'happiness', 'conscientiousness', 'dutiful', 'persuasive', 'cooperative']\n",
    "\n",
    "X_train = train[AIC_features]\n",
    "X_test = test[AIC_features]"
   ]
  },
  {
   "cell_type": "code",
   "execution_count": 99,
   "metadata": {},
   "outputs": [
    {
     "name": "stdout",
     "output_type": "stream",
     "text": [
      "ovo_lr: Cross validation f1 micro is 0.5625715146040349.\n",
      "ovo_lr: Test f1 micro is 0.5114285714285715\n",
      "ovo_svc: Cross validation f1 micro is 0.6177807889190003.\n",
      "ovo_svc: Test f1 micro is 0.5914285714285714\n",
      "ovo_rf: Cross validation f1 micro is 0.6768443239987955.\n",
      "ovo_rf: Test f1 micro is 0.6714285714285714\n",
      "ovo_nb: Cross validation f1 micro is 0.6090785907859079.\n",
      "ovo_nb: Test f1 micro is 0.6285714285714286\n",
      "ovr_lr: Cross validation f1 micro is 0.5749322493224932.\n",
      "ovr_lr: Test f1 micro is 0.5514285714285714\n",
      "ovr_svc: Cross validation f1 micro is 0.6177356218006624.\n",
      "ovr_svc: Test f1 micro is 0.6085714285714285\n",
      "ovr_rf: Cross validation f1 micro is 0.6744052996085516.\n",
      "ovr_rf: Test f1 micro is 0.6685714285714286\n",
      "ovr_nb: Cross validation f1 micro is 0.6238331827762723.\n",
      "ovr_nb: Test f1 micro is 0.6228571428571429\n",
      "xgb: Cross validation f1 micro is 0.6669978922011441.\n",
      "xgb: Test f1 micro is 0.6828571428571428\n"
     ]
    }
   ],
   "source": [
    "for mod, modname in zip([onevsone_lr, onevsone_svc, onevsone_rf, onevsone_nb, onevsrest_lr, onevsrest_svc, onevsrest_rf,\n",
    "                         onevsrest_nb, xgb],\n",
    "                        ['ovo_lr', 'ovo_svc', 'ovo_rf', 'ovo_nb', 'ovr_lr', 'ovr_svc', 'ovr_rf', 'ovr_nb', 'xgb']):\n",
    "    \n",
    "    score = cross_val_score(mod, X_train, y_train, cv=10, scoring='f1_micro')\n",
    "    print('{}: Cross validation f1 micro is {}.'.format(modname, score.mean()))\n",
    "    \n",
    "    modfit = mod.fit(X_train, y_train)\n",
    "    test_pred = modfit.predict(X_test)\n",
    "    print('{}: Test f1 micro is {}'.format(modname, f1_score(y_test, test_pred, average='micro')))"
   ]
  },
  {
   "cell_type": "code",
   "execution_count": 100,
   "metadata": {},
   "outputs": [
    {
     "name": "stdout",
     "output_type": "stream",
     "text": [
      "              precision    recall  f1-score   support\n",
      "\n",
      "           0       0.39      0.18      0.25        50\n",
      "           1       0.47      0.32      0.38        69\n",
      "           2       0.74      0.90      0.81       231\n",
      "\n",
      "    accuracy                           0.68       350\n",
      "   macro avg       0.53      0.47      0.48       350\n",
      "weighted avg       0.64      0.68      0.65       350\n",
      "\n",
      "micro avg                              0.68\n"
     ]
    }
   ],
   "source": [
    "mod = xgb\n",
    "modfit = mod.fit(X_train, y_train)\n",
    "test_pred = modfit.predict(X_test)\n",
    "print(classification_report(y_test, test_pred))\n",
    "print('micro avg                              {}'.format(round(f1_score(y_test, test_pred, average='micro'),2)))"
   ]
  },
  {
   "cell_type": "markdown",
   "metadata": {},
   "source": [
    "### AIC 50"
   ]
  },
  {
   "cell_type": "code",
   "execution_count": 101,
   "metadata": {},
   "outputs": [],
   "source": [
    "AIC_features = ['netspeak_focus', 'liberal', 'self_assured', 'organized', 'type_a',\n",
    "                'cheerful', 'disciplined', 'neuroticism', 'aggressive', 'adjustment',\n",
    "                'religion_oriented', 'food_focus', 'generous', 'sexual_focus', 'thinking_style',\n",
    "                'agreeableness', 'money_oriented', 'melancholy', 'workhorse', 'reward_bias',\n",
    "                'self_conscious', 'leisure_oriented', 'impulsive', 'cautious', 'active',\n",
    "                'power_driven', 'genuine', 'cold', 'health_oriented', 'friend_focus',\n",
    "                'emotionally_aware', 'artistic', 'ambitious', 'adventurous', 'anxious',\n",
    "                'stressed', 'work_oriented', 'depression', 'family_oriented', 'insecure',\n",
    "                'happiness', 'conscientiousness', 'dutiful', 'persuasive', 'cooperative',\n",
    "                'intellectual', 'humble', 'assertive', 'body_focus', 'friendly']\n",
    "\n",
    "X_train = train[AIC_features]\n",
    "X_test = test[AIC_features]"
   ]
  },
  {
   "cell_type": "code",
   "execution_count": 102,
   "metadata": {},
   "outputs": [
    {
     "name": "stdout",
     "output_type": "stream",
     "text": [
      "ovo_lr: Cross validation f1 micro is 0.5491117133393556.\n",
      "ovo_lr: Test f1 micro is 0.5057142857142857\n",
      "ovo_svc: Cross validation f1 micro is 0.6165161096055405.\n",
      "ovo_svc: Test f1 micro is 0.5742857142857143\n",
      "ovo_rf: Cross validation f1 micro is 0.6830322192110809.\n",
      "ovo_rf: Test f1 micro is 0.68\n",
      "ovo_nb: Cross validation f1 micro is 0.6078891900030111.\n",
      "ovo_nb: Test f1 micro is 0.62\n",
      "ovr_lr: Cross validation f1 micro is 0.5786208973200843.\n",
      "ovr_lr: Test f1 micro is 0.5457142857142857\n",
      "ovr_svc: Cross validation f1 micro is 0.6153267088226437.\n",
      "ovr_svc: Test f1 micro is 0.6\n",
      "ovr_rf: Cross validation f1 micro is 0.6781240590183679.\n",
      "ovr_rf: Test f1 micro is 0.6685714285714286\n",
      "ovr_nb: Cross validation f1 micro is 0.6189099668774466.\n",
      "ovr_nb: Test f1 micro is 0.62\n",
      "xgb: Cross validation f1 micro is 0.6743149653718759.\n",
      "xgb: Test f1 micro is 0.6742857142857143\n"
     ]
    }
   ],
   "source": [
    "for mod, modname in zip([onevsone_lr, onevsone_svc, onevsone_rf, onevsone_nb, onevsrest_lr, onevsrest_svc, onevsrest_rf,\n",
    "                         onevsrest_nb, xgb],\n",
    "                        ['ovo_lr', 'ovo_svc', 'ovo_rf', 'ovo_nb', 'ovr_lr', 'ovr_svc', 'ovr_rf', 'ovr_nb', 'xgb']):\n",
    "    \n",
    "    score = cross_val_score(mod, X_train, y_train, cv=10, scoring='f1_micro')\n",
    "    print('{}: Cross validation f1 micro is {}.'.format(modname, score.mean()))\n",
    "    \n",
    "    modfit = mod.fit(X_train, y_train)\n",
    "    test_pred = modfit.predict(X_test)\n",
    "    print('{}: Test f1 micro is {}'.format(modname, f1_score(y_test, test_pred, average='micro')))"
   ]
  },
  {
   "cell_type": "code",
   "execution_count": 103,
   "metadata": {},
   "outputs": [
    {
     "name": "stdout",
     "output_type": "stream",
     "text": [
      "              precision    recall  f1-score   support\n",
      "\n",
      "           0       0.50      0.16      0.24        50\n",
      "           1       0.45      0.22      0.29        69\n",
      "           2       0.71      0.93      0.81       231\n",
      "\n",
      "    accuracy                           0.68       350\n",
      "   macro avg       0.56      0.44      0.45       350\n",
      "weighted avg       0.63      0.68      0.63       350\n",
      "\n",
      "micro avg                              0.68\n"
     ]
    }
   ],
   "source": [
    "mod = onevsone_rf\n",
    "modfit = mod.fit(X_train, y_train)\n",
    "test_pred = modfit.predict(X_test)\n",
    "print(classification_report(y_test, test_pred))\n",
    "print('micro avg                              {}'.format(round(f1_score(y_test, test_pred, average='micro'),2)))"
   ]
  },
  {
   "cell_type": "code",
   "execution_count": null,
   "metadata": {},
   "outputs": [],
   "source": []
  },
  {
   "cell_type": "code",
   "execution_count": null,
   "metadata": {},
   "outputs": [],
   "source": []
  },
  {
   "cell_type": "markdown",
   "metadata": {},
   "source": [
    "### F Test at p <= 0.01 Cutoff"
   ]
  },
  {
   "cell_type": "code",
   "execution_count": 104,
   "metadata": {},
   "outputs": [],
   "source": [
    "features = ['netspeak_focus', 'cheerful', 'cooperative', 'aggressive', 'religion_oriented',\n",
    "            'depression', 'ambitious', 'self_conscious', 'active', 'power_driven',\n",
    "            'genuine', 'anxious', 'health_oriented', 'work_oriented']\n",
    "\n",
    "X_train = train[features]\n",
    "X_test = test[features]"
   ]
  },
  {
   "cell_type": "code",
   "execution_count": 105,
   "metadata": {},
   "outputs": [
    {
     "name": "stdout",
     "output_type": "stream",
     "text": [
      "ovo_lr: Cross validation f1 micro is 0.5858325805480277.\n",
      "ovo_lr: Test f1 micro is 0.5371428571428571\n",
      "ovo_svc: Cross validation f1 micro is 0.579735019572418.\n",
      "ovo_svc: Test f1 micro is 0.5228571428571429\n",
      "ovo_rf: Cross validation f1 micro is 0.6842667871123156.\n",
      "ovo_rf: Test f1 micro is 0.6542857142857142\n",
      "ovo_nb: Cross validation f1 micro is 0.6214694369165914.\n",
      "ovo_nb: Test f1 micro is 0.6314285714285715\n",
      "ovr_lr: Cross validation f1 micro is 0.5895061728395061.\n",
      "ovr_lr: Test f1 micro is 0.5457142857142857\n",
      "ovr_svc: Cross validation f1 micro is 0.5931797651309847.\n",
      "ovr_svc: Test f1 micro is 0.58\n",
      "ovr_rf: Cross validation f1 micro is 0.6768894911171335.\n",
      "ovr_rf: Test f1 micro is 0.6685714285714286\n",
      "ovr_nb: Cross validation f1 micro is 0.6386329418849744.\n",
      "ovr_nb: Test f1 micro is 0.64\n",
      "xgb: Cross validation f1 micro is 0.6596055404998495.\n",
      "xgb: Test f1 micro is 0.6428571428571429\n"
     ]
    }
   ],
   "source": [
    "for mod, modname in zip([onevsone_lr, onevsone_svc, onevsone_rf, onevsone_nb, onevsrest_lr, onevsrest_svc, onevsrest_rf,\n",
    "                         onevsrest_nb, xgb],\n",
    "                        ['ovo_lr', 'ovo_svc', 'ovo_rf', 'ovo_nb', 'ovr_lr', 'ovr_svc', 'ovr_rf', 'ovr_nb', 'xgb']):\n",
    "    \n",
    "    score = cross_val_score(mod, X_train, y_train, cv=10, scoring='f1_micro')\n",
    "    print('{}: Cross validation f1 micro is {}.'.format(modname, score.mean()))\n",
    "    \n",
    "    modfit = mod.fit(X_train, y_train)\n",
    "    test_pred = modfit.predict(X_test)\n",
    "    print('{}: Test f1 micro is {}'.format(modname, f1_score(y_test, test_pred, average='micro')))"
   ]
  },
  {
   "cell_type": "code",
   "execution_count": 106,
   "metadata": {},
   "outputs": [
    {
     "name": "stdout",
     "output_type": "stream",
     "text": [
      "              precision    recall  f1-score   support\n",
      "\n",
      "           0       0.57      0.08      0.14        50\n",
      "           1       0.41      0.16      0.23        69\n",
      "           2       0.69      0.95      0.80       231\n",
      "\n",
      "    accuracy                           0.67       350\n",
      "   macro avg       0.56      0.40      0.39       350\n",
      "weighted avg       0.62      0.67      0.59       350\n",
      "\n",
      "micro avg                              0.67\n"
     ]
    }
   ],
   "source": [
    "mod = onevsrest_rf\n",
    "modfit = mod.fit(X_train, y_train)\n",
    "test_pred = modfit.predict(X_test)\n",
    "print(classification_report(y_test, test_pred))\n",
    "print('micro avg                              {}'.format(round(f1_score(y_test, test_pred, average='micro'),2)))"
   ]
  },
  {
   "cell_type": "code",
   "execution_count": 107,
   "metadata": {},
   "outputs": [
    {
     "name": "stdout",
     "output_type": "stream",
     "text": [
      "              precision    recall  f1-score   support\n",
      "\n",
      "           0       1.00      1.00      1.00       116\n",
      "           1       1.00      1.00      1.00       160\n",
      "           2       1.00      1.00      1.00       538\n",
      "\n",
      "    accuracy                           1.00       814\n",
      "   macro avg       1.00      1.00      1.00       814\n",
      "weighted avg       1.00      1.00      1.00       814\n",
      "\n",
      "micro avg                              1.0\n"
     ]
    }
   ],
   "source": [
    "# training set performance\n",
    "train_pred = modfit.predict(X_train)\n",
    "print(classification_report(y_train, train_pred))\n",
    "print('micro avg                              {}'.format(round(f1_score(y_train, train_pred, average='micro'),2)))"
   ]
  },
  {
   "cell_type": "markdown",
   "metadata": {},
   "source": [
    "### F Test at p <= 0.001 Cutoff"
   ]
  },
  {
   "cell_type": "code",
   "execution_count": 108,
   "metadata": {},
   "outputs": [],
   "source": [
    "features = ['netspeak_focus', 'active', 'power_driven', 'health_oriented']\n",
    "\n",
    "X_train = train[features]\n",
    "X_test = test[features]"
   ]
  },
  {
   "cell_type": "code",
   "execution_count": 109,
   "metadata": {},
   "outputs": [
    {
     "name": "stdout",
     "output_type": "stream",
     "text": [
      "ovo_lr: Cross validation f1 micro is 0.5526046371574828.\n",
      "ovo_lr: Test f1 micro is 0.49714285714285716\n",
      "ovo_svc: Cross validation f1 micro is 0.5452423968684131.\n",
      "ovo_svc: Test f1 micro is 0.46285714285714286\n",
      "ovo_rf: Cross validation f1 micro is 0.6535230352303524.\n",
      "ovo_rf: Test f1 micro is 0.6257142857142857\n",
      "ovo_nb: Cross validation f1 micro is 0.6607648298705209.\n",
      "ovo_nb: Test f1 micro is 0.6314285714285715\n",
      "ovr_lr: Cross validation f1 micro is 0.5710930442637759.\n",
      "ovr_lr: Test f1 micro is 0.5228571428571429\n",
      "ovr_svc: Cross validation f1 micro is 0.563745859680819.\n",
      "ovr_svc: Test f1 micro is 0.5057142857142857\n",
      "ovr_rf: Cross validation f1 micro is 0.6425624811803674.\n",
      "ovr_rf: Test f1 micro is 0.62\n",
      "ovr_nb: Cross validation f1 micro is 0.6607798855766336.\n",
      "ovr_nb: Test f1 micro is 0.6085714285714285\n",
      "xgb: Cross validation f1 micro is 0.6645137006925625.\n",
      "xgb: Test f1 micro is 0.62\n"
     ]
    }
   ],
   "source": [
    "for mod, modname in zip([onevsone_lr, onevsone_svc, onevsone_rf, onevsone_nb, onevsrest_lr, onevsrest_svc, onevsrest_rf,\n",
    "                         onevsrest_nb, xgb],\n",
    "                        ['ovo_lr', 'ovo_svc', 'ovo_rf', 'ovo_nb', 'ovr_lr', 'ovr_svc', 'ovr_rf', 'ovr_nb', 'xgb']):\n",
    "    \n",
    "    score = cross_val_score(mod, X_train, y_train, cv=10, scoring='f1_micro')\n",
    "    print('{}: Cross validation f1 micro is {}.'.format(modname, score.mean()))\n",
    "    \n",
    "    modfit = mod.fit(X_train, y_train)\n",
    "    test_pred = modfit.predict(X_test)\n",
    "    print('{}: Test f1 micro is {}'.format(modname, f1_score(y_test, test_pred, average='micro')))"
   ]
  },
  {
   "cell_type": "code",
   "execution_count": 83,
   "metadata": {
    "scrolled": true
   },
   "outputs": [
    {
     "name": "stdout",
     "output_type": "stream",
     "text": [
      "              precision    recall  f1-score   support\n",
      "\n",
      "           0       0.64      0.71      0.67       231\n",
      "           1       0.67      0.66      0.67       231\n",
      "           2       0.63      0.56      0.59       231\n",
      "\n",
      "    accuracy                           0.65       693\n",
      "   macro avg       0.64      0.65      0.64       693\n",
      "weighted avg       0.64      0.65      0.64       693\n",
      "\n",
      "micro avg                              0.65\n"
     ]
    }
   ],
   "source": [
    "mod = onevsrest_rf\n",
    "modfit = mod.fit(X_train, y_train)\n",
    "test_pred = modfit.predict(X_test)\n",
    "print(classification_report(y_test, test_pred))\n",
    "print('micro avg                              {}'.format(round(f1_score(y_test, test_pred, average='micro'),2)))"
   ]
  },
  {
   "cell_type": "code",
   "execution_count": null,
   "metadata": {},
   "outputs": [],
   "source": []
  },
  {
   "cell_type": "code",
   "execution_count": null,
   "metadata": {},
   "outputs": [],
   "source": []
  }
 ],
 "metadata": {
  "kernelspec": {
   "display_name": "Python 3",
   "language": "python",
   "name": "python3"
  },
  "language_info": {
   "codemirror_mode": {
    "name": "ipython",
    "version": 3
   },
   "file_extension": ".py",
   "mimetype": "text/x-python",
   "name": "python",
   "nbconvert_exporter": "python",
   "pygments_lexer": "ipython3",
   "version": "3.6.5"
  }
 },
 "nbformat": 4,
 "nbformat_minor": 2
}
